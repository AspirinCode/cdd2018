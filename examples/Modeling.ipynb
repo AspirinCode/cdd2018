{
 "cells": [
  {
   "cell_type": "markdown",
   "metadata": {},
   "source": [
    "# How to be a great modeler\n",
    "\n",
    "Don't look at import if you want to have a fun"
   ]
  },
  {
   "cell_type": "code",
   "execution_count": 1,
   "metadata": {},
   "outputs": [],
   "source": [
    "from rdkit import Chem\n",
    "from rdkit.Chem import rdMolDescriptors\n",
    "\n",
    "import numpy as np\n",
    "\n",
    "from sklearn import svm\n",
    "from sklearn import ensemble\n",
    "from sklearn import model_selection as ms\n",
    "from sklearn.metrics import mean_squared_error\n",
    "\n",
    "import matplotlib.pyplot as plt"
   ]
  },
  {
   "cell_type": "markdown",
   "metadata": {},
   "source": [
    "## Intermezzo\n",
    "\n",
    "We used fingerprints, physico-chemical properties and other descriptors, but today we will try MQNs.\n",
    "What are they? Nothing but counts."
   ]
  },
  {
   "cell_type": "code",
   "execution_count": 2,
   "metadata": {},
   "outputs": [
    {
     "name": "stdout",
     "output_type": "stream",
     "text": [
      "[20, 0, 0, 0, 0, 0, 0, 1, 0, 4, 0, 25, 12, 2, 0, 6, 6, 0, 7, 9, 5, 1, 1, 0, 0, 5, 5, 3, 0, 8, 4, 0, 0, 0, 0, 2, 0, 0, 0, 0, 0, 0]\n"
     ]
    }
   ],
   "source": [
    "mol = Chem.MolFromSmiles('O=C(OCC(=O)N(CCC)C/C1=C/C=C(/C)C=C1)C2=CC=CC(O)=C2')\n",
    "MQN = rdMolDescriptors.MQNs_(mol)\n",
    "print(MQN)"
   ]
  },
  {
   "cell_type": "markdown",
   "metadata": {},
   "source": [
    "#### MQNs\n",
    "\n",
    "1. c (carbon)\n",
    "2. f (fluorine) \n",
    "3. cl (chlorine) \n",
    "4. br (bromine) \n",
    "5. i (iodine) \n",
    "6. s (sulfur) \n",
    "7. p (phosphorous)\n",
    "8. an (acyclic nitrogen)\n",
    "9. cn (cyclic nitrogen) \n",
    "10. ao (acyclic oxygen) \n",
    "11. co (cyclic oxygen) \n",
    "12. hac (heavy atoms)[a] \n",
    "13. asb (acyclic single bonds) \n",
    "14. adb (acyclic double bonds) \n",
    "15. atb (acyclic triple bonds) \n",
    "16. csb (cyclic single bonds) \n",
    "17. cdb (cyclic double bonds) \n",
    "18. ctb (cyclic triple bonds) \n",
    "19. rbc (rotatable bonds) \n",
    "20. hbam (H-bond acceptor sites)\n",
    "21. hba (H-bond acceptor atoms)\n",
    "22. hbdm (H-bond donor sites)\n",
    "23. hbd (H-bond donor atoms)\n",
    "24. negc (negative charges)[b]\n",
    "25. posc (positive charges)[b]\n",
    "26. asv (acyclic single valent nodes)\n",
    "27. adv (acyclic divalent nodes)\n",
    "28. atv (acyclic trivalent nodes)\n",
    "29. aqv (acyclic tetravalent nodes)\n",
    "30. cdv (cyclic divalent nodes)\n",
    "31. ctv (cyclic trivalent nodes)\n",
    "32. cqv (cyclic tetravalent nodes)\n",
    "33. r3 (3-membered rings)\n",
    "34. r4 (4-membered rings)\n",
    "35. r5 (5-membered rings)\n",
    "36. r6 (6-membered rings)\n",
    "37. r7 (7-membered rings)\n",
    "38. r8 (8-membered rings)\n",
    "39. r9 (9-membered rings)\n",
    "40. rg10 (>=10-membered rings)\n",
    "41. afrc (nodes shared by >=2 rings)\n",
    "42. bfrc (edges shared by >=2 rings)\n",
    "\n",
    "### End of intermezzo"
   ]
  },
  {
   "cell_type": "markdown",
   "metadata": {},
   "source": [
    "## Let's prepare drugbank"
   ]
  },
  {
   "cell_type": "code",
   "execution_count": 3,
   "metadata": {},
   "outputs": [],
   "source": [
    "drugbank = [m for m in Chem.SDMolSupplier(\"../data/drugbank.sdf\") if m]\n",
    "mqns = [rdMolDescriptors.MQNs_(m) for m in drugbank]"
   ]
  },
  {
   "cell_type": "markdown",
   "metadata": {},
   "source": [
    "## Ehm, not today as we can't train anything on drugbank\n",
    "Well, we can maybe but who has measured values (or how to get them and not steal)\n",
    "\n",
    "But we have activities for some serotonin receptor. (You can guess where did I download them from?)\n",
    "\n",
    "It is small so we can read them into out precious memory."
   ]
  },
  {
   "cell_type": "code",
   "execution_count": 4,
   "metadata": {},
   "outputs": [],
   "source": [
    "data_file = open(\"../data/serotonin_2a_IC50.csv\")\n",
    "data_file.readline()\n",
    "def splitter(line):\n",
    "    spls = line.strip().split(\"\\t\")\n",
    "    return (spls[0],Chem.MolFromSmiles(spls[5]),float(spls[7]))\n",
    "mols = [splitter(line) for line in data_file]"
   ]
  },
  {
   "cell_type": "code",
   "execution_count": 5,
   "metadata": {},
   "outputs": [],
   "source": [
    "mqns = [rdMolDescriptors.MQNs_(m[1]) for m in mols]\n",
    "vals = [m[2] for m in mols]"
   ]
  },
  {
   "cell_type": "markdown",
   "metadata": {},
   "source": [
    "## We want to predict values so we use some regression model\n",
    "\n",
    "We start with SVM what is said to be gold standard"
   ]
  },
  {
   "cell_type": "code",
   "execution_count": 6,
   "metadata": {},
   "outputs": [
    {
     "data": {
      "text/plain": [
       "SVR(C=1.0, cache_size=200, coef0=0.0, degree=3, epsilon=0.1, gamma='auto',\n",
       "  kernel='rbf', max_iter=-1, shrinking=True, tol=0.001, verbose=False)"
      ]
     },
     "execution_count": 6,
     "metadata": {},
     "output_type": "execute_result"
    }
   ],
   "source": [
    "clf = svm.SVR()\n",
    "clf.fit(mqns, vals)"
   ]
  },
  {
   "cell_type": "markdown",
   "metadata": {},
   "source": [
    "What is our prediction?"
   ]
  },
  {
   "cell_type": "code",
   "execution_count": 7,
   "metadata": {},
   "outputs": [
    {
     "data": {
      "text/plain": [
       "(array([28.35163602]), 940.0)"
      ]
     },
     "execution_count": 7,
     "metadata": {},
     "output_type": "execute_result"
    }
   ],
   "source": [
    "clf.predict(mqns[:1]),vals[0]"
   ]
  },
  {
   "cell_type": "markdown",
   "metadata": {},
   "source": [
    "Horrible!!! It can't be right!\n",
    "\n",
    "Do it for every compound and check if it is just outlier"
   ]
  },
  {
   "cell_type": "code",
   "execution_count": 8,
   "metadata": {},
   "outputs": [],
   "source": [
    "# Our old good function to display points\n",
    "def plot(X, *args, highlights=set()):\n",
    "    fig = plt.figure()\n",
    "    #ax = plt.subplot(111)\n",
    "    for i, point in enumerate(X):\n",
    "        x,y = point\n",
    "        if i in highlights:\n",
    "            plt.plot([x],[y],\"r.\", markersize=4)\n",
    "        else:\n",
    "            plt.plot([x],[y],\"k.\", markersize=1)\n",
    "    plt.show()"
   ]
  },
  {
   "cell_type": "code",
   "execution_count": 9,
   "metadata": {},
   "outputs": [
    {
     "data": {
      "image/png": "[encoded data removed]",
      "text/plain": [
       "<Figure size 432x288 with 1 Axes>"
      ]
     },
     "metadata": {},
     "output_type": "display_data"
    }
   ],
   "source": [
    "preds = clf.predict(mqns)\n",
    "plot(zip(preds,vals))"
   ]
  },
  {
   "cell_type": "markdown",
   "metadata": {},
   "source": [
    "Could it be a wrong model? Random forest is another gold standard."
   ]
  },
  {
   "cell_type": "code",
   "execution_count": 10,
   "metadata": {},
   "outputs": [
    {
     "data": {
      "text/plain": [
       "RandomForestRegressor(bootstrap=True, criterion='mse', max_depth=None,\n",
       "           max_features='auto', max_leaf_nodes=None,\n",
       "           min_impurity_decrease=0.0, min_impurity_split=None,\n",
       "           min_samples_leaf=1, min_samples_split=2,\n",
       "           min_weight_fraction_leaf=0.0, n_estimators=10, n_jobs=1,\n",
       "           oob_score=False, random_state=None, verbose=0, warm_start=False)"
      ]
     },
     "execution_count": 10,
     "metadata": {},
     "output_type": "execute_result"
    }
   ],
   "source": [
    "clf2 = ensemble.RandomForestRegressor()\n",
    "clf2.fit(mqns, vals)"
   ]
  },
  {
   "cell_type": "code",
   "execution_count": 11,
   "metadata": {},
   "outputs": [
    {
     "data": {
      "image/png": "[encoded data removed]",
      "text/plain": [
       "<Figure size 432x288 with 1 Axes>"
      ]
     },
     "metadata": {},
     "output_type": "display_data"
    }
   ],
   "source": [
    "preds2 = clf2.predict(mqns)\n",
    "plot(zip(preds2,vals))"
   ]
  },
  {
   "cell_type": "markdown",
   "metadata": {},
   "source": [
    "Well, I feel this is more reasonable, but somewhere over the rainbow, blue birds say to use pIC50 instead of IC50."
   ]
  },
  {
   "cell_type": "code",
   "execution_count": 12,
   "metadata": {},
   "outputs": [],
   "source": [
    "s = lambda x : -1.0 * np.log10(x / 1.0e9)\n",
    "pvals = [s(val) for val in vals]"
   ]
  },
  {
   "cell_type": "code",
   "execution_count": 13,
   "metadata": {},
   "outputs": [],
   "source": [
    "clf3 = ensemble.RandomForestRegressor()\n",
    "clf3.fit(mqns, pvals)\n",
    "preds3 = clf3.predict(mqns)"
   ]
  },
  {
   "cell_type": "code",
   "execution_count": 14,
   "metadata": {},
   "outputs": [
    {
     "data": {
      "image/png": "[encoded data removed]",
      "text/plain": [
       "<Figure size 432x288 with 1 Axes>"
      ]
     },
     "metadata": {},
     "output_type": "display_data"
    }
   ],
   "source": [
    "plot(zip(preds3,pvals))"
   ]
  },
  {
   "cell_type": "markdown",
   "metadata": {},
   "source": [
    "Looks nice, but we need some hard numbers to test if it is really nice.\n",
    "\n",
    "Hups, we don't have testset.\n",
    "\n",
    "## So, again and better"
   ]
  },
  {
   "cell_type": "code",
   "execution_count": 15,
   "metadata": {},
   "outputs": [
    {
     "data": {
      "text/plain": [
       "(226, 76)"
      ]
     },
     "execution_count": 15,
     "metadata": {},
     "output_type": "execute_result"
    }
   ],
   "source": [
    "# Can't work with generators\n",
    "trainset, testset = ms.train_test_split(list(zip(mols,mqns,pvals)))\n",
    "len(trainset), len(testset)"
   ]
  },
  {
   "cell_type": "code",
   "execution_count": 16,
   "metadata": {},
   "outputs": [
    {
     "data": {
      "text/plain": [
       "RandomForestRegressor(bootstrap=True, criterion='mse', max_depth=None,\n",
       "           max_features='auto', max_leaf_nodes=None,\n",
       "           min_impurity_decrease=0.0, min_impurity_split=None,\n",
       "           min_samples_leaf=1, min_samples_split=2,\n",
       "           min_weight_fraction_leaf=0.0, n_estimators=10, n_jobs=1,\n",
       "           oob_score=False, random_state=None, verbose=0, warm_start=False)"
      ]
     },
     "execution_count": 16,
     "metadata": {},
     "output_type": "execute_result"
    }
   ],
   "source": [
    "good_model = ensemble.RandomForestRegressor()\n",
    "good_model.fit([mqn for m,mqn,val in trainset],[val for m,mqn,val in trainset])"
   ]
  },
  {
   "cell_type": "code",
   "execution_count": 17,
   "metadata": {},
   "outputs": [
    {
     "data": {
      "image/png": "[encoded data removed]",
      "text/plain": [
       "<Figure size 432x288 with 1 Axes>"
      ]
     },
     "metadata": {},
     "output_type": "display_data"
    }
   ],
   "source": [
    "test_predictions = good_model.predict([mqn for m,mqn,val in testset])\n",
    "plot(zip(test_predictions,[val for m,mqn,val in testset]))"
   ]
  },
  {
   "cell_type": "markdown",
   "metadata": {},
   "source": [
    "Here are the numbers:"
   ]
  },
  {
   "cell_type": "code",
   "execution_count": 18,
   "metadata": {},
   "outputs": [
    {
     "name": "stdout",
     "output_type": "stream",
     "text": [
      "R^2: 0.61\n",
      "R: 0.78\n",
      "MSE: 0.44\n"
     ]
    }
   ],
   "source": [
    "print(\"R^2: %0.2f\" % good_model.score([mqn for m,mqn,val in testset], [val for m,mqn,val in testset]))\n",
    "print(\"R: %0.2f\" % np.sqrt(good_model.score([mqn for m,mqn,val in testset], [val for m,mqn,val in testset])))\n",
    "print(\"MSE: %0.2f\" %  mean_squared_error(good_model.predict([mqn for m,mqn,val in testset]), [val for m,mqn,val in testset]))"
   ]
  },
  {
   "cell_type": "markdown",
   "metadata": {},
   "source": [
    "This is a life!\n",
    "\n",
    "Nop, we just have to play more with our data and model(s), e.g. try more descriptors and do some cross-validation to select best parameters for model.\n",
    "\n",
    "See rdkit.Descriptors.descList\n",
    "\n",
    "### But even with this bad model, you can predict how active are compounds in drugbank, but don't forget garbage in, garbage out!"
   ]
  },
  {
   "cell_type": "code",
   "execution_count": null,
   "metadata": {},
   "outputs": [],
   "source": []
  }
 ],
 "metadata": {
  "kernelspec": {
   "display_name": "Python 3",
   "language": "python",
   "name": "python3"
  },
  "language_info": {
   "codemirror_mode": {
    "name": "ipython",
    "version": 3
   },
   "file_extension": ".py",
   "mimetype": "text/x-python",
   "name": "python",
   "nbconvert_exporter": "python",
   "pygments_lexer": "ipython3",
   "version": "3.6.5"
  }
 },
 "nbformat": 4,
 "nbformat_minor": 2
}
