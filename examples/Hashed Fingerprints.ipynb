{
 "cells": [
  {
   "cell_type": "code",
   "execution_count": 1,
   "metadata": {},
   "outputs": [],
   "source": [
    "from rdkit import Chem\n",
    "from rdkit.Chem import Draw\n",
    "drugbank_input = Chem.SDMolSupplier('../data/drugbank.sdf')\n",
    "drugbank = [m for m in drugbank_input if m]"
   ]
  },
  {
   "cell_type": "markdown",
   "metadata": {},
   "source": [
    "# Hashed fingerprints\n",
    "A vector of binary values representing the presence of fragments in a molecule, much like structural keys.\n",
    "The main difference is how they are created. The bits do not represent a pre-selected set of strucural patterns, but are generated algorithmically. This removes the burden of manual feature selection and allows for much greater generality, at the price of reduced interpretability.\n",
    "\n",
    "more info:\n",
    "\n",
    "https://docs.chemaxon.com/display/docs/Chemical+Hashed+Fingerprint\n",
    "\n",
    "http://www.daylight.com/dayhtml/doc/theory/theory.finger.html"
   ]
  },
  {
   "cell_type": "markdown",
   "metadata": {},
   "source": [
    "## Morgan fingerprints\n",
    "Frequently used, they are the vanilla flavor of structural fingerprints.\n",
    "\n",
    "https://docs.chemaxon.com/display/docs/Extended+Connectivity+Fingerprint+ECFP"
   ]
  },
  {
   "cell_type": "code",
   "execution_count": 12,
   "metadata": {},
   "outputs": [],
   "source": [
    "from rdkit.Chem import AllChem\n",
    "morgan_fps = [AllChem.GetMorganFingerprintAsBitVect(m, 2, nBits=512) for m in drugbank]"
   ]
  },
  {
   "cell_type": "markdown",
   "metadata": {},
   "source": [
    "## Pattern analysis of DrugBank\n",
    "### Fingerprint density"
   ]
  },
  {
   "cell_type": "code",
   "execution_count": 15,
   "metadata": {},
   "outputs": [
    {
     "data": {
      "text/plain": [
       "512"
      ]
     },
     "execution_count": 15,
     "metadata": {},
     "output_type": "execute_result"
    }
   ],
   "source": [
    "fp_default_length = morgan_fps[0].GetNumBits()\n",
    "fp_default_length"
   ]
  },
  {
   "cell_type": "code",
   "execution_count": 24,
   "metadata": {},
   "outputs": [
    {
     "data": {
      "text/plain": [
       "38.89127988748242"
      ]
     },
     "execution_count": 24,
     "metadata": {},
     "output_type": "execute_result"
    }
   ],
   "source": [
    "on_bit_counts = [len(fp.GetOnBits()) for fp in morgan_fps]\n",
    "sum(on_bit_counts) / len(on_bit_counts)"
   ]
  },
  {
   "cell_type": "markdown",
   "metadata": {},
   "source": [
    "... so, average fp density in drugbank for Morgan fp with radius of 2 and size of 512 is cca 39 bits set to true on average. What if we double the fingerprint size?"
   ]
  },
  {
   "cell_type": "code",
   "execution_count": 25,
   "metadata": {},
   "outputs": [
    {
     "data": {
      "text/plain": [
       "39.79535864978903"
      ]
     },
     "execution_count": 25,
     "metadata": {},
     "output_type": "execute_result"
    }
   ],
   "source": [
    "morgan_fps_1024 = [AllChem.GetMorganFingerprintAsBitVect(m, 2, nBits=1024) for m in drugbank]\n",
    "on_bit_counts = [len(fp.GetOnBits()) for fp in morgan_fps_1024]\n",
    "sum(on_bit_counts) / len(on_bit_counts)"
   ]
  },
  {
   "cell_type": "markdown",
   "metadata": {},
   "source": [
    "even though we doubled the fingerprint size, we have very similar average amounts of bits set to true - meaning that with all other things are equal, doubling the fingerprint size means roughly halving the fingerprint density. Less dense fingerprints have lesser amount of bit collision (and thus higher 'resolution'), but they also tend to be harder to store and process. Let's do a very bad fingerprint of size just 10:"
   ]
  },
  {
   "cell_type": "code",
   "execution_count": 26,
   "metadata": {},
   "outputs": [
    {
     "data": {
      "text/plain": [
       "9.50632911392405"
      ]
     },
     "execution_count": 26,
     "metadata": {},
     "output_type": "execute_result"
    }
   ],
   "source": [
    "morgan_fps_10 = [AllChem.GetMorganFingerprintAsBitVect(m, 2, nBits=10) for m in drugbank]\n",
    "on_bit_counts = [len(fp.GetOnBits()) for fp in morgan_fps_10]\n",
    "sum(on_bit_counts) / len(on_bit_counts)"
   ]
  },
  {
   "cell_type": "markdown",
   "metadata": {},
   "source": [
    "... on average, 9.5 bits set to true on 10 bit fingerprint - it's a bit collision fiesta! Of course, such a fingerprint is useless. Too large hashed fingerprints are equally useless - once their size exceeds the count of all possible fragments (with a radius 2 in this case), you might as well use a structural key. Not to mention the size! "
   ]
  },
  {
   "cell_type": "code",
   "execution_count": 30,
   "metadata": {},
   "outputs": [
    {
     "name": "stdout",
     "output_type": "stream",
     "text": [
      "174 96\n",
      "356 5667\n"
     ]
    }
   ],
   "source": [
    "bit_aggregation = [0]*fp_default_length\n",
    "for fp in morgan_fps:\n",
    "    for bit in fp.GetOnBits():\n",
    "        bit_aggregation[bit] += 1\n",
    "least_set_amount = min(bit_aggregation)\n",
    "least_set_bit = bit_aggregation.index(least_set_amount)\n",
    "most_set_amount = max(bit_aggregation)\n",
    "most_set_bit = bit_aggregation.index(most_set_amount)\n",
    "print(least_set_bit, least_set_amount)\n",
    "print(most_set_bit, most_set_amount)"
   ]
  },
  {
   "cell_type": "markdown",
   "metadata": {},
   "source": [
    "let's try to find the patterns behind the most frequent on bit:"
   ]
  },
  {
   "cell_type": "code",
   "execution_count": 61,
   "metadata": {},
   "outputs": [],
   "source": [
    "def bit2smiles(mol, bit):\n",
    "    bitinfo = {}\n",
    "    AllChem.GetMorganFingerprintAsBitVect(mol, 2, nBits=512, bitInfo=bitinfo)\n",
    "    fragments = set()\n",
    "    for hit, radius in bitinfo.get(bit, []):\n",
    "        if radius > 0:\n",
    "            hit_atoms = Chem.FindAtomEnvironmentOfRadiusN(mol, radius, hit)\n",
    "            submol = Chem.PathToSubmol(mol, hit_atoms)\n",
    "            fragment_smiles = Chem.MolToSmiles(submol)\n",
    "        else:\n",
    "            fragment_smiles = mol.GetAtomWithIdx(hit).GetSymbol()\n",
    "        fragments.add(fragment_smiles)\n",
    "    return fragments"
   ]
  },
  {
   "cell_type": "code",
   "execution_count": 67,
   "metadata": {},
   "outputs": [],
   "source": [
    "def explain_bit(molecules, bit):\n",
    "    fragments = {}\n",
    "    for mol in molecules:\n",
    "        for fragment in bit2smiles(mol, bit):\n",
    "            fragments[fragment] = fragments.get(fragment, 0) + 1\n",
    "    return fragments"
   ]
  },
  {
   "cell_type": "code",
   "execution_count": 68,
   "metadata": {},
   "outputs": [
    {
     "data": {
      "text/plain": [
       "{'C': 5638,\n",
       " 'C=CCC(C)[NH3+]': 2,\n",
       " 'C=Cc(cc)nc': 1,\n",
       " 'C=Cc(cc)sc': 2,\n",
       " 'C=Cc(n)n': 1,\n",
       " 'C=NC(N)=NC': 2,\n",
       " 'CC(=O)NC(C)C': 8,\n",
       " 'CC(C)(C)CC(C)(C)O': 1,\n",
       " 'CC(C)(c)CC[NH3+]': 1,\n",
       " 'CC(C)=CC(C)O': 1,\n",
       " 'CC(C)CC(C)N': 1,\n",
       " 'CC(C)CC(C)O': 1,\n",
       " 'CC(C)O': 63,\n",
       " 'CC(N)C(=O)N(C)C': 1,\n",
       " 'CC(O)C(C)C(c)O': 1,\n",
       " 'CCC(C)C(=O)O': 1,\n",
       " 'CCC(CC)C(C)C': 1,\n",
       " 'CCC(CN)NC': 1,\n",
       " 'CCC(O)C(C)N': 3,\n",
       " 'CCCC(C)N': 8,\n",
       " 'CCSC(C)N': 1,\n",
       " 'CCc': 1,\n",
       " 'CN(c)C(=O)C(C)(C)N': 1,\n",
       " 'CP(=O)(O)OP(=O)(O)O': 3,\n",
       " 'Ca': 1,\n",
       " 'cCC': 4,\n",
       " 'cN=C(CN)CO': 1,\n",
       " 'cNC(=O)C(C)N': 1,\n",
       " 'cc(-c)sc(c)Br': 1,\n",
       " 'cc(C)c(C(C)=O)c(c)O': 1,\n",
       " 'cc(C)c(C(N)=O)c(c)N': 1,\n",
       " 'cc(C)c[n+](c)C': 10,\n",
       " 'cc(C)o': 1,\n",
       " 'cc(N)nc(c)O': 1,\n",
       " 'cc(c)-c(c(c)[nH])c(c)[nH]': 1,\n",
       " 'cc(c)C(CC)(C(C)=O)c(c)c': 1,\n",
       " 'cc(c)C(Cc)c(c)n': 1,\n",
       " 'cc(c)O[Bi](O)O': 1,\n",
       " 'cc(c)nc([nH])N': 1,\n",
       " 'cc(n)[O-]': 2,\n",
       " 'ccc(-c(c)c)c(-c)n': 2,\n",
       " 'ccc(Br)c(c)O': 2,\n",
       " 'ccc(C)c(c)N': 1,\n",
       " 'ccc(OC)c(c)C': 4,\n",
       " 'ccc(OC)c(c)O': 42,\n",
       " 'ccc(OC)c(c)c': 1,\n",
       " 'ccc(Oc)c(c)N': 2,\n",
       " 'ccc(c(c)s)[n+](c)[O-]': 1,\n",
       " 'cccc(C)n': 1,\n",
       " 'cccsc': 4,\n",
       " 'cnc(Cc)n(c)C': 13,\n",
       " 'cnc(Cl)c(C)n': 1,\n",
       " 'cnc(cn)CO': 2,\n",
       " 'cnc(nc)OC': 2,\n",
       " 'con(CC)c([nH])=O': 1,\n",
       " 'conc(c)C': 7,\n",
       " 'csc(S)nn': 3}"
      ]
     },
     "execution_count": 68,
     "metadata": {},
     "output_type": "execute_result"
    }
   ],
   "source": [
    "explain_bit(drugbank, 356)"
   ]
  },
  {
   "cell_type": "code",
   "execution_count": 69,
   "metadata": {},
   "outputs": [
    {
     "data": {
      "text/plain": [
       "{'C=C(C)CC(C)Cl': 1,\n",
       " 'C=C(C)Cc(c)c': 1,\n",
       " 'C=C(C)S[Mo](=O)([O-])S': 1,\n",
       " 'C=CCC(C)C': 3,\n",
       " 'C=N(C)~[Co+](O)(N(C)C)(~N(=C)C)(~N(=C)C)~n(c)c': 1,\n",
       " 'C=NCC(C)C': 1,\n",
       " 'C=[N+](C)CC': 1,\n",
       " 'CC(=O)N(C)C(C)C': 1,\n",
       " 'CC(=O)OC(C)C': 2,\n",
       " 'CC(C)(C)O': 1,\n",
       " 'CC(C)C(C(N)=O)C(c)O': 1,\n",
       " 'CC(C)OCn': 2,\n",
       " 'CC(N)C(F)(F)CN': 1,\n",
       " 'CC(O)CCN': 1,\n",
       " 'CC(S)=NC(C)C': 1,\n",
       " 'CC(c)=NO': 1,\n",
       " 'CC=CCO': 3,\n",
       " 'CC=CN(C)C': 1,\n",
       " 'CCC(N)C(=O)O': 1,\n",
       " 'CCN(CC)C(C)C': 4,\n",
       " 'CCOP(N)(N)=O': 1,\n",
       " 'CN(C)C(=O)C(c)(c)C': 1,\n",
       " 'COC(C(C)C)C(C)C': 1,\n",
       " 'COC(C(C)O)C(O)O': 1,\n",
       " 'COC(CO)C(C)O': 1,\n",
       " 'COCC(N)=O': 2,\n",
       " 'CSC(=C(C)N)C(C)C': 3,\n",
       " 'CSCC(F)(F)F': 1,\n",
       " 'C[N+](=O)[O-]': 2,\n",
       " 'N#CN': 1,\n",
       " 'cC(=O)CN(C)C': 2,\n",
       " 'cC(C)=NO': 1,\n",
       " 'cOC(C(C)O)C(C)(C)c': 2,\n",
       " 'c[nH]c(=CC)c(c)C': 1,\n",
       " 'cc(C)c(F)c(c)F': 1,\n",
       " 'cc(N)cc(c)c': 11,\n",
       " 'cc(O)c(c(c)c)n(c)C': 3,\n",
       " 'cc(c)C(CC)C(C)N': 1,\n",
       " 'cc(c)C(Cc)C(C)N': 2,\n",
       " 'cc(c)S(=O)(=O)N(C)C': 7,\n",
       " 'cc(n)C(=NC)NC': 1,\n",
       " 'cc(n)nc(C)n': 2,\n",
       " 'ccc(B(O)O)c(c)C': 2,\n",
       " 'ccc(C(N)=O)c(c)C': 7,\n",
       " 'ccc(C(N)=O)c(c)[NH3+]': 2,\n",
       " 'ccc(Cc)n(c)C': 1,\n",
       " 'ccc(c(c)C)-n(c)c': 4,\n",
       " 'ccc(c(c)Cl)C(C)S': 1,\n",
       " 'ccc(c(c)O)c(c)s': 1,\n",
       " 'ccc(cn)-c(c)n': 1}"
      ]
     },
     "execution_count": 69,
     "metadata": {},
     "output_type": "execute_result"
    }
   ],
   "source": [
    "explain_bit(drugbank, 174)"
   ]
  },
  {
   "cell_type": "markdown",
   "metadata": {},
   "source": [
    "In conclusion, this particular fingerprint covers all possible fragments up to radius of 2 atoms, and compresses the information about their presence into 512 bits. Therefore, one bit can represent many different fragments. Determining the structures of the actual fragment responsible for a given set bit is possible, but it takes a bit of work. "
   ]
  },
  {
   "cell_type": "markdown",
   "metadata": {},
   "source": [
    "## Similarity search\n",
    "Done exactly the same way as on the structural key notebook from the last lecture."
   ]
  },
  {
   "cell_type": "code",
   "execution_count": 74,
   "metadata": {},
   "outputs": [
    {
     "data": {
      "text/plain": [
       "(7110, 0.0, 1.0)"
      ]
     },
     "execution_count": 74,
     "metadata": {},
     "output_type": "execute_result"
    }
   ],
   "source": [
    "from rdkit import DataStructs\n",
    "salicylica = Chem.MolFromSmiles(\"c1ccc(c(c1)C(=O)O)O\")\n",
    "salicylica_fp = AllChem.GetMorganFingerprintAsBitVect(salicylica, 2, nBits=512)\n",
    "salicylica_similarities = [DataStructs.FingerprintSimilarity(salicylica_fp, mol_fp)\n",
    "                           for mol_fp in morgan_fps]\n",
    "len(salicylica_similarities), min(salicylica_similarities), max(salicylica_similarities)"
   ]
  },
  {
   "cell_type": "code",
   "execution_count": 83,
   "metadata": {},
   "outputs": [
    {
     "data": {
      "image/png": "[encoded data removed]",
      "text/plain": [
       "<PIL.PngImagePlugin.PngImageFile image mode=RGB size=900x300 at 0x7FADE12864A8>"
      ]
     },
     "execution_count": 83,
     "metadata": {},
     "output_type": "execute_result"
    }
   ],
   "source": [
    "match_indexes = [i for i, similarity in enumerate(salicylica_similarities) if similarity >= 0.7]\n",
    "Draw.MolsToGridImage([drugbank[i] for i in match_indexes[:9]], subImgSize=(300, 300))"
   ]
  },
  {
   "cell_type": "markdown",
   "metadata": {},
   "source": [
    "## Diversity picking\n",
    "Fingerprints are also sometimes used to pick diverse subsets of molecules out of a bigger set. Drugbank has over 7000 molecules, let's say we want a set of 20 molecules from Drugbank that best represents its chemical variety."
   ]
  },
  {
   "cell_type": "code",
   "execution_count": 90,
   "metadata": {},
   "outputs": [],
   "source": [
    "from rdkit.SimDivFilters.rdSimDivPickers import MaxMinPicker\n",
    "\n",
    "def distance_function(index1, index2, *args, fingerprints=morgan_fps):\n",
    "    return 1 - DataStructs.FingerprintSimilarity(fingerprints[index1], fingerprints[index2])"
   ]
  },
  {
   "cell_type": "code",
   "execution_count": 91,
   "metadata": {
    "scrolled": false
   },
   "outputs": [
    {
     "data": {
      "image/png": "[encoded data removed]",
      "text/plain": [
       "<PIL.PngImagePlugin.PngImageFile image mode=RGB size=900x2100 at 0x7FADE129BE80>"
      ]
     },
     "execution_count": 91,
     "metadata": {},
     "output_type": "execute_result"
    }
   ],
   "source": [
    "picker = MaxMinPicker()\n",
    "picked = picker.LazyPick(distance_function, len(morgan_fps), 20, seed=666)\n",
    "Draw.MolsToGridImage([drugbank[i] for i in picked], subImgSize=(300, 300))"
   ]
  }
 ],
 "metadata": {
  "kernelspec": {
   "display_name": "Python 3",
   "language": "python",
   "name": "python3"
  },
  "language_info": {
   "codemirror_mode": {
    "name": "ipython",
    "version": 3
   },
   "file_extension": ".py",
   "mimetype": "text/x-python",
   "name": "python",
   "nbconvert_exporter": "python",
   "pygments_lexer": "ipython3",
   "version": "3.6.4"
  }
 },
 "nbformat": 4,
 "nbformat_minor": 2
}
