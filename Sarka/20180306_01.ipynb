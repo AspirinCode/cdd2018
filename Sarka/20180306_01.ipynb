{
 "cells": [
  {
   "cell_type": "code",
   "execution_count": 19,
   "metadata": {},
   "outputs": [],
   "source": [
    "from rdkit import Chem\n",
    "from rdkit.Chem import Draw"
   ]
  },
  {
   "cell_type": "code",
   "execution_count": 3,
   "metadata": {},
   "outputs": [],
   "source": [
    "m = Chem.MolFromSmiles(\"CCO\")"
   ]
  },
  {
   "cell_type": "code",
   "execution_count": 4,
   "metadata": {},
   "outputs": [
    {
     "data": {
      "text/plain": [
       "<rdkit.Chem.rdchem.Mol at 0x7f4aacf35490>"
      ]
     },
     "execution_count": 4,
     "metadata": {},
     "output_type": "execute_result"
    }
   ],
   "source": [
    "m"
   ]
  },
  {
   "cell_type": "code",
   "execution_count": 5,
   "metadata": {},
   "outputs": [
    {
     "name": "stdout",
     "output_type": "stream",
     "text": [
      "\n",
      "     RDKit          \n",
      "\n",
      "  3  2  0  0  0  0  0  0  0  0999 V2000\n",
      "    0.0000    0.0000    0.0000 C   0  0  0  0  0  0  0  0  0  0  0  0\n",
      "    0.0000    0.0000    0.0000 C   0  0  0  0  0  0  0  0  0  0  0  0\n",
      "    0.0000    0.0000    0.0000 O   0  0  0  0  0  0  0  0  0  0  0  0\n",
      "  1  2  1  0\n",
      "  2  3  1  0\n",
      "M  END\n",
      "\n"
     ]
    }
   ],
   "source": [
    "print(Chem.MolToMolBlock(m)) "
   ]
  },
  {
   "cell_type": "code",
   "execution_count": 6,
   "metadata": {},
   "outputs": [],
   "source": [
    "drugbank_input = Chem.SDMolSupplier('../data/drugbank.sdf')"
   ]
  },
  {
   "cell_type": "code",
   "execution_count": 7,
   "metadata": {},
   "outputs": [
    {
     "name": "stdout",
     "output_type": "stream",
     "text": [
      "\n",
      "\n",
      "  Mrv0541 02231216082D          \n",
      "\n",
      "\n",
      "\n",
      "155160  0  0  1  0            999 V2000\n",
      "\n",
      "  -19.1798  -19.8286    0.0000 N   0  0  0  0  0  0  0  0  0  0  0  0\n",
      "\n",
      "  -18.5326  -19.3169    0.0000 C   0  0  0  0  0  0  0  0  0  0  0  0\n",
      "\n",
      "  -17.7659  -19.6216    0.0000 N   0  0  0  0  0  0  0  0  0  0  0  0\n",
      "\n",
      "  -18.6521  -18.5006    0.0000 N   0  0  0  0  0  0  0  0  0  0  0  0\n",
      "\n",
      "  -19.4188  -18.1960    0.0000 C   0  0  0  0  0  0  0  0  0  0  0  0\n",
      "\n",
      "  -19.5383  -17.3797    0.0000 C   0  0  0  0  0  0  0  0  0  0  0  0\n",
      "\n",
      "  -20.3050  -17.0751    0.0000 C   0  0  0  0  0  0  0  0  0  0  0  0\n",
      "\n",
      "  -20.4245  -16.2588    0.0000 C   0  0  2  0  0  0  0  0  0  0  0  0\n",
      "\n",
      "  -21.1912  -15.9541    0.0000 N   0  0  0  0  0  0  0  0  0  0  0  0\n",
      "\n",
      "  -21.8384  -16.4658    0.0000 C   0  0  0  0  0  0  0  0  0  0  0  0\n",
      "\n",
      "  -21.7189  -17.2821    0.0000 O   0  0  0  0  0  0  0  0  0  0  0  0\n",
      "\n",
      "  -22.6051  -16.1611    0.0000 C   0  0  2  0  0  0  0  0  0  0  0  0\n",
      "\n",
      "  -23.3022  -16.6023    0.0000 C   0  0  0  0  0  0  0  0  0  0  0  0\n",
      "\n",
      "  -23.9372  -16.0757    0.0000 C   0  0  0  0  0  0  0  0  0  0  0  0\n",
      "\n",
      "  -23.6326  -15.3090    0.0000 C   0  0  0  0  0  0  0  0  0  0  0  0\n",
      "\n",
      "  -22.8093  -15.3618    0.0000 N   0  0  0  0  0  0  0  0  0  0  0  0\n",
      "\n",
      "  -22.2826  -14.7268    0.0000 C   0  0  0  0  0  0  0  0  0  0  0  0\n",
      "\n",
      "  -21.4693  -14.8653    0.0000 O   0  0  0  0  0  0  0  0  0  0  0  0\n",
      "\n",
      "  -22.5692  -13.9531    0.0000 C   0  0  2  0  0  0  0  0  0  0  0  0\n",
      "\n",
      "  -22.0426  -13.3181    0.0000 N   0  0  0  0  0  0  0  0  0  0  0  0\n",
      "\n",
      "  -23.3825  -13.8146    0.0000 C   0  0  0  0  0  0  0  0  0  0  0  0\n",
      "\n",
      "  -23.6691  -13.0409    0.0000 C   0  0  0  0  0  0  0  0  0  0  0  0\n",
      "\n",
      "  -24.4824  -12.9024    0.0000 C   0  0  0  0  0  0  0  0  0  0  0  0\n",
      "\n",
      "  -24.7690  -12.1288    0.0000 C   0  0  0  0  0  0  0  0  0  0  0  0\n",
      "\n",
      "  -24.2424  -11.4937    0.0000 C   0  0  0  0  0  0  0  0  0  0  0  0\n",
      "\n",
      "  -23.4291  -11.6323    0.0000 C   0  0  0  0  0  0  0  0  0  0  0  0\n",
      "\n",
      "  -23.1425  -12.4059    0.0000 C   0  0  0  0  0  0  0  0  0  0  0  0\n",
      "\n",
      "  -19.7773  -15.7471    0.0000 C   0  0  0  0  0  0  0  0  0  0  0  0\n",
      "\n",
      "  -19.8969  -14.9308    0.0000 O   0  0  0  0  0  0  0  0  0  0  0  0\n",
      "\n",
      "  -19.0106  -16.0518    0.0000 N   0  0  0  0  0  0  0  0  0  0  0  0\n",
      "\n",
      "  -18.8065  -16.8511    0.0000 C   0  0  0  0  0  0  0  0  0  0  0  0\n",
      "\n",
      "  -17.9832  -16.9039    0.0000 C   0  0  0  0  0  0  0  0  0  0  0  0\n",
      "\n",
      "  -17.6785  -16.1372    0.0000 C   0  0  0  0  0  0  0  0  0  0  0  0\n",
      "\n",
      "  -18.3135  -15.6106    0.0000 C   0  0  1  0  0  0  0  0  0  0  0  0\n",
      "\n",
      "  -18.2607  -14.7872    0.0000 C   0  0  0  0  0  0  0  0  0  0  0  0\n",
      "\n",
      "  -17.5213  -14.4213    0.0000 O   0  0  0  0  0  0  0  0  0  0  0  0\n",
      "\n",
      "  -18.9473  -14.3299    0.0000 N   0  0  0  0  0  0  0  0  0  0  0  0\n",
      "\n",
      "  -18.8945  -13.5065    0.0000 C   0  0  0  0  0  0  0  0  0  0  0  0\n",
      "\n",
      "  -18.1551  -13.1406    0.0000 C   0  0  0  0  0  0  0  0  0  0  0  0\n",
      "\n",
      "  -18.1023  -12.3173    0.0000 O   0  0  0  0  0  0  0  0  0  0  0  0\n",
      "\n",
      "  -17.4685  -13.5980    0.0000 N   0  0  0  0  0  0  0  0  0  0  0  0\n",
      "\n",
      "  -16.7291  -13.2321    0.0000 C   0  0  0  0  0  0  0  0  0  0  0  0\n",
      "\n",
      "  -16.0425  -13.6895    0.0000 C   0  0  0  0  0  0  0  0  0  0  0  0\n",
      "\n",
      "  -16.0953  -14.5128    0.0000 O   0  0  0  0  0  0  0  0  0  0  0  0\n",
      "\n",
      "  -15.3031  -13.3236    0.0000 N   0  0  0  0  0  0  0  0  0  0  0  0\n",
      "\n",
      "  -14.6165  -13.7810    0.0000 C   0  0  0  0  0  0  0  0  0  0  0  0\n",
      "\n",
      "  -13.8771  -13.4151    0.0000 C   0  0  0  0  0  0  0  0  0  0  0  0\n",
      "\n",
      "  -13.8242  -12.5918    0.0000 O   0  0  0  0  0  0  0  0  0  0  0  0\n",
      "\n",
      "  -13.1905  -13.8725    0.0000 N   0  0  0  0  0  0  0  0  0  0  0  0\n",
      "\n",
      "  -12.4510  -13.5065    0.0000 C   0  0  0  0  0  0  0  0  0  0  0  0\n",
      "\n",
      "  -11.7644  -13.9639    0.0000 C   0  0  0  0  0  0  0  0  0  0  0  0\n",
      "\n",
      "  -11.8173  -14.7872    0.0000 O   0  0  0  0  0  0  0  0  0  0  0  0\n",
      "\n",
      "  -11.0250  -13.5980    0.0000 N   0  0  0  0  0  0  0  0  0  0  0  0\n",
      "\n",
      "  -10.3384  -14.0554    0.0000 C   0  0  1  0  0  0  0  0  0  0  0  0\n",
      "\n",
      "  -10.3912  -14.8787    0.0000 C   0  0  0  0  0  0  0  0  0  0  0  0\n",
      "\n",
      "   -9.7047  -15.3361    0.0000 C   0  0  0  0  0  0  0  0  0  0  0  0\n",
      "\n",
      "   -9.7575  -16.1594    0.0000 N   0  0  0  0  0  0  0  0  0  0  0  0\n",
      "\n",
      "   -8.9652  -14.9702    0.0000 O   0  0  0  0  0  0  0  0  0  0  0  0\n",
      "\n",
      "   -9.5990  -13.6895    0.0000 C   0  0  0  0  0  0  0  0  0  0  0  0\n",
      "\n",
      "   -9.5462  -12.8662    0.0000 O   0  0  0  0  0  0  0  0  0  0  0  0\n",
      "\n",
      "   -8.9124  -14.1469    0.0000 N   0  0  0  0  0  0  0  0  0  0  0  0\n",
      "\n",
      "   -8.1730  -13.7810    0.0000 C   0  0  0  0  0  0  0  0  0  0  0  0\n",
      "\n",
      "   -7.4864  -14.2384    0.0000 C   0  0  0  0  0  0  0  0  0  0  0  0\n",
      "\n",
      "   -7.5392  -15.0617    0.0000 O   0  0  0  0  0  0  0  0  0  0  0  0\n",
      "\n",
      "   -6.7470  -13.8725    0.0000 N   0  0  0  0  0  0  0  0  0  0  0  0\n",
      "\n",
      "   -6.0604  -14.3299    0.0000 C   0  0  1  0  0  0  0  0  0  0  0  0\n",
      "\n",
      "   -6.1132  -15.1532    0.0000 C   0  0  0  0  0  0  0  0  0  0  0  0\n",
      "\n",
      "   -5.4266  -15.6106    0.0000 C   0  0  0  0  0  0  0  0  0  0  0  0\n",
      "\n",
      "   -5.4794  -16.4339    0.0000 O   0  0  0  0  0  0  0  0  0  0  0  0\n",
      "\n",
      "   -4.6872  -15.2446    0.0000 O   0  0  0  0  0  0  0  0  0  0  0  0\n",
      "\n",
      "   -5.3210  -13.9639    0.0000 C   0  0  0  0  0  0  0  0  0  0  0  0\n",
      "\n",
      "   -5.2682  -13.1406    0.0000 O   0  0  0  0  0  0  0  0  0  0  0  0\n",
      "\n",
      "   -4.6344  -14.4213    0.0000 N   0  0  0  0  0  0  0  0  0  0  0  0\n",
      "\n",
      "   -3.8950  -14.0554    0.0000 C   0  0  1  0  0  0  0  0  0  0  0  0\n",
      "\n",
      "   -3.2084  -14.5128    0.0000 C   0  0  0  0  0  0  0  0  0  0  0  0\n",
      "\n",
      "   -3.2612  -15.3361    0.0000 C   0  0  0  0  0  0  0  0  0  0  0  0\n",
      "\n",
      "   -2.5746  -15.7935    0.0000 C   0  0  0  0  0  0  0  0  0  0  0  0\n",
      "\n",
      "   -2.6274  -16.6168    0.0000 C   0  0  0  0  0  0  0  0  0  0  0  0\n",
      "\n",
      "   -3.3668  -16.9827    0.0000 C   0  0  0  0  0  0  0  0  0  0  0  0\n",
      "\n",
      "   -4.0534  -16.5253    0.0000 C   0  0  0  0  0  0  0  0  0  0  0  0\n",
      "\n",
      "   -4.0006  -15.7020    0.0000 C   0  0  0  0  0  0  0  0  0  0  0  0\n",
      "\n",
      "   -3.8422  -13.2321    0.0000 C   0  0  0  0  0  0  0  0  0  0  0  0\n",
      "\n",
      "   -4.5288  -12.7747    0.0000 O   0  0  0  0  0  0  0  0  0  0  0  0\n",
      "\n",
      "   -3.1027  -12.8662    0.0000 N   0  0  0  0  0  0  0  0  0  0  0  0\n",
      "\n",
      "   -2.4162  -13.3236    0.0000 C   0  0  1  0  0  0  0  0  0  0  0  0\n",
      "\n",
      "   -2.4690  -14.1469    0.0000 C   0  0  0  0  0  0  0  0  0  0  0  0\n",
      "\n",
      "   -1.7824  -14.6043    0.0000 C   0  0  0  0  0  0  0  0  0  0  0  0\n",
      "\n",
      "   -1.8352  -15.4276    0.0000 C   0  0  0  0  0  0  0  0  0  0  0  0\n",
      "\n",
      "   -2.2183  -16.1582    0.0000 O   0  0  0  0  0  0  0  0  0  0  0  0\n",
      "\n",
      "   -1.1486  -15.8850    0.0000 O   0  0  0  0  0  0  0  0  0  0  0  0\n",
      "\n",
      "   -1.6767  -12.9577    0.0000 C   0  0  0  0  0  0  0  0  0  0  0  0\n",
      "\n",
      "   -1.6239  -12.1344    0.0000 O   0  0  0  0  0  0  0  0  0  0  0  0\n",
      "\n",
      "   -0.9901  -13.4151    0.0000 N   0  0  0  0  0  0  0  0  0  0  0  0\n",
      "\n",
      "   -0.2507  -13.0492    0.0000 C   0  0  1  0  0  0  0  0  0  0  0  0\n",
      "\n",
      "   -0.1979  -12.2258    0.0000 C   0  0  0  0  0  0  0  0  0  0  0  0\n",
      "\n",
      "    0.5415  -11.8599    0.0000 C   0  0  0  0  0  0  0  0  0  0  0  0\n",
      "\n"
     ]
    },
    {
     "data": {
      "text/plain": [
       "[None,\n",
       " None,\n",
       " None,\n",
       " None,\n",
       " None,\n",
       " None,\n",
       " None,\n",
       " None,\n",
       " None,\n",
       " None,\n",
       " None,\n",
       " None,\n",
       " None,\n",
       " None,\n",
       " None,\n",
       " None,\n",
       " None,\n",
       " None,\n",
       " None,\n",
       " None,\n",
       " None,\n",
       " None,\n",
       " None,\n",
       " None,\n",
       " None,\n",
       " None,\n",
       " None,\n",
       " None,\n",
       " None,\n",
       " None,\n",
       " None,\n",
       " None,\n",
       " None,\n",
       " None,\n",
       " None,\n",
       " None,\n",
       " None,\n",
       " None,\n",
       " None,\n",
       " None,\n",
       " None,\n",
       " None,\n",
       " None,\n",
       " None,\n",
       " None,\n",
       " None,\n",
       " None,\n",
       " None,\n",
       " None,\n",
       " None,\n",
       " None,\n",
       " None,\n",
       " None,\n",
       " None,\n",
       " None,\n",
       " None,\n",
       " None,\n",
       " None,\n",
       " None,\n",
       " None,\n",
       " None,\n",
       " None,\n",
       " None,\n",
       " None,\n",
       " None,\n",
       " None,\n",
       " None,\n",
       " None,\n",
       " None,\n",
       " None,\n",
       " None,\n",
       " None,\n",
       " None,\n",
       " None,\n",
       " None,\n",
       " None,\n",
       " None,\n",
       " None,\n",
       " None,\n",
       " None,\n",
       " None,\n",
       " None,\n",
       " None,\n",
       " None,\n",
       " None,\n",
       " None,\n",
       " None,\n",
       " None,\n",
       " None,\n",
       " None,\n",
       " None,\n",
       " None,\n",
       " None,\n",
       " None,\n",
       " None,\n",
       " None,\n",
       " None,\n",
       " None,\n",
       " None,\n",
       " None]"
      ]
     },
     "execution_count": 7,
     "metadata": {},
     "output_type": "execute_result"
    }
   ],
   "source": [
    "db = open('../data/drugbank.sdf', 'r')\n",
    "[print(next(db)) for i in range(100)]\n"
   ]
  },
  {
   "cell_type": "code",
   "execution_count": 43,
   "metadata": {},
   "outputs": [],
   "source": [
    "drugbank = [m for m in drugbank_input if m]\n",
    "\n"
   ]
  },
  {
   "cell_type": "code",
   "execution_count": 11,
   "metadata": {},
   "outputs": [
    {
     "data": {
      "text/plain": [
       "7180"
      ]
     },
     "execution_count": 11,
     "metadata": {},
     "output_type": "execute_result"
    }
   ],
   "source": [
    "len(drugbank)"
   ]
  },
  {
   "cell_type": "code",
   "execution_count": 15,
   "metadata": {},
   "outputs": [
    {
     "data": {
      "text/plain": [
       "'CC1CC2C3CCC4=CC(=O)C=CC4(C)C3(F)C(=O)CC2(C)C1(O)C(=O)CCl'"
      ]
     },
     "execution_count": 15,
     "metadata": {},
     "output_type": "execute_result"
    }
   ],
   "source": [
    "Chem.MolToSmiles(drugbank[7179])"
   ]
  },
  {
   "cell_type": "code",
   "execution_count": 16,
   "metadata": {},
   "outputs": [
    {
     "name": "stdout",
     "output_type": "stream",
     "text": [
      "\n",
      "     RDKit          2D\n",
      "\n",
      " 28 31  0  0  1  0  0  0  0  0999 V2000\n",
      "    7.9362   -1.3437    0.0000 C   0  0  0  0  0  0  0  0  0  0  0  0\n",
      "    3.9503    0.0961    0.0000 C   0  0  0  0  0  0  0  0  0  0  0  0\n",
      "    6.4662    0.4982    0.0000 C   0  0  0  0  0  0  0  0  0  0  0  0\n",
      "    3.9215   -2.0864    0.0000 C   0  0  0  0  0  0  0  0  0  0  0  0\n",
      "    4.7336   -1.9412    0.0000 C   0  0  0  0  0  0  0  0  0  0  0  0\n",
      "    2.3261   -0.1943    0.0000 C   0  0  0  0  0  0  0  0  0  0  0  0\n",
      "    3.1382   -0.0491    0.0000 C   0  0  0  0  0  0  0  0  0  0  0  0\n",
      "    6.4774   -1.5264    0.0000 C   0  0  0  0  0  0  0  0  0  0  0  0\n",
      "    2.5776   -1.6009    0.0000 C   0  0  0  0  0  0  0  0  0  0  0  0\n",
      "    5.5745    0.3866    0.0000 C   0  0  0  0  0  0  0  0  0  0  0  0\n",
      "    8.0233    0.6502    0.0000 C   0  0  0  0  0  0  0  0  0  0  0  0\n",
      "    7.1602   -1.0634    0.0000 C   0  0  0  0  0  0  0  0  0  0  0  0\n",
      "    3.3897   -1.4557    0.0000 C   0  0  0  0  0  0  0  0  0  0  0  0\n",
      "    2.0458   -0.9702    0.0000 C   0  0  0  0  0  0  0  0  0  0  0  0\n",
      "    5.0139   -1.1653    0.0000 C   0  0  0  0  0  0  0  0  0  0  0  0\n",
      "    5.8261   -1.0201    0.0000 C   0  0  0  0  0  0  0  0  0  0  0  0\n",
      "    4.7624    0.2414    0.0000 C   0  0  0  0  0  0  0  0  0  0  0  0\n",
      "    7.7430   -0.1257    0.0000 C   0  0  0  0  0  0  0  0  0  0  0  0\n",
      "    3.6700   -0.6798    0.0000 C   0  0  0  0  0  0  0  0  0  0  0  0\n",
      "    6.1064   -0.2441    0.0000 C   0  0  0  0  0  0  0  0  0  0  0  0\n",
      "    4.4821   -0.5346    0.0000 C   0  0  0  0  0  0  0  0  0  0  0  0\n",
      "    6.9309   -0.2709    0.0000 C   0  0  0  0  0  0  0  0  0  0  0  0\n",
      "    7.4915    1.2809    0.0000 Cl  0  0  0  0  0  0  0  0  0  0  0  0\n",
      "    4.4226    0.2883    0.0000 F   0  0  0  0  0  0  0  0  0  0  0  0\n",
      "    1.2336   -1.1154    0.0000 O   0  0  0  0  0  0  0  0  0  0  0  0\n",
      "    4.2306    0.8721    0.0000 O   0  0  0  0  0  0  0  0  0  0  0  0\n",
      "    8.2749   -0.7564    0.0000 O   0  0  0  0  0  0  0  0  0  0  0  0\n",
      "    6.8714    0.5519    0.0000 O   0  0  0  0  0  0  0  0  0  0  0  0\n",
      "  5  4  1  0\n",
      "  7  6  2  0\n",
      " 12  1  1  1\n",
      " 12  8  1  0\n",
      " 13  4  1  0\n",
      " 13  9  2  0\n",
      " 14  6  1  0\n",
      " 14  9  1  0\n",
      " 15  5  1  6\n",
      " 16  8  1  1\n",
      " 16 15  1  0\n",
      " 17 10  1  0\n",
      " 18 11  1  0\n",
      " 19  2  1  1\n",
      " 19  7  1  0\n",
      " 19 13  1  0\n",
      " 20  3  1  1\n",
      " 20 10  1  0\n",
      " 20 16  1  0\n",
      " 21 15  1  0\n",
      " 21 17  1  0\n",
      " 21 19  1  0\n",
      " 22 12  1  0\n",
      " 22 18  1  0\n",
      " 22 20  1  0\n",
      " 23 11  1  0\n",
      " 21 24  1  6\n",
      " 25 14  2  0\n",
      " 26 17  2  0\n",
      " 27 18  2  0\n",
      " 22 28  1  6\n",
      "M  END\n",
      "\n"
     ]
    }
   ],
   "source": [
    "print(Chem.MolToMolBlock(drugbank[7179]))"
   ]
  },
  {
   "cell_type": "code",
   "execution_count": 24,
   "metadata": {},
   "outputs": [
    {
     "data": {
      "image/png": "[encoded data removed]",
      "text/plain": [
       "<PIL.Image.Image image mode=RGB size=900x900 at 0x7F4AA5EA6C88>"
      ]
     },
     "execution_count": 24,
     "metadata": {},
     "output_type": "execute_result"
    }
   ],
   "source": [
    "Draw.MolToImage(m, size=(900,900))"
   ]
  },
  {
   "cell_type": "code",
   "execution_count": 25,
   "metadata": {},
   "outputs": [
    {
     "data": {
      "text/plain": [
       "['AddConformer',\n",
       " 'ClearComputedProps',\n",
       " 'ClearProp',\n",
       " 'Compute2DCoords',\n",
       " 'ComputeGasteigerCharges',\n",
       " 'Debug',\n",
       " 'GetAromaticAtoms',\n",
       " 'GetAtomWithIdx',\n",
       " 'GetAtoms',\n",
       " 'GetAtomsMatchingQuery',\n",
       " 'GetBondBetweenAtoms',\n",
       " 'GetBondWithIdx',\n",
       " 'GetBonds',\n",
       " 'GetBoolProp',\n",
       " 'GetConformer',\n",
       " 'GetConformers',\n",
       " 'GetDoubleProp',\n",
       " 'GetIntProp',\n",
       " 'GetNumAtoms',\n",
       " 'GetNumBonds',\n",
       " 'GetNumConformers',\n",
       " 'GetNumHeavyAtoms',\n",
       " 'GetProp',\n",
       " 'GetPropNames',\n",
       " 'GetPropsAsDict',\n",
       " 'GetRingInfo',\n",
       " 'GetSubstructMatch',\n",
       " 'GetSubstructMatches',\n",
       " 'GetUnsignedProp',\n",
       " 'HasProp',\n",
       " 'HasSubstructMatch',\n",
       " 'NeedsUpdatePropertyCache',\n",
       " 'RemoveAllConformers',\n",
       " 'RemoveConformer',\n",
       " 'SetBoolProp',\n",
       " 'SetDoubleProp',\n",
       " 'SetIntProp',\n",
       " 'SetProp',\n",
       " 'SetUnsignedProp',\n",
       " 'ToBinary',\n",
       " 'UpdatePropertyCache',\n",
       " '__class__',\n",
       " '__copy__',\n",
       " '__deepcopy__',\n",
       " '__delattr__',\n",
       " '__dict__',\n",
       " '__dir__',\n",
       " '__doc__',\n",
       " '__eq__',\n",
       " '__format__',\n",
       " '__ge__',\n",
       " '__getattribute__',\n",
       " '__getinitargs__',\n",
       " '__gt__',\n",
       " '__hash__',\n",
       " '__init__',\n",
       " '__init_subclass__',\n",
       " '__instance_size__',\n",
       " '__le__',\n",
       " '__lt__',\n",
       " '__module__',\n",
       " '__ne__',\n",
       " '__new__',\n",
       " '__reduce__',\n",
       " '__reduce_ex__',\n",
       " '__repr__',\n",
       " '__safe_for_unpickling__',\n",
       " '__setattr__',\n",
       " '__sizeof__',\n",
       " '__str__',\n",
       " '__subclasshook__',\n",
       " '__weakref__']"
      ]
     },
     "execution_count": 25,
     "metadata": {},
     "output_type": "execute_result"
    }
   ],
   "source": [
    "dir(m)"
   ]
  },
  {
   "cell_type": "code",
   "execution_count": 31,
   "metadata": {},
   "outputs": [
    {
     "data": {
      "text/plain": [
       "40.021"
      ]
     },
     "execution_count": 31,
     "metadata": {},
     "output_type": "execute_result"
    }
   ],
   "source": [
    "sum([x.GetMass()for x in m.GetAtoms()])\n"
   ]
  },
  {
   "cell_type": "code",
   "execution_count": 32,
   "metadata": {},
   "outputs": [
    {
     "data": {
      "text/plain": [
       "'Bivalirudin'"
      ]
     },
     "execution_count": 32,
     "metadata": {},
     "output_type": "execute_result"
    }
   ],
   "source": [
    "drugbank[0].GetProp(\"GENERIC_NAME\")"
   ]
  },
  {
   "cell_type": "code",
   "execution_count": 33,
   "metadata": {},
   "outputs": [
    {
     "data": {
      "text/plain": [
       "'approved; investigational'"
      ]
     },
     "execution_count": 33,
     "metadata": {},
     "output_type": "execute_result"
    }
   ],
   "source": [
    "drugbank[0].GetProp(\"DRUG_GROUPS\")"
   ]
  },
  {
   "cell_type": "code",
   "execution_count": 34,
   "metadata": {},
   "outputs": [
    {
     "data": {
      "text/plain": [
       "'Angiomax; Bivalirudin; Bivalirudin for Injection'"
      ]
     },
     "execution_count": 34,
     "metadata": {},
     "output_type": "execute_result"
    }
   ],
   "source": [
    "drugbank[0].GetProp(\"PRODUCTS\")"
   ]
  },
  {
   "cell_type": "code",
   "execution_count": 40,
   "metadata": {},
   "outputs": [],
   "source": [
    "rings = sum([x.GetRingInfo().NumRings() for x in drugbank[:10]])"
   ]
  },
  {
   "cell_type": "code",
   "execution_count": 41,
   "metadata": {},
   "outputs": [
    {
     "data": {
      "text/plain": [
       "48"
      ]
     },
     "execution_count": 41,
     "metadata": {},
     "output_type": "execute_result"
    }
   ],
   "source": [
    "rings"
   ]
  },
  {
   "cell_type": "code",
   "execution_count": 44,
   "metadata": {},
   "outputs": [],
   "source": [
    "rings2 = sum([Chem.GetSSSR(x) for x in drugbank])"
   ]
  },
  {
   "cell_type": "code",
   "execution_count": 45,
   "metadata": {},
   "outputs": [],
   "source": [
    "avg_rings = rings/len(drugbank)"
   ]
  },
  {
   "cell_type": "code",
   "execution_count": 46,
   "metadata": {},
   "outputs": [
    {
     "data": {
      "text/plain": [
       "0.006751054852320675"
      ]
     },
     "execution_count": 46,
     "metadata": {},
     "output_type": "execute_result"
    }
   ],
   "source": [
    "avg_rings\n"
   ]
  },
  {
   "cell_type": "code",
   "execution_count": 47,
   "metadata": {},
   "outputs": [],
   "source": [
    "avg_rings = rings2/len(drugbank)"
   ]
  },
  {
   "cell_type": "code",
   "execution_count": 48,
   "metadata": {},
   "outputs": [
    {
     "data": {
      "text/plain": [
       "2.466807313642757"
      ]
     },
     "execution_count": 48,
     "metadata": {},
     "output_type": "execute_result"
    }
   ],
   "source": [
    "avg_rings"
   ]
  },
  {
   "cell_type": "code",
   "execution_count": null,
   "metadata": {},
   "outputs": [],
   "source": []
  }
 ],
 "metadata": {
  "kernelspec": {
   "display_name": "Python 3",
   "language": "python",
   "name": "python3"
  },
  "language_info": {
   "codemirror_mode": {
    "name": "ipython",
    "version": 3
   },
   "file_extension": ".py",
   "mimetype": "text/x-python",
   "name": "python",
   "nbconvert_exporter": "python",
   "pygments_lexer": "ipython3",
   "version": "3.6.4"
  }
 },
 "nbformat": 4,
 "nbformat_minor": 2
}
