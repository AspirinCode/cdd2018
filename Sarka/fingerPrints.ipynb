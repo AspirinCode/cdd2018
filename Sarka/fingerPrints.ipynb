{
 "cells": [
  {
   "cell_type": "code",
   "execution_count": 6,
   "metadata": {},
   "outputs": [],
   "source": [
    "from rdkit import Chem\n",
    "from rdkit.Chem import AllChem\n",
    "from rdkit.Chem import Draw"
   ]
  },
  {
   "cell_type": "code",
   "execution_count": 4,
   "metadata": {},
   "outputs": [],
   "source": [
    "drugbank_input = Chem.SDMolSupplier('../data/drugbank.sdf')\n",
    "drugbank = [m for m in drugbank_input if m]"
   ]
  },
  {
   "cell_type": "code",
   "execution_count": 7,
   "metadata": {},
   "outputs": [],
   "source": [
    "drugbank_fps = [AllChem.GetMorganFingerprintAsBitVect(m, 2, nBits=512) for m in drugbank]"
   ]
  },
  {
   "cell_type": "code",
   "execution_count": 11,
   "metadata": {},
   "outputs": [
    {
     "data": {
      "text/plain": [
       "'01001000100000000001000000001000010000010110000000000000000001001010000000000001101100101000001000000000000010011000010000000000100000000010100100010000100100000000000010000101010100010000000001001100010000000000001000110000100100000100000000100001010000000000000100100100001000000001000101000011000001000000101101000001000001000000000001001000010000000010100001110000010000011000011000000100000000100000000001000011100000010001000000000000010100100000000010100000010000110000000010001000100000000000000001110010'"
      ]
     },
     "execution_count": 11,
     "metadata": {},
     "output_type": "execute_result"
    }
   ],
   "source": [
    "first = drugbank_fps[0]\n",
    "first.ToBitString()"
   ]
  },
  {
   "cell_type": "markdown",
   "metadata": {},
   "source": [
    "# Pravděpodobnostní vyhledávání\n"
   ]
  },
  {
   "cell_type": "code",
   "execution_count": 12,
   "metadata": {},
   "outputs": [
    {
     "data": {
      "image/png": "[encoded data removed]",
      "text/plain": [
       "<PIL.Image.Image image mode=RGB size=300x300 at 0x7FBE8FF80320>"
      ]
     },
     "execution_count": 12,
     "metadata": {},
     "output_type": "execute_result"
    }
   ],
   "source": [
    "from rdkit import DataStructs\n",
    "salicylica = Chem.MolFromSmiles(\"c1ccc(c(c1)C(=O)O)O\")\n",
    "Draw.MolToImage(salicylica)"
   ]
  },
  {
   "cell_type": "code",
   "execution_count": 13,
   "metadata": {},
   "outputs": [
    {
     "data": {
      "text/plain": [
       "'00000000000000000000000100000000000000000000000000000000000000001010000100000000000000000000000000000000000000000000000000000000000000000010000000000000000000000000000000000001000000000001000000000000000000000000001000000000000000000000000000000000000000000000000000000000000000000000000000000001000000000000000000000000000000000000000001000000000000000000100000000000000000000000010000000100000000000000000000000000000000010000000000000000000000000000000110000000000000000000000000000000000000010000000000000000'"
      ]
     },
     "execution_count": 13,
     "metadata": {},
     "output_type": "execute_result"
    }
   ],
   "source": [
    "salicylica_fp = AllChem.GetMorganFingerprintAsBitVect(salicylica, 2, nBits=512)\n",
    "salicylica_fp.ToBitString()"
   ]
  },
  {
   "cell_type": "code",
   "execution_count": 16,
   "metadata": {},
   "outputs": [
    {
     "data": {
      "text/plain": [
       "(0.0, 1.0, 0.1337547673692333)"
      ]
     },
     "execution_count": 16,
     "metadata": {},
     "output_type": "execute_result"
    }
   ],
   "source": [
    "salicylica_similarities = [DataStructs.FingerprintSimilarity(salicylica_fp, fp) for fp in drugbank_fps]\n",
    "min(salicylica_similarities), max(salicylica_similarities), sum(salicylica_similarities)/len(salicylica_similarities)"
   ]
  },
  {
   "cell_type": "code",
   "execution_count": 20,
   "metadata": {},
   "outputs": [
    {
     "data": {
      "image/png": "[encoded data removed]",
      "text/plain": [
       "<PIL.PngImagePlugin.PngImageFile image mode=RGB size=600x200 at 0x7FBE8F5E6898>"
      ]
     },
     "execution_count": 20,
     "metadata": {},
     "output_type": "execute_result"
    }
   ],
   "source": [
    "hit_indexes = [i for i, similarity in enumerate(salicylica_similarities) if similarity >= 1.0]\n",
    "Draw.MolsToGridImage([drugbank[i] for i in hit_indexes])"
   ]
  },
  {
   "cell_type": "code",
   "execution_count": 22,
   "metadata": {},
   "outputs": [],
   "source": [
    "bit_aggregation = [0]*512\n",
    "for fp in drugbank_fps:\n",
    "    for bit in fp.GetOnBits():\n",
    "        bit_aggregation[bit] += 1"
   ]
  },
  {
   "cell_type": "code",
   "execution_count": 33,
   "metadata": {},
   "outputs": [
    {
     "data": {
      "text/plain": [
       "(96, 174, 5667, 356)"
      ]
     },
     "execution_count": 33,
     "metadata": {},
     "output_type": "execute_result"
    }
   ],
   "source": [
    "least_set_amount = min(bit_aggregation)\n",
    "least_set_index = bit_aggregation.index(least_set_amount)\n",
    "most_set_amount = max(bit_aggregation)\n",
    "most_set_index = bit_aggregation.index(most_set_amount)\n",
    "least_set_amount, least_set_index, most_set_amount, most_set_index\n"
   ]
  },
  {
   "cell_type": "code",
   "execution_count": 48,
   "metadata": {},
   "outputs": [],
   "source": [
    "def hit2smiles(hit, mol):\n",
    "    atomid, radius = hit\n",
    "    if radius > 0:\n",
    "        hit_atoms = Chem.FindAtomEnvironmentOfRadiusN(mol, radius, atomid)\n",
    "        submol = Chem.PathToSubmol(mol, hit_atoms)\n",
    "        return Chem.MolToSmiles(submol)\n",
    "    else:\n",
    "        return mol.GetAtomWithIdx(atomid).GetSymbol()"
   ]
  },
  {
   "cell_type": "code",
   "execution_count": 49,
   "metadata": {},
   "outputs": [],
   "source": [
    "def mol2fragments(mol):\n",
    "    bitinfo = {}\n",
    "    fp = AllChem.GetMorganFingerprintAsBitVect(mol, 2, nBits=512, bitInfo=bitinfo)\n",
    "    fragments = {bit: [hit2smiles(hit, mol) for hit in hits]\n",
    "                 for bit, hits in bitinfo.items()}\n",
    "    return fragments"
   ]
  },
  {
   "cell_type": "code",
   "execution_count": 57,
   "metadata": {},
   "outputs": [],
   "source": [
    "def explain_bit(bit, molecules):\n",
    "    fragments = {}\n",
    "    for mol in drugbank:\n",
    "        molecule_fragments = mol2fragments(mol)\n",
    "        if bit in molecule_fragments:\n",
    "            for smiles in molecule_fragments[bit]:\n",
    "                fragments[smiles] = fragments.get(smiles, 0) + 1\n",
    "    return fragments"
   ]
  },
  {
   "cell_type": "code",
   "execution_count": 53,
   "metadata": {},
   "outputs": [
    {
     "data": {
      "text/plain": [
       "{23: ['cc(c)C(=O)O'],\n",
       " 64: ['ccc', 'ccc'],\n",
       " 66: ['cO'],\n",
       " 71: ['cc(c)O'],\n",
       " 138: ['O'],\n",
       " 175: ['ccccc', 'ccccc'],\n",
       " 187: ['ccc(O)c(c)C'],\n",
       " 214: ['ccc', 'ccc'],\n",
       " 295: ['C', 'O', 'O', 'cccc(c)O'],\n",
       " 337: ['C', 'C', 'C', 'C'],\n",
       " 356: ['C', 'C'],\n",
       " 381: ['C=O'],\n",
       " 389: ['CO'],\n",
       " 423: ['cccc(c)C'],\n",
       " 455: ['cc(c)C'],\n",
       " 456: ['cC(=O)O'],\n",
       " 495: ['ccc(C(=O)O)c(c)O']}"
      ]
     },
     "execution_count": 53,
     "metadata": {},
     "output_type": "execute_result"
    }
   ],
   "source": [
    "mol2fragments(salicylica)"
   ]
  },
  {
   "cell_type": "code",
   "execution_count": 54,
   "metadata": {},
   "outputs": [
    {
     "data": {
      "image/png": "[encoded data removed]",
      "text/plain": [
       "<PIL.Image.Image image mode=RGB size=300x300 at 0x7FBE8F336160>"
      ]
     },
     "execution_count": 54,
     "metadata": {},
     "output_type": "execute_result"
    }
   ],
   "source": [
    "Draw.MolToImage(salicylica)"
   ]
  },
  {
   "cell_type": "code",
   "execution_count": 58,
   "metadata": {},
   "outputs": [],
   "source": [
    "fragments = explain_bit(356, drugbank)"
   ]
  },
  {
   "cell_type": "code",
   "execution_count": 59,
   "metadata": {},
   "outputs": [
    {
     "data": {
      "text/plain": [
       "{'C': 26482,\n",
       " 'C=CCC(C)[NH3+]': 2,\n",
       " 'C=Cc(cc)nc': 1,\n",
       " 'C=Cc(cc)sc': 2,\n",
       " 'C=Cc(n)n': 1,\n",
       " 'C=NC(N)=NC': 2,\n",
       " 'CC(=O)NC(C)C': 8,\n",
       " 'CC(C)(C)CC(C)(C)O': 1,\n",
       " 'CC(C)(c)CC[NH3+]': 1,\n",
       " 'CC(C)=CC(C)O': 1,\n",
       " 'CC(C)CC(C)N': 1,\n",
       " 'CC(C)CC(C)O': 1,\n",
       " 'CC(C)O': 106,\n",
       " 'CC(N)C(=O)N(C)C': 1,\n",
       " 'CC(O)C(C)C(c)O': 1,\n",
       " 'CCC(C)C(=O)O': 1,\n",
       " 'CCC(CC)C(C)C': 2,\n",
       " 'CCC(CN)NC': 1,\n",
       " 'CCC(O)C(C)N': 3,\n",
       " 'CCCC(C)N': 9,\n",
       " 'CCSC(C)N': 1,\n",
       " 'CCc': 1,\n",
       " 'CN(c)C(=O)C(C)(C)N': 1,\n",
       " 'CP(=O)(O)OP(=O)(O)O': 3,\n",
       " 'Ca': 1,\n",
       " 'cCC': 4,\n",
       " 'cN=C(CN)CO': 1,\n",
       " 'cNC(=O)C(C)N': 1,\n",
       " 'cc(-c)sc(c)Br': 1,\n",
       " 'cc(C)c(C(C)=O)c(c)O': 1,\n",
       " 'cc(C)c(C(N)=O)c(c)N': 1,\n",
       " 'cc(C)c[n+](c)C': 10,\n",
       " 'cc(C)o': 1,\n",
       " 'cc(N)nc(c)O': 1,\n",
       " 'cc(c)-c(c(c)[nH])c(c)[nH]': 1,\n",
       " 'cc(c)C(CC)(C(C)=O)c(c)c': 1,\n",
       " 'cc(c)C(Cc)c(c)n': 1,\n",
       " 'cc(c)O[Bi](O)O': 1,\n",
       " 'cc(c)nc([nH])N': 1,\n",
       " 'cc(n)[O-]': 2,\n",
       " 'ccc(-c(c)c)c(-c)n': 2,\n",
       " 'ccc(Br)c(c)O': 2,\n",
       " 'ccc(C)c(c)N': 1,\n",
       " 'ccc(OC)c(c)C': 6,\n",
       " 'ccc(OC)c(c)O': 84,\n",
       " 'ccc(OC)c(c)c': 1,\n",
       " 'ccc(Oc)c(c)N': 2,\n",
       " 'ccc(c(c)s)[n+](c)[O-]': 1,\n",
       " 'cccc(C)n': 1,\n",
       " 'cccsc': 5,\n",
       " 'cnc(Cc)n(c)C': 13,\n",
       " 'cnc(Cl)c(C)n': 1,\n",
       " 'cnc(cn)CO': 2,\n",
       " 'cnc(nc)OC': 2,\n",
       " 'con(CC)c([nH])=O': 1,\n",
       " 'conc(c)C': 7,\n",
       " 'csc(S)nn': 3}"
      ]
     },
     "execution_count": 59,
     "metadata": {},
     "output_type": "execute_result"
    }
   ],
   "source": [
    "fragments"
   ]
  },
  {
   "cell_type": "code",
   "execution_count": null,
   "metadata": {},
   "outputs": [],
   "source": []
  }
 ],
 "metadata": {
  "kernelspec": {
   "display_name": "Python 3",
   "language": "python",
   "name": "python3"
  },
  "language_info": {
   "codemirror_mode": {
    "name": "ipython",
    "version": 3
   },
   "file_extension": ".py",
   "mimetype": "text/x-python",
   "name": "python",
   "nbconvert_exporter": "python",
   "pygments_lexer": "ipython3",
   "version": "3.6.4"
  }
 },
 "nbformat": 4,
 "nbformat_minor": 2
}
