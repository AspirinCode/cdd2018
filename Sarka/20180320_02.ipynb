{
 "cells": [
  {
   "cell_type": "code",
   "execution_count": 19,
   "metadata": {},
   "outputs": [],
   "source": [
    "from rdkit import Chem\n",
    "from rdkit.Chem import rdinchi\n",
    "import csv \n",
    "from rdkit.Chem import Descriptors\n",
    "from rdkit.Chem import rdMolDescriptors"
   ]
  },
  {
   "cell_type": "code",
   "execution_count": 3,
   "metadata": {},
   "outputs": [],
   "source": [
    "drugbank_input = Chem.SDMolSupplier('../data/drugbank.sdf')\n",
    "drugbank = [m for m in drugbank_input if m]"
   ]
  },
  {
   "cell_type": "code",
   "execution_count": 9,
   "metadata": {},
   "outputs": [],
   "source": [
    "with open('drugbank.csv', 'w') as csvfile:\n",
    "    drugbank_writer = csv.writer(csvfile, delimiter= ',',\n",
    "                            quotechar='\"', quoting=csv.QUOTE_MINIMAL)\n",
    "    for drug in drugbank:\n",
    "        drugbank_writer.writerow([Chem.MolToSmiles(drug)])"
   ]
  },
  {
   "cell_type": "code",
   "execution_count": 16,
   "metadata": {},
   "outputs": [],
   "source": [
    "with open('drugbank.csv', 'w') as csvfile:\n",
    "    drugbank_writer = csv.writer(csvfile, delimiter= ',',\n",
    "                            quotechar='\"', quoting=csv.QUOTE_MINIMAL)\n",
    "    for drug in drugbank:\n",
    "        try:\n",
    "            inchi = rdinchi.MolToInchi(drug)[0]\n",
    "            inchikey = rdinchi.InchiToInchiKey(inchi)\n",
    "        except ValueError:\n",
    "            inchi = None\n",
    "            inchikey = None\n",
    "        drugbank_writer.writerow([inchikey, rdinchi.MolToInchi(drug, inchi)])"
   ]
  },
  {
   "cell_type": "code",
   "execution_count": 21,
   "metadata": {},
   "outputs": [],
   "source": [
    "with open('drugbank.csv', 'w') as csvfile:\n",
    "    drugbank_writer = csv.writer(csvfile, delimiter= ',',\n",
    "                            quotechar='\"', quoting=csv.QUOTE_MINIMAL)\n",
    "    drugbank_writer.writerow(['inchikey', 'smiles', 'molwt', 'logp', 'HBA', 'HBD'])\n",
    "    for drug in drugbank:\n",
    "        try:\n",
    "            inchi = rdinchi.MolToInchi(drug)[0]\n",
    "            inchikey = rdinchi.InchiToInchiKey(inchi)\n",
    "        except ValueError:\n",
    "            inchi = None\n",
    "            inchikey = None\n",
    "        drugbank_writer.writerow([inchikey, Chem.MolToSmiles(drug), Descriptors.MolWt(drug),\n",
    "                                  Descriptors.MolLogP(drug), rdMolDescriptors.CalcNumLipinskiHBA(drug), \n",
    "                                  rdMolDescriptors.CalcNumLipinskiHBD(drug)])"
   ]
  },
  {
   "cell_type": "code",
   "execution_count": 26,
   "metadata": {},
   "outputs": [
    {
     "name": "stdout",
     "output_type": "stream",
     "text": [
      "5166\n",
      "10821\n",
      "2.09465737514518\n"
     ]
    }
   ],
   "source": [
    "with open('drugbank_rings.csv', 'w') as csvfile:\n",
    "    drugbank_writer = csv.writer(csvfile, delimiter= ',',\n",
    "                            quotechar='\"', quoting=csv.QUOTE_MINIMAL)\n",
    "    drugbank_writer.writerow(['inchikey', 'smiles', 'number of aromatic rings'])\n",
    "    counter = 0\n",
    "    aromatic_drugs = []\n",
    "    ring_number_all = 0\n",
    "    for drug in drugbank:\n",
    "        ring_number = rdMolDescriptors.CalcNumAromaticRings(drug)\n",
    "        if ring_number > 0:\n",
    "            counter += 1\n",
    "            ring_number_all += ring_number\n",
    "            try:\n",
    "                inchi = rdinchi.MolToInchi(drug)[0]\n",
    "                inchikey = rdinchi.InchiToInchiKey(inchi)\n",
    "            except ValueError:\n",
    "                inchi = None\n",
    "                inchikey = None\n",
    "            aromatic_drugs.append(drug)\n",
    "            drugbank_writer.writerow([inchikey, Chem.MolToSmiles(drug), ring_number])\n",
    "    print(counter)\n",
    "    print(ring_number_all)\n",
    "    print(ring_number_all/counter)"
   ]
  },
  {
   "cell_type": "code",
   "execution_count": 25,
   "metadata": {},
   "outputs": [],
   "source": [
    "pattern = Chem.MolFromSmarts('c1ccccc1')"
   ]
  },
  {
   "cell_type": "code",
   "execution_count": 28,
   "metadata": {},
   "outputs": [],
   "source": [
    "non_matching_drugs = [m for m in aromatic_drugs if not m.HasSubstructMatch(pattern)]"
   ]
  },
  {
   "cell_type": "code",
   "execution_count": 29,
   "metadata": {},
   "outputs": [
    {
     "data": {
      "text/plain": [
       "880"
      ]
     },
     "execution_count": 29,
     "metadata": {},
     "output_type": "execute_result"
    }
   ],
   "source": [
    "len(non_matching_drugs)"
   ]
  },
  {
   "cell_type": "code",
   "execution_count": 35,
   "metadata": {},
   "outputs": [],
   "source": [
    "benzoovka = Chem.MolFromSmarts('c1ccccc1C(=O)O')"
   ]
  },
  {
   "cell_type": "code",
   "execution_count": 38,
   "metadata": {},
   "outputs": [],
   "source": [
    "matching_drugs = [m for m in aromatic_drugs if m.HasSubstructMatch(benzoovka)]\n",
    "matches = matching_drugs[1]."
   ]
  },
  {
   "cell_type": "code",
   "execution_count": 39,
   "metadata": {},
   "outputs": [
    {
     "data": {
      "text/plain": [
       "267"
      ]
     },
     "execution_count": 39,
     "metadata": {},
     "output_type": "execute_result"
    }
   ],
   "source": [
    "len(matching_drugs)"
   ]
  },
  {
   "cell_type": "code",
   "execution_count": 41,
   "metadata": {},
   "outputs": [],
   "source": [
    "from rdkit.Chem.Draw import rdMolDraw2D\n",
    "from IPython.display import SVG"
   ]
  },
  {
   "cell_type": "code",
   "execution_count": null,
   "metadata": {},
   "outputs": [],
   "source": [
    "drawer = rdMolDraw2DSVG(333,333)\n",
    "mol = matching_drugs[1]\n",
    "drawer.DrawMolecule(mol, highlightAtoms=mol.GetSubstructMatches(benzoovka))"
   ]
  }
 ],
 "metadata": {
  "kernelspec": {
   "display_name": "Python 3",
   "language": "python",
   "name": "python3"
  },
  "language_info": {
   "codemirror_mode": {
    "name": "ipython",
    "version": 3
   },
   "file_extension": ".py",
   "mimetype": "text/x-python",
   "name": "python",
   "nbconvert_exporter": "python",
   "pygments_lexer": "ipython3",
   "version": "3.6.4"
  }
 },
 "nbformat": 4,
 "nbformat_minor": 2
}
