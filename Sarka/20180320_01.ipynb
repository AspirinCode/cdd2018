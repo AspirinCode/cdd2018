{
 "cells": [
  {
   "cell_type": "code",
   "execution_count": 12,
   "metadata": {},
   "outputs": [],
   "source": [
    "from rdkit import Chem\n",
    "from rdkit.Chem import Draw"
   ]
  },
  {
   "cell_type": "code",
   "execution_count": 7,
   "metadata": {},
   "outputs": [],
   "source": [
    "drugbank_input = Chem.SDMolSupplier('../data/drugbank.sdf')\n",
    "drugbank = [m for m in drugbank_input if m]"
   ]
  },
  {
   "cell_type": "code",
   "execution_count": 8,
   "metadata": {},
   "outputs": [
    {
     "name": "stdout",
     "output_type": "stream",
     "text": [
      "782\n",
      "     RDKit          2D\n",
      "\n",
      " 27 29  0  0  0  0  0  0  0  0999 V2000\n",
      "    4.5640   -0.1920    0.0000 O   0  0  0  0  0  0  0  0  0  0  0  0\n",
      "    3.8495   -3.0795    0.0000 O   0  0  0  0  0  0  0  0  0  0  0  0\n",
      "    3.1350   -0.1920    0.0000 O   0  0  0  0  0  0  0  0  0  0  0  0\n",
      "    5.2784    1.8705    0.0000 N   0  0  0  0  0  0  0  0  0  0  0  0\n",
      "    6.1034    1.8705    0.0000 C   0  0  0  0  0  0  0  0  0  0  0  0\n",
      "    5.2784    2.6955    0.0000 C   0  0  0  0  0  0  0  0  0  0  0  0\n",
      "    5.2784    1.0455    0.0000 C   0  0  0  0  0  0  0  0  0  0  0  0\n",
      "    4.4534    1.8705    0.0000 C   0  0  0  0  0  0  0  0  0  0  0  0\n",
      "    6.5159    1.1561    0.0000 C   0  0  0  0  0  0  0  0  0  0  0  0\n",
      "    6.5159    2.5851    0.0000 C   0  0  0  0  0  0  0  0  0  0  0  0\n",
      "    5.9929    3.1080    0.0000 C   0  0  0  0  0  0  0  0  0  0  0  0\n",
      "    4.5640    3.1080    0.0000 C   0  0  0  0  0  0  0  0  0  0  0  0\n",
      "    4.5640    0.6330    0.0000 C   0  0  0  0  0  0  0  0  0  0  0  0\n",
      "    3.8495   -1.4295    0.0000 C   0  0  0  0  0  0  0  0  0  0  0  0\n",
      "    3.8495   -0.6045    0.0000 C   0  0  0  0  0  0  0  0  0  0  0  0\n",
      "    4.5640   -1.8420    0.0000 C   0  0  0  0  0  0  0  0  0  0  0  0\n",
      "    3.1350   -1.8420    0.0000 C   0  0  0  0  0  0  0  0  0  0  0  0\n",
      "    4.5640   -2.6670    0.0000 C   0  0  0  0  0  0  0  0  0  0  0  0\n",
      "    3.1350   -2.6670    0.0000 C   0  0  0  0  0  0  0  0  0  0  0  0\n",
      "    5.3015   -1.4008    0.0000 C   0  0  0  0  0  0  0  0  0  0  0  0\n",
      "    2.3975   -1.4008    0.0000 C   0  0  0  0  0  0  0  0  0  0  0  0\n",
      "    5.3015   -3.1080    0.0000 C   0  0  0  0  0  0  0  0  0  0  0  0\n",
      "    2.3975   -3.1080    0.0000 C   0  0  0  0  0  0  0  0  0  0  0  0\n",
      "    6.0490   -1.8248    0.0000 C   0  0  0  0  0  0  0  0  0  0  0  0\n",
      "    1.6500   -1.8248    0.0000 C   0  0  0  0  0  0  0  0  0  0  0  0\n",
      "    6.0490   -2.6841    0.0000 C   0  0  0  0  0  0  0  0  0  0  0  0\n",
      "    1.6500   -2.6841    0.0000 C   0  0  0  0  0  0  0  0  0  0  0  0\n",
      "  1 13  1  0\n",
      "  1 15  1  0\n",
      "  2 18  1  0\n",
      "  2 19  1  0\n",
      "  3 15  2  0\n",
      "  4  5  1  0\n",
      "  4  6  1  0\n",
      "  4  7  1  0\n",
      "  4  8  1  0\n",
      "  5  9  1  0\n",
      "  5 10  1  0\n",
      "  6 11  1  0\n",
      "  6 12  1  0\n",
      "  7 13  1  0\n",
      " 14 15  1  0\n",
      " 14 16  1  0\n",
      " 14 17  1  0\n",
      " 16 18  2  0\n",
      " 16 20  1  0\n",
      " 17 19  2  0\n",
      " 17 21  1  0\n",
      " 18 22  1  0\n",
      " 19 23  1  0\n",
      " 20 24  2  0\n",
      " 21 25  2  0\n",
      " 22 26  2  0\n",
      " 23 27  2  0\n",
      " 24 26  1  0\n",
      " 25 27  1  0\n",
      "M  CHG  1   4   1\n",
      "M  END\n",
      "\n"
     ]
    }
   ],
   "source": [
    "print (Chem.MolToMolBlock(drugbank[666]))"
   ]
  },
  {
   "cell_type": "code",
   "execution_count": 10,
   "metadata": {},
   "outputs": [
    {
     "name": "stdout",
     "output_type": "stream",
     "text": [
      "CC(C)[N+](C)(CCOC(=O)C1c2ccccc2Oc2ccccc21)C(C)C\n"
     ]
    }
   ],
   "source": [
    "print (Chem.MolToSmiles(drugbank[666]))"
   ]
  },
  {
   "cell_type": "code",
   "execution_count": 16,
   "metadata": {},
   "outputs": [
    {
     "data": {
      "image/png": "[encoded data removed]",
      "text/plain": [
       "<PIL.Image.Image image mode=RGB size=500x500 at 0x7F2AE186EB00>"
      ]
     },
     "execution_count": 16,
     "metadata": {},
     "output_type": "execute_result"
    }
   ],
   "source": [
    "Draw.MolToImage(drugbank[8], size = (500,500))"
   ]
  },
  {
   "cell_type": "code",
   "execution_count": null,
   "metadata": {},
   "outputs": [],
   "source": []
  }
 ],
 "metadata": {
  "kernelspec": {
   "display_name": "Python 3",
   "language": "python",
   "name": "python3"
  },
  "language_info": {
   "codemirror_mode": {
    "name": "ipython",
    "version": 3
   },
   "file_extension": ".py",
   "mimetype": "text/x-python",
   "name": "python",
   "nbconvert_exporter": "python",
   "pygments_lexer": "ipython3",
   "version": "3.6.4"
  }
 },
 "nbformat": 4,
 "nbformat_minor": 2
}
