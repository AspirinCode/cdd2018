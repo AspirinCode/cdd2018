{
 "cells": [
  {
   "cell_type": "code",
   "execution_count": 196,
   "metadata": {
    "collapsed": true
   },
   "outputs": [],
   "source": [
    "from rdkit import Chem\n",
    "from rdkit.Chem import rdMolDescriptors\n",
    "\n",
    "import numpy as np\n",
    "from random import shuffle\n",
    "\n",
    "from sklearn import svm\n",
    "from sklearn import ensemble\n",
    "from sklearn import model_selection as ms\n",
    "from sklearn.metrics import mean_squared_error"
   ]
  },
  {
   "cell_type": "markdown",
   "metadata": {},
   "source": [
    "# Preparation of datasets"
   ]
  },
  {
   "cell_type": "code",
   "execution_count": 151,
   "metadata": {},
   "outputs": [],
   "source": [
    "#read data - ChemblID, canonical smiles, standard value and standard unit\n",
    "data_file = open(\"./data/beta_amyloidA4_protein_IC50.tsv\")\n",
    "data_file.readline() #read the header (remove it)\n",
    "def splitter(line):\n",
    "    spls = line.strip().split(\"\\t\")\n",
    "    if spls[14] != \"\" and spls[15] != \"\":\n",
    "        return (spls[0],Chem.MolFromSmiles(spls[10]),float(spls[14]), spls[15])\n",
    "mols = [splitter(line) for line in data_file]"
   ]
  },
  {
   "cell_type": "code",
   "execution_count": 152,
   "metadata": {},
   "outputs": [
    {
     "data": {
      "text/plain": [
       "854"
      ]
     },
     "execution_count": 152,
     "metadata": {},
     "output_type": "execute_result"
    }
   ],
   "source": [
    "len(mols)"
   ]
  },
  {
   "cell_type": "code",
   "execution_count": 153,
   "metadata": {},
   "outputs": [
    {
     "data": {
      "text/plain": [
       "785"
      ]
     },
     "execution_count": 153,
     "metadata": {},
     "output_type": "execute_result"
    }
   ],
   "source": [
    "mols = [m for m in mols if m and m[3] ==\"nM\"]\n",
    "len(mols)"
   ]
  },
  {
   "cell_type": "code",
   "execution_count": 176,
   "metadata": {},
   "outputs": [
    {
     "data": {
      "text/plain": [
       "(385,\n",
       " [('CHEMBL1744460', <rdkit.Chem.rdchem.Mol at 0x2416c265a80>, 19.0, 'nM', 1),\n",
       "  ('CHEMBL236182', <rdkit.Chem.rdchem.Mol at 0x2416c2b3f80>, 13.0, 'nM', 1),\n",
       "  ('CHEMBL492024', <rdkit.Chem.rdchem.Mol at 0x2416c2d7b20>, 820.0, 'nM', 1),\n",
       "  ('CHEMBL2179242', <rdkit.Chem.rdchem.Mol at 0x2416c2b93f0>, 900.0, 'nM', 1),\n",
       "  ('CHEMBL3667030', <rdkit.Chem.rdchem.Mol at 0x2416c2b90d0>, 500.0, 'nM', 1)])"
      ]
     },
     "execution_count": 176,
     "metadata": {},
     "output_type": "execute_result"
    }
   ],
   "source": [
    "active = [m for m in mols if m[2] < 1000]\n",
    "active = [a + (1,) for a in active] #add 1 as a clasifier for active\n",
    "shuffle(active)\n",
    "len(active), active[:5]"
   ]
  },
  {
   "cell_type": "code",
   "execution_count": 181,
   "metadata": {},
   "outputs": [
    {
     "data": {
      "text/plain": [
       "239"
      ]
     },
     "execution_count": 181,
     "metadata": {},
     "output_type": "execute_result"
    }
   ],
   "source": [
    "inactive = [m for m in mols if m[2] >= 10000]\n",
    "inactive = [i + (0,) for i in inactive] #add 0 as a clasifier for non active\n",
    "len(inactive)"
   ]
  },
  {
   "cell_type": "code",
   "execution_count": 200,
   "metadata": {},
   "outputs": [
    {
     "data": {
      "text/plain": [
       "(436, 188)"
      ]
     },
     "execution_count": 200,
     "metadata": {},
     "output_type": "execute_result"
    }
   ],
   "source": [
    "splitI = int(len(inactive)*0.7)\n",
    "splitA = int(len(active)*0.7)\n",
    "\n",
    "training = active[0:splitA] + inactive[0:splitI]\n",
    "testing = active[splitA:] + inactive[splitI:]\n",
    "len(training), len(testing)"
   ]
  },
  {
   "cell_type": "markdown",
   "metadata": {},
   "source": [
    "## Model training"
   ]
  },
  {
   "cell_type": "code",
   "execution_count": 199,
   "metadata": {},
   "outputs": [],
   "source": [
    "shuffle(training)"
   ]
  },
  {
   "cell_type": "code",
   "execution_count": 209,
   "metadata": {},
   "outputs": [],
   "source": [
    "#use 5-fold ross alidation!!!!!!!!!!!!!!!!!!!!!!!!!!!!!!"
   ]
  },
  {
   "cell_type": "code",
   "execution_count": null,
   "metadata": {
    "collapsed": true
   },
   "outputs": [],
   "source": []
  }
 ],
 "metadata": {
  "kernelspec": {
   "display_name": "Python 3",
   "language": "python",
   "name": "python3"
  },
  "language_info": {
   "codemirror_mode": {
    "name": "ipython",
    "version": 3
   },
   "file_extension": ".py",
   "mimetype": "text/x-python",
   "name": "python",
   "nbconvert_exporter": "python",
   "pygments_lexer": "ipython3",
   "version": "3.6.2"
  }
 },
 "nbformat": 4,
 "nbformat_minor": 2
}
