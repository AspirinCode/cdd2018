{
 "cells": [
  {
   "cell_type": "code",
   "execution_count": 48,
   "metadata": {
    "collapsed": true
   },
   "outputs": [],
   "source": [
    "from rdkit import Chem\n",
    "from rdkit.Chem import rdMolDescriptors\n",
    "\n",
    "import numpy as np\n",
    "from random import shuffle\n",
    "\n",
    "from sklearn import svm\n",
    "from sklearn import ensemble\n",
    "from sklearn import model_selection as ms\n",
    "from sklearn.metrics import mean_squared_error\n",
    "\n",
    "import matplotlib.pyplot as plt"
   ]
  },
  {
   "cell_type": "markdown",
   "metadata": {},
   "source": [
    "# Preparation of datasets"
   ]
  },
  {
   "cell_type": "code",
   "execution_count": 45,
   "metadata": {},
   "outputs": [
    {
     "data": {
      "text/plain": [
       "(385,\n",
       " [(<rdkit.Chem.rdchem.Mol at 0x1fa9cbb4da0>, 2.8),\n",
       "  (<rdkit.Chem.rdchem.Mol at 0x1fa9d2e1f80>, 4.5),\n",
       "  (<rdkit.Chem.rdchem.Mol at 0x1fa9d1986c0>, 5.5)])"
      ]
     },
     "execution_count": 45,
     "metadata": {},
     "output_type": "execute_result"
    }
   ],
   "source": [
    "#read data - ChemblID, canonical smiles, standard value and standard unit\n",
    "data_file = open(\"./data/beta_amyloidA4_protein_IC50.tsv\")\n",
    "data_file.readline() #read the header (remove it)\n",
    "def splitter(line):\n",
    "    spls = line.strip().split(\"\\t\")\n",
    "    if spls[14] != \"\" and spls[15] == \"nM\": \n",
    "        return (Chem.MolFromSmiles(spls[10]),float(spls[14]))\n",
    "mols = [splitter(line) for line in data_file]\n",
    "mols = [m for m in mols if m]\n",
    "active = [m for m in mols if m[1] < 1000] #select only ligands with higher activity\n",
    "len(active), active[:3]"
   ]
  },
  {
   "cell_type": "code",
   "execution_count": 55,
   "metadata": {},
   "outputs": [
    {
     "data": {
      "text/plain": [
       "(269, 116)"
      ]
     },
     "execution_count": 55,
     "metadata": {},
     "output_type": "execute_result"
    }
   ],
   "source": [
    "shuffle(active)\n",
    "splitA = int(len(active)*0.7)\n",
    "train = active[0:splitA] \n",
    "test = active[splitA:]\n",
    "len(train), len(test)"
   ]
  },
  {
   "cell_type": "markdown",
   "metadata": {},
   "source": [
    "# Random Forest"
   ]
  },
  {
   "cell_type": "markdown",
   "metadata": {},
   "source": [
    "## Training models"
   ]
  },
  {
   "cell_type": "code",
   "execution_count": 11,
   "metadata": {},
   "outputs": [
    {
     "data": {
      "text/plain": [
       "(269, 269)"
      ]
     },
     "execution_count": 11,
     "metadata": {},
     "output_type": "execute_result"
    }
   ],
   "source": [
    "mqns = [rdMolDescriptors.MQNs_(m[0]) for m in train]\n",
    "vals = [m[1] for m in train]\n",
    "len(mqns), len(vals)"
   ]
  },
  {
   "cell_type": "markdown",
   "metadata": {},
   "source": [
    "### Model 1 - using mqns"
   ]
  },
  {
   "cell_type": "code",
   "execution_count": 12,
   "metadata": {
    "collapsed": true
   },
   "outputs": [],
   "source": [
    "# Our old good function to display points\n",
    "def plot(X, *args, highlights=set()):\n",
    "    fig = plt.figure()\n",
    "    #ax = plt.subplot(111)\n",
    "    for i, point in enumerate(X):\n",
    "        x,y = point\n",
    "        if i in highlights:\n",
    "            plt.plot([x],[y],\"r.\", markersize=4)\n",
    "        else:\n",
    "            plt.plot([x],[y],\"k.\", markersize=1)\n",
    "    plt.show()"
   ]
  },
  {
   "cell_type": "code",
   "execution_count": 13,
   "metadata": {
    "collapsed": true
   },
   "outputs": [],
   "source": [
    "s = lambda x : -1.0 * np.log10(x / 1.0e9)\n",
    "pvals = [s(val) for val in vals]"
   ]
  },
  {
   "cell_type": "code",
   "execution_count": 14,
   "metadata": {
    "collapsed": true
   },
   "outputs": [],
   "source": [
    "model1 = ensemble.RandomForestRegressor()\n",
    "model1.fit(mqns, pvals)\n",
    "preds1 = model1.predict(mqns)"
   ]
  },
  {
   "cell_type": "code",
   "execution_count": 15,
   "metadata": {},
   "outputs": [
    {
     "data": {
      "image/png": "[encoded data removed]",
      "text/plain": [
       "<matplotlib.figure.Figure at 0x1fa9a31f8d0>"
      ]
     },
     "metadata": {},
     "output_type": "display_data"
    }
   ],
   "source": [
    "plot(zip(preds1,pvals))"
   ]
  },
  {
   "cell_type": "markdown",
   "metadata": {},
   "source": [
    "### Model 2 - using Morgan Fingerprints"
   ]
  },
  {
   "cell_type": "code",
   "execution_count": 16,
   "metadata": {
    "collapsed": true
   },
   "outputs": [],
   "source": [
    "from rdkit.Chem import AllChem\n",
    "morgan_fps = [AllChem.GetMorganFingerprintAsBitVect(m[0], 2, nBits=512) for m in train]"
   ]
  },
  {
   "cell_type": "code",
   "execution_count": 17,
   "metadata": {
    "collapsed": true
   },
   "outputs": [],
   "source": [
    "model2 = ensemble.RandomForestRegressor()\n",
    "model2.fit(morgan_fps, pvals)\n",
    "preds2 = model2.predict(morgan_fps)"
   ]
  },
  {
   "cell_type": "code",
   "execution_count": 18,
   "metadata": {},
   "outputs": [
    {
     "data": {
      "image/png": "[encoded data removed]",
      "text/plain": [
       "<matplotlib.figure.Figure at 0x1fa9cbe0080>"
      ]
     },
     "metadata": {},
     "output_type": "display_data"
    }
   ],
   "source": [
    "plot(zip(preds2,pvals))"
   ]
  },
  {
   "cell_type": "markdown",
   "metadata": {},
   "source": [
    "## Testing models on test set"
   ]
  },
  {
   "cell_type": "code",
   "execution_count": 19,
   "metadata": {
    "collapsed": true
   },
   "outputs": [],
   "source": [
    "mqns_test = [rdMolDescriptors.MQNs_(m[0]) for m in test]\n",
    "vals_test = [m[1] for m in test]\n",
    "morgan_fps_test = [AllChem.GetMorganFingerprintAsBitVect(m[0], 2, nBits=512) for m in test]\n",
    "pvals_test = [s(val) for val in vals_test]"
   ]
  },
  {
   "cell_type": "code",
   "execution_count": 20,
   "metadata": {},
   "outputs": [
    {
     "data": {
      "image/png": "[encoded data removed]",
      "text/plain": [
       "<matplotlib.figure.Figure at 0x1fa9a312e80>"
      ]
     },
     "metadata": {},
     "output_type": "display_data"
    }
   ],
   "source": [
    "test_predictions1 = model1.predict(mqns_test)\n",
    "plot(zip(test_predictions1, pvals_test))"
   ]
  },
  {
   "cell_type": "code",
   "execution_count": 21,
   "metadata": {},
   "outputs": [
    {
     "name": "stdout",
     "output_type": "stream",
     "text": [
      "R^2: 0.50\n",
      "R: 0.71\n",
      "MSE: 0.43\n"
     ]
    }
   ],
   "source": [
    "print(\"R^2: %0.2f\" % model1.score(mqns_test, pvals_test))\n",
    "print(\"R: %0.2f\" % np.sqrt(model1.score(mqns_test, pvals_test)))\n",
    "print(\"MSE: %0.2f\" %  mean_squared_error(model1.predict(mqns_test), pvals_test))"
   ]
  },
  {
   "cell_type": "code",
   "execution_count": 63,
   "metadata": {},
   "outputs": [
    {
     "data": {
      "image/png": "[encoded data removed]",
      "text/plain": [
       "<matplotlib.figure.Figure at 0x1c73bf23780>"
      ]
     },
     "metadata": {},
     "output_type": "display_data"
    }
   ],
   "source": [
    "test_predictions2 = model2.predict(morgan_fps_test)\n",
    "plot(zip(test_predictions2, pvals_test))"
   ]
  },
  {
   "cell_type": "code",
   "execution_count": 64,
   "metadata": {},
   "outputs": [
    {
     "name": "stdout",
     "output_type": "stream",
     "text": [
      "R^2: 0.63\n",
      "R: 0.79\n",
      "MSE: 0.34\n"
     ]
    }
   ],
   "source": [
    "print(\"R^2: %0.2f\" % model2.score(morgan_fps_test, pvals_test))\n",
    "print(\"R: %0.2f\" % np.sqrt(model2.score(morgan_fps_test, pvals_test)))\n",
    "print(\"MSE: %0.2f\" %  mean_squared_error(model2.predict(morgan_fps_test), pvals_test))"
   ]
  },
  {
   "cell_type": "raw",
   "metadata": {},
   "source": [
    "^^ Bad, but ended up being a winner. I didn't have much time to play with the parameters a lot. I tried playing with max_depth and number of trees and didn't achieve better results. "
   ]
  },
  {
   "cell_type": "markdown",
   "metadata": {},
   "source": [
    "# SVM Regression\n"
   ]
  },
  {
   "cell_type": "code",
   "execution_count": 22,
   "metadata": {},
   "outputs": [
    {
     "data": {
      "text/plain": [
       "SVR(C=1.0, cache_size=200, coef0=0.0, degree=3, epsilon=0.1, gamma='auto',\n",
       "  kernel='rbf', max_iter=-1, shrinking=True, tol=0.001, verbose=False)"
      ]
     },
     "execution_count": 22,
     "metadata": {},
     "output_type": "execute_result"
    }
   ],
   "source": [
    "clf = svm.SVR()\n",
    "clf.fit(mqns, pvals)"
   ]
  },
  {
   "cell_type": "code",
   "execution_count": 23,
   "metadata": {},
   "outputs": [
    {
     "data": {
      "image/png": "[encoded data removed]",
      "text/plain": [
       "<matplotlib.figure.Figure at 0x1fa992c7710>"
      ]
     },
     "metadata": {},
     "output_type": "display_data"
    }
   ],
   "source": [
    "svm_preds1 = clf.predict(mqns)\n",
    "plot(zip(svm_preds1,pvals))"
   ]
  },
  {
   "cell_type": "markdown",
   "metadata": {},
   "source": [
    "### SMV model test"
   ]
  },
  {
   "cell_type": "code",
   "execution_count": 24,
   "metadata": {},
   "outputs": [
    {
     "data": {
      "image/png": "[encoded data removed]",
      "text/plain": [
       "<matplotlib.figure.Figure at 0x1fa9ca35748>"
      ]
     },
     "metadata": {},
     "output_type": "display_data"
    }
   ],
   "source": [
    "test_svm_preds1 = clf.predict(mqns_test)\n",
    "plot(zip(test_svm_preds1,pvals_test))"
   ]
  },
  {
   "cell_type": "code",
   "execution_count": 25,
   "metadata": {},
   "outputs": [
    {
     "name": "stdout",
     "output_type": "stream",
     "text": [
      "R^2: 0.54\n",
      "R: 0.73\n",
      "MSE: 0.40\n"
     ]
    }
   ],
   "source": [
    "print(\"R^2: %0.2f\" % model2.score(morgan_fps_test, pvals_test))\n",
    "print(\"R: %0.2f\" % np.sqrt(model2.score(morgan_fps_test, pvals_test)))\n",
    "print(\"MSE: %0.2f\" %  mean_squared_error(model2.predict(morgan_fps_test), pvals_test))"
   ]
  },
  {
   "cell_type": "markdown",
   "metadata": {},
   "source": [
    "## Would the models be better if the molecules were rid of salts and inorganic structures?\n",
    "#### Let's test it with random forest using morgan fingeprint"
   ]
  },
  {
   "cell_type": "markdown",
   "metadata": {},
   "source": [
    "##### Remove inorganic structures"
   ]
  },
  {
   "cell_type": "code",
   "execution_count": 31,
   "metadata": {},
   "outputs": [
    {
     "data": {
      "text/plain": [
       "(385, 370)"
      ]
     },
     "execution_count": 31,
     "metadata": {},
     "output_type": "execute_result"
    }
   ],
   "source": [
    "hasCarbonPatt = Chem.MolFromSmarts(\"[#6]\")\n",
    "onlyOrganicPatt = Chem.MolFromSmarts(\"[!#6;!#7;!#8;!#16;!F;!Cl;!Br;!I]\")\n",
    "mols_org = [[i for i in record] for record in active if \\\n",
    "                    (record[0].HasSubstructMatch(hasCarbonPatt) and not record[0].HasSubstructMatch(onlyOrganicPatt))]\n",
    "len(active), len(mols_org)"
   ]
  },
  {
   "cell_type": "markdown",
   "metadata": {},
   "source": [
    "##### Remove salts"
   ]
  },
  {
   "cell_type": "code",
   "execution_count": 28,
   "metadata": {
    "collapsed": true
   },
   "outputs": [],
   "source": [
    "from rdkit.Chem.SaltRemover import SaltRemover"
   ]
  },
  {
   "cell_type": "code",
   "execution_count": 33,
   "metadata": {},
   "outputs": [
    {
     "data": {
      "text/plain": [
       "[(<rdkit.Chem.rdchem.Mol at 0x1fa992d9940>, 2.8),\n",
       " (<rdkit.Chem.rdchem.Mol at 0x1fa9d1f0cb0>, 4.5),\n",
       " (<rdkit.Chem.rdchem.Mol at 0x1fa9d1f0440>, 5.5)]"
      ]
     },
     "execution_count": 33,
     "metadata": {},
     "output_type": "execute_result"
    }
   ],
   "source": [
    "remover = SaltRemover()\n",
    "mols_org_desalt = [remover(record[0]) for record in mols_org]\n",
    "\n",
    "concentrations = [record[1] for record in mols_org]\n",
    "mols_org_desalt = list(zip(mols_org_desalt, concentrations))\n",
    "\n",
    "mols_org_desalt[:3]"
   ]
  },
  {
   "cell_type": "code",
   "execution_count": 57,
   "metadata": {},
   "outputs": [
    {
     "data": {
      "text/plain": [
       "(259, 111)"
      ]
     },
     "execution_count": 57,
     "metadata": {},
     "output_type": "execute_result"
    }
   ],
   "source": [
    "split = int(len(mols_org_desalt)*0.7)\n",
    "shuffle(mols_org_desalt)\n",
    "train_f = mols_org_desalt[0:split] \n",
    "test_f = mols_org_desalt[split:]\n",
    "len(train), len(test)"
   ]
  },
  {
   "cell_type": "markdown",
   "metadata": {},
   "source": [
    "##### Compute descriptors"
   ]
  },
  {
   "cell_type": "code",
   "execution_count": 58,
   "metadata": {},
   "outputs": [],
   "source": [
    "morgan_fps_ftrain = [AllChem.GetMorganFingerprintAsBitVect(m[0], 2, nBits=512) for m in train_f]\n",
    "morgan_fps_ftest = [AllChem.GetMorganFingerprintAsBitVect(m[0], 2, nBits=512) for m in test_f]\n",
    "pvals_ftrain = [s(m[1]) for m in train_f]\n",
    "pvals_ftest = [s(m[1]) for m in test_f]"
   ]
  },
  {
   "cell_type": "markdown",
   "metadata": {},
   "source": [
    "## Filtered data model 1"
   ]
  },
  {
   "cell_type": "code",
   "execution_count": 59,
   "metadata": {
    "collapsed": true
   },
   "outputs": [],
   "source": [
    "f1 = ensemble.RandomForestRegressor()\n",
    "f1.fit(morgan_fps_ftrain, pvals_ftrain)\n",
    "preds_f1 = f1.predict(morgan_fps_ftrain)"
   ]
  },
  {
   "cell_type": "code",
   "execution_count": 60,
   "metadata": {},
   "outputs": [
    {
     "data": {
      "image/png": "[encoded data removed]",
      "text/plain": [
       "<matplotlib.figure.Figure at 0x1fa9d15e7b8>"
      ]
     },
     "metadata": {},
     "output_type": "display_data"
    }
   ],
   "source": [
    "plot(zip(preds_f1,pvals_ftrain))"
   ]
  },
  {
   "cell_type": "markdown",
   "metadata": {},
   "source": [
    "### Testing"
   ]
  },
  {
   "cell_type": "code",
   "execution_count": 61,
   "metadata": {},
   "outputs": [
    {
     "data": {
      "image/png": "[encoded data removed]",
      "text/plain": [
       "<matplotlib.figure.Figure at 0x1fa9ca3a5f8>"
      ]
     },
     "metadata": {},
     "output_type": "display_data"
    }
   ],
   "source": [
    "test_preds_f1 = f1.predict(morgan_fps_ftest)\n",
    "plot(zip(test_preds_f1, pvals_ftest))"
   ]
  },
  {
   "cell_type": "code",
   "execution_count": 62,
   "metadata": {},
   "outputs": [
    {
     "name": "stdout",
     "output_type": "stream",
     "text": [
      "R^2: 0.54\n",
      "R: 0.73\n",
      "MSE: 0.40\n"
     ]
    }
   ],
   "source": [
    "print(\"R^2: %0.2f\" % model2.score(morgan_fps_test, pvals_test))\n",
    "print(\"R: %0.2f\" % np.sqrt(model2.score(morgan_fps_test, pvals_test)))\n",
    "print(\"MSE: %0.2f\" %  mean_squared_error(model2.predict(morgan_fps_test), pvals_test))"
   ]
  },
  {
   "cell_type": "raw",
   "metadata": {},
   "source": [
    "^In this case not very helpful, worse even, probably due to slimming down the data set (that the model learns from) or just due to chance (data was always randomized before splitting it between train and test set)"
   ]
  }
 ],
 "metadata": {
  "kernelspec": {
   "display_name": "Python 3",
   "language": "python",
   "name": "python3"
  },
  "language_info": {
   "codemirror_mode": {
    "name": "ipython",
    "version": 3
   },
   "file_extension": ".py",
   "mimetype": "text/x-python",
   "name": "python",
   "nbconvert_exporter": "python",
   "pygments_lexer": "ipython3",
   "version": "3.6.2"
  }
 },
 "nbformat": 4,
 "nbformat_minor": 2
}
