{
 "cells": [
  {
   "cell_type": "code",
   "execution_count": 19,
   "metadata": {
    "collapsed": true
   },
   "outputs": [],
   "source": [
    "from rdkit import Chem\n",
    "from rdkit.Chem import rdMolDescriptors\n",
    "\n",
    "import numpy as np\n",
    "from random import shuffle\n",
    "\n",
    "from sklearn import svm\n",
    "from sklearn import ensemble\n",
    "from sklearn import model_selection as ms\n",
    "from sklearn.metrics import mean_squared_error\n",
    "\n",
    "import matplotlib.pyplot as plt"
   ]
  },
  {
   "cell_type": "markdown",
   "metadata": {},
   "source": [
    "# Preparation of datasets"
   ]
  },
  {
   "cell_type": "code",
   "execution_count": 4,
   "metadata": {
    "collapsed": true
   },
   "outputs": [],
   "source": [
    "#read data - ChemblID, canonical smiles, standard value and standard unit\n",
    "data_file = open(\"./data/beta_amyloidA4_protein_IC50.tsv\")\n",
    "data_file.readline() #read the header (remove it)\n",
    "def splitter(line):\n",
    "    spls = line.strip().split(\"\\t\")\n",
    "    if spls[14] != \"\" and spls[15] != \"\":\n",
    "        return (spls[0],Chem.MolFromSmiles(spls[10]),float(spls[14]), spls[15])\n",
    "mols = [splitter(line) for line in data_file]"
   ]
  },
  {
   "cell_type": "code",
   "execution_count": 5,
   "metadata": {},
   "outputs": [
    {
     "data": {
      "text/plain": [
       "854"
      ]
     },
     "execution_count": 5,
     "metadata": {},
     "output_type": "execute_result"
    }
   ],
   "source": [
    "len(mols)"
   ]
  },
  {
   "cell_type": "code",
   "execution_count": 6,
   "metadata": {},
   "outputs": [
    {
     "data": {
      "text/plain": [
       "785"
      ]
     },
     "execution_count": 6,
     "metadata": {},
     "output_type": "execute_result"
    }
   ],
   "source": [
    "mols = [m for m in mols if m and m[3] ==\"nM\"]\n",
    "len(mols)"
   ]
  },
  {
   "cell_type": "code",
   "execution_count": 7,
   "metadata": {},
   "outputs": [
    {
     "data": {
      "text/plain": [
       "(385,\n",
       " [('CHEMBL442801', <rdkit.Chem.rdchem.Mol at 0x1c7398e3ee0>, 3.5, 'nM', 1),\n",
       "  ('CHEMBL3653726', <rdkit.Chem.rdchem.Mol at 0x1c7398e3ad0>, 1.0, 'nM', 1),\n",
       "  ('CHEMBL231446', <rdkit.Chem.rdchem.Mol at 0x1c7388e18f0>, 530.0, 'nM', 1),\n",
       "  ('CHEMBL236190', <rdkit.Chem.rdchem.Mol at 0x1c7388f88a0>, 45.0, 'nM', 1),\n",
       "  ('CHEMBL200077', <rdkit.Chem.rdchem.Mol at 0x1c7398d2030>, 180.0, 'nM', 1)])"
      ]
     },
     "execution_count": 7,
     "metadata": {},
     "output_type": "execute_result"
    }
   ],
   "source": [
    "active = [m for m in mols if m[2] < 1000]\n",
    "active = [a + (1,) for a in active] #add 1 as a clasifier for active\n",
    "shuffle(active)\n",
    "len(active), active[:5]"
   ]
  },
  {
   "cell_type": "code",
   "execution_count": 8,
   "metadata": {},
   "outputs": [
    {
     "data": {
      "text/plain": [
       "239"
      ]
     },
     "execution_count": 8,
     "metadata": {},
     "output_type": "execute_result"
    }
   ],
   "source": [
    "inactive = [m for m in mols if m[2] >= 10000]\n",
    "inactive = [i + (0,) for i in inactive] #add 0 as a clasifier for non active\n",
    "len(inactive)"
   ]
  },
  {
   "cell_type": "code",
   "execution_count": 16,
   "metadata": {},
   "outputs": [
    {
     "data": {
      "text/plain": [
       "(269, 116)"
      ]
     },
     "execution_count": 16,
     "metadata": {},
     "output_type": "execute_result"
    }
   ],
   "source": [
    "splitI = int(len(inactive)*0.7)\n",
    "splitA = int(len(active)*0.7)\n",
    "\n",
    "train = active[0:splitA] # + inactive[0:splitI]\n",
    "test = active[splitA:] # + inactive[splitI:]\n",
    "len(train), len(test)"
   ]
  },
  {
   "cell_type": "markdown",
   "metadata": {},
   "source": [
    "# Random Forest"
   ]
  },
  {
   "cell_type": "markdown",
   "metadata": {},
   "source": [
    "## Training model"
   ]
  },
  {
   "cell_type": "code",
   "execution_count": 17,
   "metadata": {},
   "outputs": [
    {
     "data": {
      "text/plain": [
       "(269, 269)"
      ]
     },
     "execution_count": 17,
     "metadata": {},
     "output_type": "execute_result"
    }
   ],
   "source": [
    "mqns = [rdMolDescriptors.MQNs_(m[1]) for m in train]\n",
    "vals = [m[2] for m in train]\n",
    "len(mqns), len(vals)"
   ]
  },
  {
   "cell_type": "markdown",
   "metadata": {},
   "source": [
    "### Model 1 - using mqns"
   ]
  },
  {
   "cell_type": "code",
   "execution_count": 49,
   "metadata": {},
   "outputs": [],
   "source": [
    "# Our old good function to display points\n",
    "def plot(X, *args, highlights=set()):\n",
    "    fig = plt.figure()\n",
    "    #ax = plt.subplot(111)\n",
    "    for i, point in enumerate(X):\n",
    "        x,y = point\n",
    "        if i in highlights:\n",
    "            plt.plot([x],[y],\"r.\", markersize=4)\n",
    "        else:\n",
    "            plt.plot([x],[y],\"k.\", markersize=1)\n",
    "    plt.show()"
   ]
  },
  {
   "cell_type": "code",
   "execution_count": 50,
   "metadata": {
    "collapsed": true
   },
   "outputs": [],
   "source": [
    "s = lambda x : -1.0 * np.log10(x / 1.0e9)\n",
    "pvals = [s(val) for val in vals]"
   ]
  },
  {
   "cell_type": "code",
   "execution_count": 52,
   "metadata": {
    "collapsed": true
   },
   "outputs": [],
   "source": [
    "model1 = ensemble.RandomForestRegressor()\n",
    "model1.fit(mqns, pvals)\n",
    "preds1 = model1.predict(mqns)"
   ]
  },
  {
   "cell_type": "code",
   "execution_count": 53,
   "metadata": {},
   "outputs": [
    {
     "data": {
      "image/png": "[encoded data removed]",
      "text/plain": [
       "<matplotlib.figure.Figure at 0x1c73c5a8320>"
      ]
     },
     "metadata": {},
     "output_type": "display_data"
    }
   ],
   "source": [
    "plot(zip(preds1,pvals))"
   ]
  },
  {
   "cell_type": "markdown",
   "metadata": {},
   "source": [
    "### Model 2 - using Morgan Fingerprints"
   ]
  },
  {
   "cell_type": "code",
   "execution_count": 54,
   "metadata": {
    "collapsed": true
   },
   "outputs": [],
   "source": [
    "from rdkit.Chem import AllChem\n",
    "morgan_fps = [AllChem.GetMorganFingerprintAsBitVect(m[1], 2, nBits=512) for m in train]"
   ]
  },
  {
   "cell_type": "code",
   "execution_count": 55,
   "metadata": {},
   "outputs": [],
   "source": [
    "model2 = ensemble.RandomForestRegressor()\n",
    "model2.fit(morgan_fps, pvals)\n",
    "preds2 = model2.predict(morgan_fps)"
   ]
  },
  {
   "cell_type": "code",
   "execution_count": 56,
   "metadata": {},
   "outputs": [
    {
     "data": {
      "image/png": "[encoded data removed]",
      "text/plain": [
       "<matplotlib.figure.Figure at 0x1c73c343908>"
      ]
     },
     "metadata": {},
     "output_type": "display_data"
    }
   ],
   "source": [
    "plot(zip(preds2,pvals))"
   ]
  },
  {
   "cell_type": "markdown",
   "metadata": {},
   "source": [
    "## Testing models on test set"
   ]
  },
  {
   "cell_type": "code",
   "execution_count": 62,
   "metadata": {
    "collapsed": true
   },
   "outputs": [],
   "source": [
    "mqns_test = [rdMolDescriptors.MQNs_(m[1]) for m in test]\n",
    "vals_test = [m[2] for m in test]\n",
    "morgan_fps_test = [AllChem.GetMorganFingerprintAsBitVect(m[1], 2, nBits=512) for m in test]\n",
    "pvals_test = [s(val) for val in vals_test]"
   ]
  },
  {
   "cell_type": "code",
   "execution_count": 57,
   "metadata": {},
   "outputs": [
    {
     "data": {
      "image/png": "[encoded data removed]",
      "text/plain": [
       "<matplotlib.figure.Figure at 0x1c73c2df438>"
      ]
     },
     "metadata": {},
     "output_type": "display_data"
    }
   ],
   "source": [
    "test_predictions1 = model1.predict(mqns_test)\n",
    "plot(zip(test_predictions1, pvals_test))"
   ]
  },
  {
   "cell_type": "code",
   "execution_count": 59,
   "metadata": {},
   "outputs": [
    {
     "name": "stdout",
     "output_type": "stream",
     "text": [
      "R^2: 0.64\n",
      "R: 0.80\n",
      "MSE: 0.33\n"
     ]
    }
   ],
   "source": [
    "print(\"R^2: %0.2f\" % model1.score(mqns_test, pvals_test))\n",
    "print(\"R: %0.2f\" % np.sqrt(model1.score(mqns_test, pvals_test)))\n",
    "print(\"MSE: %0.2f\" %  mean_squared_error(model1.predict(mqns_test), pvals_test))"
   ]
  },
  {
   "cell_type": "code",
   "execution_count": 63,
   "metadata": {},
   "outputs": [
    {
     "data": {
      "image/png": "[encoded data removed]",
      "text/plain": [
       "<matplotlib.figure.Figure at 0x1c73bf23780>"
      ]
     },
     "metadata": {},
     "output_type": "display_data"
    }
   ],
   "source": [
    "test_predictions2 = model2.predict(morgan_fps_test)\n",
    "plot(zip(test_predictions2, pvals_test))"
   ]
  },
  {
   "cell_type": "code",
   "execution_count": 64,
   "metadata": {},
   "outputs": [
    {
     "name": "stdout",
     "output_type": "stream",
     "text": [
      "R^2: 0.63\n",
      "R: 0.79\n",
      "MSE: 0.34\n"
     ]
    }
   ],
   "source": [
    "print(\"R^2: %0.2f\" % model2.score(morgan_fps_test, pvals_test))\n",
    "print(\"R: %0.2f\" % np.sqrt(model2.score(morgan_fps_test, pvals_test)))\n",
    "print(\"MSE: %0.2f\" %  mean_squared_error(model2.predict(morgan_fps_test), pvals_test))"
   ]
  },
  {
   "cell_type": "markdown",
   "metadata": {},
   "source": [
    "# SVM Regression\n"
   ]
  },
  {
   "cell_type": "code",
   "execution_count": 68,
   "metadata": {},
   "outputs": [
    {
     "data": {
      "text/plain": [
       "SVR(C=1.0, cache_size=200, coef0=0.0, degree=3, epsilon=0.1, gamma='auto',\n",
       "  kernel='rbf', max_iter=-1, shrinking=True, tol=0.001, verbose=False)"
      ]
     },
     "execution_count": 68,
     "metadata": {},
     "output_type": "execute_result"
    }
   ],
   "source": [
    "clf = svm.SVR()\n",
    "clf.fit(mqns, pvals)"
   ]
  },
  {
   "cell_type": "code",
   "execution_count": 70,
   "metadata": {},
   "outputs": [
    {
     "data": {
      "image/png": "[encoded data removed]",
      "text/plain": [
       "<matplotlib.figure.Figure at 0x1c73b8df358>"
      ]
     },
     "metadata": {},
     "output_type": "display_data"
    }
   ],
   "source": [
    "svm_preds1 = clf.predict(mqns)\n",
    "plot(zip(svm_preds1,pvals))"
   ]
  }
 ],
 "metadata": {
  "kernelspec": {
   "display_name": "Python 3",
   "language": "python",
   "name": "python3"
  },
  "language_info": {
   "codemirror_mode": {
    "name": "ipython",
    "version": 3
   },
   "file_extension": ".py",
   "mimetype": "text/x-python",
   "name": "python",
   "nbconvert_exporter": "python",
   "pygments_lexer": "ipython3",
   "version": "3.6.2"
  }
 },
 "nbformat": 4,
 "nbformat_minor": 2
}
