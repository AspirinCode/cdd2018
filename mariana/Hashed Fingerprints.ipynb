{
 "cells": [
  {
   "cell_type": "code",
   "execution_count": 4,
   "metadata": {
    "collapsed": true
   },
   "outputs": [],
   "source": [
    "from rdkit import Chem\n",
    "from rdkit.Chem import AllChem\n",
    "from rdkit.Chem import Draw\n",
    "drugbank_input = Chem.SDMolSupplier('../data/drugbank.sdf')\n",
    "drugbank = [m for m in drugbank_input if m]"
   ]
  },
  {
   "cell_type": "code",
   "execution_count": 6,
   "metadata": {},
   "outputs": [],
   "source": [
    "drugbank_fps = [AllChem.GetMorganFingerprintAsBitVect(m,2, nBits=512) for m in drugbank]"
   ]
  },
  {
   "cell_type": "code",
   "execution_count": 12,
   "metadata": {},
   "outputs": [
    {
     "name": "stdout",
     "output_type": "stream",
     "text": [
      "01001000100000000001000000001000010000010110000000000000000001001010000000000001101100101000001000000000000010011000010000000000100000000010100100010000100100000000000010000101010100010000000001001100010000000000001000110000100100000100000000100001010000000000000100100100001000000001000101000011000001000000101101000001000001000000000001001000010000000010100001110000010000011000011000000100000000100000000001000011100000010001000000000000010100100000000010100000010000110000000010001000100000000000000001110010\n"
     ]
    },
    {
     "data": {
      "text/plain": [
       "512"
      ]
     },
     "execution_count": 12,
     "metadata": {},
     "output_type": "execute_result"
    }
   ],
   "source": [
    "first = drugbank_fps[0]\n",
    "print(first.ToBitString())\n",
    "len(first.ToBitString())"
   ]
  },
  {
   "cell_type": "code",
   "execution_count": 13,
   "metadata": {},
   "outputs": [
    {
     "data": {
      "image/png": "[encoded data removed]",
      "text/plain": [
       "<PIL.Image.Image image mode=RGB size=300x300 at 0x1CFFFB4FF28>"
      ]
     },
     "execution_count": 13,
     "metadata": {},
     "output_type": "execute_result"
    }
   ],
   "source": [
    "from rdkit import DataStructs\n",
    "salicylica = Chem.MolFromSmiles(\"c1ccc(c(c1)C(=O)O)O\")\n",
    "Draw.MolToImage(salicylica)"
   ]
  },
  {
   "cell_type": "code",
   "execution_count": 15,
   "metadata": {},
   "outputs": [
    {
     "data": {
      "text/plain": [
       "'00000000000000000000000100000000000000000000000000000000000000001010000100000000000000000000000000000000000000000000000000000000000000000010000000000000000000000000000000000001000000000001000000000000000000000000001000000000000000000000000000000000000000000000000000000000000000000000000000000001000000000000000000000000000000000000000001000000000000000000100000000000000000000000010000000100000000000000000000000000000000010000000000000000000000000000000110000000000000000000000000000000000000010000000000000000'"
      ]
     },
     "execution_count": 15,
     "metadata": {},
     "output_type": "execute_result"
    }
   ],
   "source": [
    "salicylica_fp = AllChem.GetMorganFingerprintAsBitVect(salicylica, 2, nBits=512)\n",
    "salicylica_fp.ToBitString()"
   ]
  },
  {
   "cell_type": "code",
   "execution_count": 18,
   "metadata": {},
   "outputs": [
    {
     "data": {
      "text/plain": [
       "(0.0, 1.0, 0.1337547673692333)"
      ]
     },
     "execution_count": 18,
     "metadata": {},
     "output_type": "execute_result"
    }
   ],
   "source": [
    "salicylica_similarities = [DataStructs.FingerprintSimilarity(salicylica_fp, fp) for fp in drugbank_fps]\n",
    "min(salicylica_similarities), max(salicylica_similarities), sum(salicylica_similarities)/len(salicylica_similarities)"
   ]
  },
  {
   "cell_type": "code",
   "execution_count": 20,
   "metadata": {},
   "outputs": [
    {
     "data": {
      "image/png": "[encoded data removed]",
      "text/plain": [
       "<PIL.Image.Image image mode=RGBA size=600x200 at 0x1CFF091BC18>"
      ]
     },
     "execution_count": 20,
     "metadata": {},
     "output_type": "execute_result"
    }
   ],
   "source": [
    "hit_indexes = [i for i, similarity in enumerate(salicylica_similarities) if similarity >= 0.6]\n",
    "Draw.MolsToGridImage([drugbank[i] for i in hit_indexes])"
   ]
  },
  {
   "cell_type": "code",
   "execution_count": 21,
   "metadata": {
    "collapsed": true
   },
   "outputs": [],
   "source": [
    "#jaky bit jen nejnastavovanejsi a jake fragmenty reprezentuje?\n",
    "bit_aggregation = [0]*512\n",
    "for fp in drugbank_fps:\n",
    "    for bit in fp.GetOnBits():\n",
    "        bit_aggregation[bit] += 1"
   ]
  },
  {
   "cell_type": "code",
   "execution_count": 22,
   "metadata": {},
   "outputs": [
    {
     "data": {
      "text/plain": [
       "(96, 174, 5667, 356)"
      ]
     },
     "execution_count": 22,
     "metadata": {},
     "output_type": "execute_result"
    }
   ],
   "source": [
    "least_set_amount = min(bit_aggregation)\n",
    "least_set_index = bit_aggregation.index(least_set_amount)\n",
    "most_set_amount = max(bit_aggregation)\n",
    "most_set_index = bit_aggregation.index(most_set_amount)\n",
    "least_set_amount, least_set_index, most_set_amount, most_set_index"
   ]
  },
  {
   "cell_type": "code",
   "execution_count": null,
   "metadata": {
    "collapsed": true
   },
   "outputs": [],
   "source": [
    "def hit2Smiles(hit,mol):\n",
    "    atomid, radius = hit\n",
    "    if radius > 0:\n",
    "        hit_atoms = Chem.FindAtomEnvironmentOfRadiusN(mol, radius, atomid)\n",
    "        submol = Chem.Mo"
   ]
  },
  {
   "cell_type": "code",
   "execution_count": 25,
   "metadata": {},
   "outputs": [],
   "source": [
    "def mol2fragments(mol):\n",
    "    bitinfo = {}\n",
    "    fp = AllChem.GetMorganFingerprintAsBitVect(x, 2, nBits=512,\n",
    "                                          bitInfo=bitInfo)\n",
    "    fragments = {bit: [hit2smiles(hit,mol) for hit in hits]\n",
    "                 for bit, hits in bitinfo.items()}\n",
    "    return fragments"
   ]
  },
  {
   "cell_type": "code",
   "execution_count": 26,
   "metadata": {
    "collapsed": true
   },
   "outputs": [],
   "source": [
    "def explain_bit(bit,molecules):\n",
    "    fragments = {}\n",
    "    for mol in drugbank:\n",
    "        molecule_fragments = mol2fragments(mol)\n",
    "        if bit in molecule_fragments:\n",
    "            for smiles in molecule_fragments[bit]:\n",
    "                fragments[smiles] = fragments.get(smiles,0) + 1"
   ]
  },
  {
   "cell_type": "code",
   "execution_count": null,
   "metadata": {
    "collapsed": true
   },
   "outputs": [],
   "source": [
    "explain_bit(356, drugbank)"
   ]
  }
 ],
 "metadata": {
  "kernelspec": {
   "display_name": "Python 3",
   "language": "python",
   "name": "python3"
  },
  "language_info": {
   "codemirror_mode": {
    "name": "ipython",
    "version": 3
   },
   "file_extension": ".py",
   "mimetype": "text/x-python",
   "name": "python",
   "nbconvert_exporter": "python",
   "pygments_lexer": "ipython3",
   "version": "3.6.2"
  }
 },
 "nbformat": 4,
 "nbformat_minor": 2
}
