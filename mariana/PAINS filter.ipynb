{
 "cells": [
  {
   "cell_type": "code",
   "execution_count": 1,
   "metadata": {
    "collapsed": true
   },
   "outputs": [],
   "source": [
    "from rdkit import Chem\n",
    "from rdkit.Chem import Draw"
   ]
  },
  {
   "cell_type": "code",
   "execution_count": 2,
   "metadata": {
    "collapsed": true
   },
   "outputs": [],
   "source": [
    "drugbank_input = Chem.SDMolSupplier('../data/drugbank.sdf')\n",
    "drugbank = [m for m in drugbank_input if m]"
   ]
  },
  {
   "cell_type": "code",
   "execution_count": 4,
   "metadata": {
    "collapsed": true
   },
   "outputs": [],
   "source": [
    "#loading PAINS\n",
    "with open('../data/PAINS/p_l15.txt') as p:\n",
    "    pains_l15 = [(Chem.MolFromSmarts(smarts), comment.lstrip('<regId=\"').split('(')[0]) for smarts, comment in (line.split() for line in p)]"
   ]
  },
  {
   "cell_type": "code",
   "execution_count": 5,
   "metadata": {
    "collapsed": true
   },
   "outputs": [],
   "source": [
    "with open('../data/PAINS/p_l150.txt') as p:\n",
    "    pains_l150 = [(Chem.MolFromSmarts(smarts), comment.lstrip('<regId=\"').split('(')[0]) for smarts, comment in (line.split() for line in p)]"
   ]
  },
  {
   "cell_type": "code",
   "execution_count": 11,
   "metadata": {
    "collapsed": true
   },
   "outputs": [],
   "source": [
    "with open('../data/PAINS/p_m150.txt') as p:\n",
    "    pains_m150 = [(Chem.MolFromSmarts(smarts), comment.lstrip('<regId=\"').split('(')[0]) for smarts, comment in (line.split() for line in p)]"
   ]
  },
  {
   "cell_type": "code",
   "execution_count": 12,
   "metadata": {},
   "outputs": [
    {
     "data": {
      "text/plain": [
       "(409, 55, 16)"
      ]
     },
     "execution_count": 12,
     "metadata": {},
     "output_type": "execute_result"
    }
   ],
   "source": [
    "len(pains_l15), len(pains_l150), len(pains_m150)"
   ]
  },
  {
   "cell_type": "code",
   "execution_count": 13,
   "metadata": {},
   "outputs": [
    {
     "data": {
      "text/plain": [
       "480"
      ]
     },
     "execution_count": 13,
     "metadata": {},
     "output_type": "execute_result"
    }
   ],
   "source": [
    "all_pains = pains_l15 + pains_l150 + pains_m150\n",
    "len(all_pains)"
   ]
  },
  {
   "cell_type": "code",
   "execution_count": 14,
   "metadata": {},
   "outputs": [
    {
     "data": {
      "text/plain": [
       "[(<rdkit.Chem.rdchem.Mol at 0x1f775375d00>, 'anil_di_alk_F'),\n",
       " (<rdkit.Chem.rdchem.Mol at 0x1f76b49d990>, 'hzone_anil'),\n",
       " (<rdkit.Chem.rdchem.Mol at 0x1f775375ee0>, 'het_5_pyrazole_OH'),\n",
       " (<rdkit.Chem.rdchem.Mol at 0x1f775375f30>, 'het_thio_666_A'),\n",
       " (<rdkit.Chem.rdchem.Mol at 0x1f775376030>, 'styrene_A'),\n",
       " (<rdkit.Chem.rdchem.Mol at 0x1f7753760d0>, 'ne_rhod_C'),\n",
       " (<rdkit.Chem.rdchem.Mol at 0x1f775376080>, 'hp_amino_CN_A'),\n",
       " (<rdkit.Chem.rdchem.Mol at 0x1f775376120>, 'cyano_imine_C'),\n",
       " (<rdkit.Chem.rdchem.Mol at 0x1f775376170>, 'thio_urea_A'),\n",
       " (<rdkit.Chem.rdchem.Mol at 0x1f7753761c0>, 'thiophene_amino_B')]"
      ]
     },
     "execution_count": 14,
     "metadata": {},
     "output_type": "execute_result"
    }
   ],
   "source": [
    "all_pains[:10]"
   ]
  },
  {
   "cell_type": "code",
   "execution_count": 19,
   "metadata": {},
   "outputs": [
    {
     "data": {
      "text/plain": [
       "'c1(:c(:c(:c(:c(:c:1-[#1])-[#1])-[#7](-[#1])-[#1])-[#1])-[#1])-[#6]=[#7]-[#7]-[#1]'"
      ]
     },
     "execution_count": 19,
     "metadata": {},
     "output_type": "execute_result"
    }
   ],
   "source": [
    "Chem.MolToSmarts(all_pains[1][0]), drugbank[]"
   ]
  },
  {
   "cell_type": "code",
   "execution_count": 26,
   "metadata": {},
   "outputs": [],
   "source": [
    "drugbank_pains = [tuple((m.HasSubstructMatch(pain) for pain, comment in all_pains)) for m in drugbank]"
   ]
  },
  {
   "cell_type": "code",
   "execution_count": 27,
   "metadata": {},
   "outputs": [
    {
     "data": {
      "text/plain": [
       "(7110, 142)"
      ]
     },
     "execution_count": 27,
     "metadata": {},
     "output_type": "execute_result"
    }
   ],
   "source": [
    "painsfails = [i for i, patterns in enumerate(drugbank_pains) if any(patterns)]\n",
    "len(drugbank_pains), len(painsfails)"
   ]
  },
  {
   "cell_type": "code",
   "execution_count": 32,
   "metadata": {},
   "outputs": [
    {
     "data": {
      "text/plain": [
       "[['quinone_A'],\n",
       " ['anil_di_alk_C'],\n",
       " ['amino_acridine_A'],\n",
       " ['quinone_A'],\n",
       " ['styrene_A'],\n",
       " ['quinone_A'],\n",
       " ['anil_di_alk_B'],\n",
       " ['quinone_A'],\n",
       " ['azo_A'],\n",
       " ['keto_keto_beta_A']]"
      ]
     },
     "execution_count": 32,
     "metadata": {},
     "output_type": "execute_result"
    }
   ],
   "source": [
    "painsfails_mols = [drugbank[i] for i in painsfails]\n",
    "painsfails_hits = [[all_pains[j][1] for j, match in enumerate(drugbank_pains[i]) if match] for i in painsfails]\n",
    "painsfails_hits[:10]"
   ]
  },
  {
   "cell_type": "code",
   "execution_count": 41,
   "metadata": {},
   "outputs": [
    {
     "data": {
      "text/plain": [
       "[61, 141, 166, 195, 211, 274, 294, 332, 382, 385]"
      ]
     },
     "execution_count": 41,
     "metadata": {},
     "output_type": "execute_result"
    }
   ],
   "source": [
    "drugbank_pains[:10]\n",
    "painsfails[:10]"
   ]
  },
  {
   "cell_type": "code",
   "execution_count": 42,
   "metadata": {},
   "outputs": [
    {
     "data": {
      "image/png": "[encoded data removed]",
      "text/plain": [
       "<PIL.Image.Image image mode=RGBA size=600x800 at 0x1F778737CF8>"
      ]
     },
     "execution_count": 42,
     "metadata": {},
     "output_type": "execute_result"
    }
   ],
   "source": [
    "Draw.MolsToGridImage(painsfails_mols[:10], legends=[\", \".join(fails) for fails in painsfails_hits[:10]])"
   ]
  },
  {
   "cell_type": "code",
   "execution_count": null,
   "metadata": {
    "collapsed": true
   },
   "outputs": [],
   "source": []
  }
 ],
 "metadata": {
  "kernelspec": {
   "display_name": "Python 3",
   "language": "python",
   "name": "python3"
  },
  "language_info": {
   "codemirror_mode": {
    "name": "ipython",
    "version": 3
   },
   "file_extension": ".py",
   "mimetype": "text/x-python",
   "name": "python",
   "nbconvert_exporter": "python",
   "pygments_lexer": "ipython3",
   "version": "3.6.2"
  }
 },
 "nbformat": 4,
 "nbformat_minor": 2
}
