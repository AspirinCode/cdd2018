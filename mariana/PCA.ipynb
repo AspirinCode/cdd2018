{
 "cells": [
  {
   "cell_type": "code",
   "execution_count": 29,
   "metadata": {
    "collapsed": true
   },
   "outputs": [],
   "source": [
    "from rdkit import Chem\n",
    "from rdkit.Chem import Descriptors\n",
    "from rdkit.Chem import rdMolDescriptors as rdescriptors\n",
    "\n",
    "import matplotlib.pyplot as plt\n",
    "\n",
    "import numpy as np\n",
    "from sklearn.decomposition import PCA\n",
    "from sklearn.preprocessing import StandardScaler"
   ]
  },
  {
   "cell_type": "code",
   "execution_count": 2,
   "metadata": {
    "collapsed": true
   },
   "outputs": [],
   "source": [
    "def lipinski_wt(m):\n",
    "    return Descriptors.MolWt(m)\n",
    "\n",
    "def lipinski_logpt(m):\n",
    "    return Descriptors.MolLogP(m)\n",
    "\n",
    "def lipinski_hba(m):\n",
    "    return rdescriptors.CalcNumLipinskiHBA(m)\n",
    "\n",
    "def lipinski_hbd(m):\n",
    "    return rdescriptors.CalcNumLipinskiHBD(m)"
   ]
  },
  {
   "cell_type": "code",
   "execution_count": 3,
   "metadata": {
    "collapsed": true
   },
   "outputs": [],
   "source": [
    "drugbank_input = Chem.SDMolSupplier('../data/drugbank.sdf')\n",
    "drugbank = [m for m in drugbank_input if m]"
   ]
  },
  {
   "cell_type": "code",
   "execution_count": 14,
   "metadata": {
    "collapsed": true
   },
   "outputs": [],
   "source": [
    "lip_array = list([lipinski_wt(m), lipinski_logpt(m), lipinski_hba(m), lipinski_hbd(m)] for m in drugbank)"
   ]
  },
  {
   "cell_type": "code",
   "execution_count": 15,
   "metadata": {},
   "outputs": [
    {
     "data": {
      "text/plain": [
       "PCA(copy=True, iterated_power='auto', n_components=4, random_state=None,\n",
       "  svd_solver='auto', tol=0.0, whiten=False)"
      ]
     },
     "execution_count": 15,
     "metadata": {},
     "output_type": "execute_result"
    }
   ],
   "source": [
    "X = np.array(lip_array)\n",
    "pca = PCA(n_components=4)\n",
    "pca.fit(X)"
   ]
  },
  {
   "cell_type": "code",
   "execution_count": 23,
   "metadata": {},
   "outputs": [
    {
     "name": "stdout",
     "output_type": "stream",
     "text": [
      "[  9.99570494e-01   3.61253166e-04   3.95073204e-05   2.87451072e-05]\n"
     ]
    }
   ],
   "source": [
    "print(pca.explained_variance_ratio_)"
   ]
  },
  {
   "cell_type": "code",
   "execution_count": 16,
   "metadata": {},
   "outputs": [],
   "source": [
    "scaler = StandardScaler()\n",
    "scaler.fit(X)\n",
    "Y = scaler.transform(X)"
   ]
  },
  {
   "cell_type": "code",
   "execution_count": 17,
   "metadata": {},
   "outputs": [
    {
     "data": {
      "text/plain": [
       "PCA(copy=True, iterated_power='auto', n_components=4, random_state=None,\n",
       "  svd_solver='auto', tol=0.0, whiten=False)"
      ]
     },
     "execution_count": 17,
     "metadata": {},
     "output_type": "execute_result"
    }
   ],
   "source": [
    "spca = PCA(n_components=4)\n",
    "spca.fit(Y)"
   ]
  },
  {
   "cell_type": "code",
   "execution_count": 24,
   "metadata": {},
   "outputs": [
    {
     "name": "stdout",
     "output_type": "stream",
     "text": [
      "[ 0.7285213   0.22641708  0.03563302  0.0094286 ]\n"
     ]
    }
   ],
   "source": [
    "print(spca.explained_variance_ratio_)"
   ]
  },
  {
   "cell_type": "code",
   "execution_count": 25,
   "metadata": {
    "collapsed": true
   },
   "outputs": [],
   "source": [
    "tY = spca.transform(Y)"
   ]
  },
  {
   "cell_type": "code",
   "execution_count": 26,
   "metadata": {},
   "outputs": [
    {
     "data": {
      "text/plain": [
       "array([[  1.27974525e+01,   1.65836462e+00,   8.72722641e-03,\n",
       "         -2.06373252e-02],\n",
       "       [  6.80077393e+00,   8.11919402e-01,  -6.06557960e-01,\n",
       "         -3.13199341e-02],\n",
       "       [  5.72722042e+00,   5.07162949e-02,  -6.27681792e-01,\n",
       "         -2.69368796e-01],\n",
       "       ..., \n",
       "       [  4.59819506e+00,   1.75707895e+00,  -8.84805808e-02,\n",
       "          2.68711258e-01],\n",
       "       [ -4.62229360e-01,  -4.41179055e-01,   7.02880321e-01,\n",
       "         -2.14726259e-01],\n",
       "       [ -6.15655966e-01,   5.58744513e-01,   1.98653693e-01,\n",
       "         -2.59180362e-01]])"
      ]
     },
     "execution_count": 26,
     "metadata": {},
     "output_type": "execute_result"
    }
   ],
   "source": [
    "tY"
   ]
  },
  {
   "cell_type": "code",
   "execution_count": 32,
   "metadata": {
    "collapsed": true
   },
   "outputs": [],
   "source": [
    "def pca_plot(X, *args, highlights=set()):\n",
    "    plt.figure()\n",
    "    ax = plt.subplot(111)\n",
    "    for i, point in enumerate(X):\n",
    "        x,y = point\n",
    "        if i in highlights:\n",
    "            plt.plot([x],[y],\"r.\", markersize=4)\n",
    "        else:\n",
    "            plt.plot([x],[y],\"k.\", markersize=1)\n",
    "    plt.show()"
   ]
  },
  {
   "cell_type": "code",
   "execution_count": 33,
   "metadata": {},
   "outputs": [
    {
     "data": {
      "image/png": "[encoded data removed]",
      "text/plain": [
       "<matplotlib.figure.Figure at 0x266ab506d30>"
      ]
     },
     "metadata": {},
     "output_type": "display_data"
    }
   ],
   "source": [
    "pca_plot(X[:,2:])"
   ]
  },
  {
   "cell_type": "code",
   "execution_count": null,
   "metadata": {
    "collapsed": true
   },
   "outputs": [],
   "source": []
  }
 ],
 "metadata": {
  "kernelspec": {
   "display_name": "Python 3",
   "language": "python",
   "name": "python3"
  },
  "language_info": {
   "codemirror_mode": {
    "name": "ipython",
    "version": 3
   },
   "file_extension": ".py",
   "mimetype": "text/x-python",
   "name": "python",
   "nbconvert_exporter": "python",
   "pygments_lexer": "ipython3",
   "version": "3.6.2"
  }
 },
 "nbformat": 4,
 "nbformat_minor": 2
}
