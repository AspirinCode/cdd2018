{
 "cells": [
  {
   "cell_type": "code",
   "execution_count": 1,
   "metadata": {
    "collapsed": true
   },
   "outputs": [],
   "source": [
    "from rdkit.Chem import AllChem as Chem\n",
    "from rdkit.Chem import Draw\n",
    "from scipy.spatial import distance\n",
    "from sklearn import manifold\n",
    "from rdkit import DataStructs\n",
    "\n",
    "from rdkit.SimDivFilters.rdSimDivPickers import MaxMinPicker\n",
    "\n",
    "import matplotlib.pyplot as plt"
   ]
  },
  {
   "cell_type": "code",
   "execution_count": 2,
   "metadata": {
    "collapsed": true
   },
   "outputs": [],
   "source": [
    "supp = Chem.SDMolSupplier(\"../data/drugbank.sdf\")\n",
    "drugbank = [mol for mol in supp if mol]\n",
    "fps = [Chem.GetMorganFingerprintAsBitVect(m,2,nBits=1024) for m in drugbank]"
   ]
  },
  {
   "cell_type": "code",
   "execution_count": 3,
   "metadata": {
    "collapsed": true
   },
   "outputs": [],
   "source": [
    "sparse_mat = distance.pdist(fps,metric=\"jaccard\")"
   ]
  },
  {
   "cell_type": "code",
   "execution_count": null,
   "metadata": {
    "collapsed": true
   },
   "outputs": [],
   "source": [
    "dist_mat = distance.squareform(sparse_mat)"
   ]
  },
  {
   "cell_type": "code",
   "execution_count": null,
   "metadata": {
    "collapsed": true
   },
   "outputs": [],
   "source": [
    "clf = manifold.MDS(n_components=2, n_init=1, max_iter=100, dissimilarity=\"precomputed\")\n",
    "X_mds = clf.fit_transform(dist_mat)"
   ]
  },
  {
   "cell_type": "code",
   "execution_count": null,
   "metadata": {},
   "outputs": [],
   "source": [
    "X_mds[0:10]"
   ]
  },
  {
   "cell_type": "code",
   "execution_count": null,
   "metadata": {
    "collapsed": true
   },
   "outputs": [],
   "source": [
    "def mds_plot(X, *args, highlights=set()):\n",
    "    plt.figure()\n",
    "    ax = plt.subplot(111)\n",
    "    for i, point in enumerate(X):\n",
    "        x,y = point\n",
    "        if i in highlights:\n",
    "            plt.plot([x],[y],\"r.\", markersize=4)\n",
    "        else:\n",
    "            plt.plot([x],[y],\"k.\", markersize=1)\n",
    "    plt.show()"
   ]
  },
  {
   "cell_type": "code",
   "execution_count": null,
   "metadata": {},
   "outputs": [],
   "source": [
    "mds_plot(X_mds)"
   ]
  },
  {
   "cell_type": "code",
   "execution_count": null,
   "metadata": {
    "collapsed": true
   },
   "outputs": [],
   "source": [
    "pattern = Chem.MolFromSmiles(\"O=C(C)Oc1ccccc1C(=O)O\")\n",
    "pat_idxs = [i for i, mol in enumerate(drugbank) if mol.HasSubstructMatch(pattern)]"
   ]
  },
  {
   "cell_type": "code",
   "execution_count": null,
   "metadata": {},
   "outputs": [],
   "source": [
    "len(pat_idxs)"
   ]
  },
  {
   "cell_type": "code",
   "execution_count": null,
   "metadata": {},
   "outputs": [],
   "source": [
    "mds_plot(X_mds,highlights=set(pat_idxs))"
   ]
  },
  {
   "cell_type": "code",
   "execution_count": null,
   "metadata": {},
   "outputs": [],
   "source": [
    "1-dist_mat[pat_idxs,:][:,pat_idxs]"
   ]
  },
  {
   "cell_type": "code",
   "execution_count": null,
   "metadata": {},
   "outputs": [],
   "source": [
    "Draw.MolsToGridImage([mol for i,mol in enumerate(drugbank) if i in pat_idxs])"
   ]
  },
  {
   "cell_type": "code",
   "execution_count": null,
   "metadata": {
    "collapsed": true
   },
   "outputs": [],
   "source": [
    "#def distance_function(index1, index2, *args, fingerprints=fps):\n",
    "#    return 1 - DataStructs.FingerprintSimilarity(fingerprints[index1],fingerprints[index2])\n",
    "\n",
    "def distance_function(index1, index2, *args, matrix=dist_mat):\n",
    "    return matrix[index1,index2]\n",
    "\n",
    "picker = MaxMinPicker()\n",
    "picked_gen = picker.LazyPick(distance_function, len(drugbank), 100, seed=666)\n",
    "picked = tuple(picked_gen)"
   ]
  },
  {
   "cell_type": "code",
   "execution_count": null,
   "metadata": {},
   "outputs": [],
   "source": [
    "mds_plot(X_mds,highlights=set(picked))"
   ]
  },
  {
   "cell_type": "code",
   "execution_count": null,
   "metadata": {},
   "outputs": [],
   "source": [
    "Draw.MolsToGridImage([mol for i,mol in enumerate(drugbank) if i in picked][:15])"
   ]
  },
  {
   "cell_type": "code",
   "execution_count": null,
   "metadata": {},
   "outputs": [],
   "source": [
    "carbon_pat = Chem.MolFromSmarts(\"[#6]\")\n",
    "carb_idxs = [i for i, mol in enumerate(drugbank) if mol.HasSubstructMatch(carbon_pat)]\n",
    "noncarb_idxs = [i for i, mol in enumerate(drugbank) if not mol.HasSubstructMatch(carbon_pat)]\n",
    "mds_plot(X_mds,highlights=set(noncarb_idxs))"
   ]
  },
  {
   "cell_type": "code",
   "execution_count": null,
   "metadata": {},
   "outputs": [],
   "source": [
    "Draw.MolsToGridImage([mol for i,mol in enumerate(drugbank) if i in noncarb_idxs][:15])"
   ]
  },
  {
   "cell_type": "code",
   "execution_count": null,
   "metadata": {
    "collapsed": true
   },
   "outputs": [],
   "source": []
  }
 ],
 "metadata": {
  "kernelspec": {
   "display_name": "Python 3",
   "language": "python",
   "name": "python3"
  },
  "language_info": {
   "codemirror_mode": {
    "name": "ipython",
    "version": 3
   },
   "file_extension": ".py",
   "mimetype": "text/x-python",
   "name": "python",
   "nbconvert_exporter": "python",
   "pygments_lexer": "ipython3",
   "version": "3.6.3"
  }
 },
 "nbformat": 4,
 "nbformat_minor": 2
}
