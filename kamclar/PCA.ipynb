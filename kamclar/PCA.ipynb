{
 "cells": [
  {
   "cell_type": "code",
   "execution_count": 73,
   "metadata": {},
   "outputs": [],
   "source": [
    "from rdkit import Chem\n",
    "from rdkit.Chem import Descriptors\n",
    "from rdkit.Chem import rdMolDescriptors as rdescriptors\n",
    "from sklearn.preprocessing import StandardScaler\n",
    "from sklearn.decomposition import PCA\n",
    "import numpy as np\n",
    "import pandas as pd\n",
    "import matplotlib.pyplot as plt"
   ]
  },
  {
   "cell_type": "code",
   "execution_count": 83,
   "metadata": {},
   "outputs": [],
   "source": [
    "drugbank_input = Chem.SDMolSupplier('../data/drugbank.sdf')\n",
    "drugbank = [m for m in drugbank_input if m]"
   ]
  },
  {
   "cell_type": "code",
   "execution_count": 101,
   "metadata": {},
   "outputs": [],
   "source": [
    "def lipinski_wt_limit(m):\n",
    "    hodnota = Descriptors.MolWt(m) \n",
    "    if hodnota <= 500:\n",
    "        return hodnota\n",
    "    else:\n",
    "        return 0\n",
    "\n",
    "def lipinski_logp_limit(m):\n",
    "    hodnota = Descriptors.MolLogP(m)\n",
    "    if hodnota <= 5:\n",
    "        return hodnota\n",
    "    else:\n",
    "        return 0\n",
    "\n",
    "def lipinski_hba_limit(m):\n",
    "    hodnota = rdescriptors.CalcNumLipinskiHBA(m)\n",
    "    if hodnota <= 10:\n",
    "        return hodnota\n",
    "    else:\n",
    "        return 0\n",
    "\n",
    "def lipinski_hbd_limit(m):\n",
    "    hodnota = rdescriptors.CalcNumLipinskiHBD(m)\n",
    "    if hodnota <= 5:\n",
    "        return hodnota\n",
    "    else:\n",
    "        return 0\n"
   ]
  },
  {
   "cell_type": "code",
   "execution_count": 94,
   "metadata": {},
   "outputs": [
    {
     "data": {
      "text/plain": [
       "False"
      ]
     },
     "execution_count": 94,
     "metadata": {},
     "output_type": "execute_result"
    }
   ],
   "source": []
  },
  {
   "cell_type": "code",
   "execution_count": 102,
   "metadata": {},
   "outputs": [],
   "source": [
    "polePoli = list([lipinski_wt_limit(m), lipinski_logp_limit(m), lipinski_hba_limit(m), lipinski_hbd_limit(m)] for m in drugbank)\n"
   ]
  },
  {
   "cell_type": "code",
   "execution_count": 103,
   "metadata": {},
   "outputs": [
    {
     "data": {
      "text/plain": [
       "array([[ 0.00000e+00, -8.11643e+00,  0.00000e+00,  0.00000e+00],\n",
       "       [ 0.00000e+00, -3.10570e+00,  0.00000e+00,  0.00000e+00],\n",
       "       [ 0.00000e+00, -4.13203e+00,  0.00000e+00,  0.00000e+00],\n",
       "       ...,\n",
       "       [ 0.00000e+00,  1.54710e+00,  0.00000e+00,  0.00000e+00],\n",
       "       [ 3.30422e+02, -3.00000e-04,  5.00000e+00,  0.00000e+00],\n",
       "       [ 4.08897e+02,  3.35040e+00,  4.00000e+00,  1.00000e+00]])"
      ]
     },
     "execution_count": 103,
     "metadata": {},
     "output_type": "execute_result"
    }
   ],
   "source": [
    "X = np.array(polePoli)\n",
    "X"
   ]
  },
  {
   "cell_type": "code",
   "execution_count": 104,
   "metadata": {},
   "outputs": [
    {
     "name": "stdout",
     "output_type": "stream",
     "text": [
      "[9.99147527e-01 3.91663731e-04]\n"
     ]
    }
   ],
   "source": [
    "pca =PCA(n_components =2)\n",
    "pca.fit(X)\n",
    "print(pca.explained_variance_ratio_)"
   ]
  },
  {
   "cell_type": "code",
   "execution_count": 111,
   "metadata": {},
   "outputs": [],
   "source": [
    "scaler = StandardScaler()\n",
    "scaler.fit(X)\n",
    "y = scaler.transform(X)"
   ]
  },
  {
   "cell_type": "code",
   "execution_count": 112,
   "metadata": {},
   "outputs": [
    {
     "name": "stdout",
     "output_type": "stream",
     "text": [
      "[0.424573   0.26486062 0.18492666 0.12563971]\n"
     ]
    }
   ],
   "source": [
    "spca =PCA(n_components =4)\n",
    "spca.fit(y)\n",
    "ty =spca.transform(y)\n",
    "print(spca.explained_variance_ratio_)"
   ]
  },
  {
   "cell_type": "code",
   "execution_count": 113,
   "metadata": {},
   "outputs": [],
   "source": [
    "principalComponents = pca.fit_transform(y)"
   ]
  },
  {
   "cell_type": "code",
   "execution_count": 114,
   "metadata": {},
   "outputs": [],
   "source": [
    "principalDf = pd.DataFrame(data = principalComponents, columns = ['principal component 1', 'principal component 2'])"
   ]
  },
  {
   "cell_type": "code",
   "execution_count": 115,
   "metadata": {},
   "outputs": [],
   "source": [
    "def pca_plot(X, *args, highlights=set()):\n",
    "    fig = plt.figure()\n",
    "    ax = plt.subplot(111)\n",
    "    for i, point in enumerate(X):\n",
    "        x,y = point\n",
    "        if i in highlights:\n",
    "            plt.plot([x],[y],\"r.\", markersize=4)\n",
    "        else:\n",
    "            plt.plot([x],[y],\"k.\", markersize=1)\n",
    "    return fig"
   ]
  },
  {
   "cell_type": "code",
   "execution_count": 116,
   "metadata": {},
   "outputs": [
    {
     "data": {
      "image/png": "[encoded data removed]",
      "text/plain": [
       "<Figure size 432x288 with 1 Axes>"
      ]
     },
     "execution_count": 116,
     "metadata": {},
     "output_type": "execute_result"
    },
    {
     "data": {
      "image/png": "[encoded data removed]",
      "text/plain": [
       "<Figure size 432x288 with 1 Axes>"
      ]
     },
     "metadata": {},
     "output_type": "display_data"
    }
   ],
   "source": [
    "pca_plot(X[:,0:2])"
   ]
  },
  {
   "cell_type": "code",
   "execution_count": null,
   "metadata": {},
   "outputs": [],
   "source": []
  }
 ],
 "metadata": {
  "kernelspec": {
   "display_name": "Python 3",
   "language": "python",
   "name": "python3"
  },
  "language_info": {
   "codemirror_mode": {
    "name": "ipython",
    "version": 3
   },
   "file_extension": ".py",
   "mimetype": "text/x-python",
   "name": "python",
   "nbconvert_exporter": "python",
   "pygments_lexer": "ipython3",
   "version": "3.6.4"
  }
 },
 "nbformat": 4,
 "nbformat_minor": 2
}
