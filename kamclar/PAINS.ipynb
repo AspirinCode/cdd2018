{
 "cells": [
  {
   "cell_type": "code",
   "execution_count": 2,
   "metadata": {},
   "outputs": [],
   "source": [
    "from rdkit import Chem\n",
    "from rdkit.Chem import Draw\n",
    "drugbankInput = Chem.SDMolSupplier('../data/drugbank.sdf')\n",
    "drugbank = [m for m in drugbankInput if m]"
   ]
  },
  {
   "cell_type": "code",
   "execution_count": 3,
   "metadata": {},
   "outputs": [],
   "source": [
    "with open('../data/PAINS/p_l15.txt') as p:\n",
    "    pains_l15 = [(Chem.MolFromSmarts(smarts), comment.lstrip('<regId=\"').split('(')[0]) for smarts, comment in (line.split() for line in p)]"
   ]
  },
  {
   "cell_type": "code",
   "execution_count": 4,
   "metadata": {},
   "outputs": [],
   "source": [
    "with open('../data/PAINS/p_l150.txt') as p:\n",
    "    pains_l150 = [(Chem.MolFromSmarts(smarts), comment.lstrip('<regId=\"').split('(')[0]) for smarts, comment in (line.split() for line in p)]"
   ]
  },
  {
   "cell_type": "code",
   "execution_count": 5,
   "metadata": {},
   "outputs": [],
   "source": [
    "with open('../data/PAINS/p_l150.txt') as p:\n",
    "    pains_m150 = [(Chem.MolFromSmarts(smarts), comment.lstrip('<regId=\"').split('(')[0]) for smarts, comment in (line.split() for line in p)]"
   ]
  },
  {
   "cell_type": "code",
   "execution_count": 6,
   "metadata": {},
   "outputs": [
    {
     "data": {
      "text/plain": [
       "(409, 55, 55)"
      ]
     },
     "execution_count": 6,
     "metadata": {},
     "output_type": "execute_result"
    }
   ],
   "source": [
    "len(pains_l15), len(pains_l150), len(pains_m150)"
   ]
  },
  {
   "cell_type": "code",
   "execution_count": 7,
   "metadata": {},
   "outputs": [],
   "source": [
    "allPains = pains_l15 + pains_l150 + pains_m150"
   ]
  },
  {
   "cell_type": "code",
   "execution_count": 8,
   "metadata": {},
   "outputs": [],
   "source": [
    "#drugbankPain = [tuple((drug.HasSubstructMatch(pain) for pain, comment in allPains))for drug in drugbank]"
   ]
  },
  {
   "cell_type": "code",
   "execution_count": 46,
   "metadata": {},
   "outputs": [],
   "source": [
    "# jinak zzapsane to co v predchozim radku\n",
    "drugbankPain = []\n",
    "for drug in drugbank:\n",
    "    list = []\n",
    "    for pain in allPains:\n",
    "        list.append(drug.HasSubstructMatch(pain[0]))\n",
    "    drugbankPain.append(list)"
   ]
  },
  {
   "cell_type": "code",
   "execution_count": null,
   "metadata": {},
   "outputs": [],
   "source": []
  },
  {
   "cell_type": "code",
   "execution_count": null,
   "metadata": {},
   "outputs": [],
   "source": []
  },
  {
   "cell_type": "code",
   "execution_count": 9,
   "metadata": {},
   "outputs": [],
   "source": [
    "noPain = [i for i, patterns in enumerate(drugbankPain) if any(patterns)]\n"
   ]
  },
  {
   "cell_type": "code",
   "execution_count": 31,
   "metadata": {},
   "outputs": [
    {
     "data": {
      "text/plain": [
       "519"
      ]
     },
     "execution_count": 31,
     "metadata": {},
     "output_type": "execute_result"
    }
   ],
   "source": [
    "len(drugbankPain[10])"
   ]
  },
  {
   "cell_type": "code",
   "execution_count": 47,
   "metadata": {},
   "outputs": [
    {
     "data": {
      "text/plain": [
       "34"
      ]
     },
     "execution_count": 47,
     "metadata": {},
     "output_type": "execute_result"
    }
   ],
   "source": [
    "sum = 0\n",
    "indexy = []\n",
    "for i in range(len(drugbankPain)):    \n",
    "    sum += drugbankPain[i].count(True)\n",
    "    if drugbankPain[i].count(True) > 0:\n",
    "        indexy.append(i)\n",
    "\n",
    "len(indexy)"
   ]
  },
  {
   "cell_type": "code",
   "execution_count": 48,
   "metadata": {},
   "outputs": [
    {
     "data": {
      "text/plain": [
       "52"
      ]
     },
     "execution_count": 48,
     "metadata": {},
     "output_type": "execute_result"
    }
   ],
   "source": [
    "sum"
   ]
  },
  {
   "cell_type": "code",
   "execution_count": 11,
   "metadata": {},
   "outputs": [],
   "source": [
    "noPainMols = [drugbank[i] for i in noPain]"
   ]
  },
  {
   "cell_type": "code",
   "execution_count": 15,
   "metadata": {},
   "outputs": [
    {
     "data": {
      "text/plain": [
       "34"
      ]
     },
     "execution_count": 15,
     "metadata": {},
     "output_type": "execute_result"
    }
   ],
   "source": [
    "len(noPainMols)"
   ]
  },
  {
   "cell_type": "code",
   "execution_count": null,
   "metadata": {},
   "outputs": [],
   "source": [
    "noPainHits = [[allPains[i][1] for i, match in enumerate(drugbankPain[j]) if match] for j in noPain]"
   ]
  },
  {
   "cell_type": "code",
   "execution_count": 41,
   "metadata": {},
   "outputs": [
    {
     "data": {
      "text/plain": [
       "[['amino_acridine_A', 'amino_acridine_A'],\n",
       " ['styrene_A'],\n",
       " ['keto_keto_beta_A', 'keto_keto_beta_A'],\n",
       " ['styrene_A'],\n",
       " ['keto_keto_beta_B'],\n",
       " ['amino_acridine_A', 'amino_acridine_A'],\n",
       " ['keto_keto_beta_A', 'keto_keto_beta_A'],\n",
       " ['keto_keto_beta_B'],\n",
       " ['styrene_B'],\n",
       " ['steroid_A']]"
      ]
     },
     "execution_count": 41,
     "metadata": {},
     "output_type": "execute_result"
    }
   ],
   "source": [
    "noPainHits[:10]"
   ]
  },
  {
   "cell_type": "code",
   "execution_count": 40,
   "metadata": {},
   "outputs": [
    {
     "data": {
      "text/plain": [
       "34"
      ]
     },
     "execution_count": 40,
     "metadata": {},
     "output_type": "execute_result"
    }
   ],
   "source": []
  },
  {
   "cell_type": "code",
   "execution_count": null,
   "metadata": {},
   "outputs": [],
   "source": []
  }
 ],
 "metadata": {
  "kernelspec": {
   "display_name": "Python 3",
   "language": "python",
   "name": "python3"
  },
  "language_info": {
   "codemirror_mode": {
    "name": "ipython",
    "version": 3
   },
   "file_extension": ".py",
   "mimetype": "text/x-python",
   "name": "python",
   "nbconvert_exporter": "python",
   "pygments_lexer": "ipython3",
   "version": "3.6.4"
  }
 },
 "nbformat": 4,
 "nbformat_minor": 2
}
