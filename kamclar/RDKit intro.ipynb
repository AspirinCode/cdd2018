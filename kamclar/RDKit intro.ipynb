{
 "cells": [
  {
   "cell_type": "code",
   "execution_count": 1,
   "metadata": {
    "scrolled": true
   },
   "outputs": [
    {
     "name": "stdout",
     "output_type": "stream",
     "text": [
      "# packages in environment at C:\\ProgramData\\Miniconda3\\envs\\cdd2018:\n",
      "#\n",
      "# Name                    Version                   Build  Channel\n",
      "bleach                    2.1.3                    py36_0  \n",
      "boost                     1.63.0                   py36_1    rdkit\n",
      "bzip2                     1.0.6                hbe05fcf_4  \n",
      "ca-certificates           2017.08.26           h94faf87_0  \n",
      "cairo                     1.14.12              h6b8c218_0  \n",
      "certifi                   2018.1.18                py36_0  \n",
      "colorama                  0.3.9            py36h029ae33_0  \n",
      "cycler                    0.10.0           py36h009560c_0  \n",
      "decorator                 4.2.1                    py36_0  \n",
      "entrypoints               0.2.3            py36hfd66bb0_2  \n",
      "freetype                  2.8                  h51f8f2c_1  \n",
      "html5lib                  1.0.1            py36h047fa9f_0  \n",
      "icc_rt                    2017.0.4             h97af966_0  \n",
      "icu                       58.2                 ha66f8fd_1  \n",
      "intel-openmp              2018.0.0             hd92c6cd_8  \n",
      "ipykernel                 4.8.2                    py36_0  \n",
      "ipython                   6.2.1            py36h9cf0123_1  \n",
      "ipython_genutils          0.2.0            py36h3c5d0ee_0  \n",
      "ipywidgets                7.1.2                    py36_0  \n",
      "jedi                      0.11.1                   py36_0  \n",
      "jinja2                    2.10             py36h292fed1_0  \n",
      "jpeg                      9b                   hb83a4c4_2  \n",
      "jsonschema                2.6.0            py36h7636477_0  \n",
      "jupyter                   1.0.0                    py36_4  \n",
      "jupyter_client            5.2.3                    py36_0  \n",
      "jupyter_console           5.2.0            py36h6d89b47_1  \n",
      "jupyter_core              4.4.0            py36h56e9d50_0  \n",
      "kiwisolver                1.0.1            py36h12c3424_0  \n",
      "libpng                    1.6.34               h79bbb47_0  \n",
      "libtiff                   4.0.9                h0f13578_0  \n",
      "m2w64-gcc-libgfortran     5.3.0                         6  \n",
      "m2w64-gcc-libs            5.3.0                         7  \n",
      "m2w64-gcc-libs-core       5.3.0                         7  \n",
      "m2w64-gmp                 6.1.0                         2  \n",
      "m2w64-libwinpthread-git   5.0.0.4634.697f757               2  \n",
      "markupsafe                1.0              py36h0e26971_1  \n",
      "matplotlib                2.2.2            py36h153e9ff_0  \n",
      "mistune                   0.8.3                    py36_0  \n",
      "mkl                       2018.0.1             h2108138_4  \n",
      "msys2-conda-epoch         20160418                      1  \n",
      "nbconvert                 5.3.1            py36h8dc0fde_0  \n",
      "nbformat                  4.4.0            py36h3a5bc1b_0  \n",
      "notebook                  5.4.0                    py36_0  \n",
      "numpy                     1.14.2           py36h5c71026_0  \n",
      "olefile                   0.45.1                   py36_0  \n",
      "openssl                   1.0.2n               h74b6da3_0  \n",
      "pandas                    0.22.0           py36h6538335_0  \n",
      "pandoc                    1.19.2.1             hb2460c7_1  \n",
      "pandocfilters             1.4.2            py36h3ef6317_1  \n",
      "parso                     0.1.1            py36hae3edee_0  \n",
      "patsy                     0.5.0                    py36_0  \n",
      "pickleshare               0.7.4            py36h9de030f_0  \n",
      "pillow                    5.0.0            py36h0738816_0  \n",
      "pip                       9.0.1                    py36_5  \n",
      "pixman                    0.34.0               hcef7cb0_3  \n",
      "prompt_toolkit            1.0.15           py36h60b8f86_0  \n",
      "pygments                  2.2.0            py36hb010967_0  \n",
      "pyparsing                 2.2.0            py36h785a196_1  \n",
      "pyqt                      5.6.0            py36hb5ed885_5  \n",
      "python                    3.6.4                h0c2934d_3  \n",
      "python-dateutil           2.7.0                    py36_0  \n",
      "pytz                      2018.3                   py36_0  \n",
      "pywinpty                  0.5.1                    py36_0  \n",
      "pyzmq                     17.0.0           py36hfa6e2cd_0  \n",
      "qt                        5.6.2           vc14h6f8c307_12  \n",
      "qtconsole                 4.3.1            py36h99a29a9_0  \n",
      "rdkit                     2017.09.3.0              py36_1    rdkit\n",
      "scikit-learn              0.19.1           py36h53aea1b_0  \n",
      "scipy                     1.0.0            py36h1260518_0  \n",
      "seaborn                   0.8.1            py36h9b69545_0  \n",
      "send2trash                1.5.0                    py36_0  \n",
      "setuptools                38.5.1                   py36_0  \n",
      "simplegeneric             0.8.1                    py36_2  \n",
      "sip                       4.18.1           py36h9c25514_2  \n",
      "six                       1.11.0           py36h4db2310_1  \n",
      "sqlite                    3.22.0               h9d3ae62_0  \n",
      "statsmodels               0.8.0            py36h6189b4c_0  \n",
      "terminado                 0.8.1                    py36_1  \n",
      "testpath                  0.3.1            py36h2698cfe_0  \n",
      "tk                        8.6.7                hcb92d03_3  \n",
      "tornado                   5.0                      py36_0  \n",
      "traitlets                 4.3.2            py36h096827d_0  \n",
      "vc                        14                   h0510ff6_3  \n",
      "vs2015_runtime            14.0.25123                    3  \n",
      "wcwidth                   0.1.7            py36h3d5aa90_0  \n",
      "webencodings              0.5.1            py36h67c50ae_1  \n",
      "wheel                     0.30.0           py36h6c3ec14_1  \n",
      "widgetsnbextension        3.1.4                    py36_0  \n",
      "wincertstore              0.2              py36h7fe50ca_0  \n",
      "winpty                    0.4.3                         4  \n",
      "zlib                      1.2.11               h8395fce_2  \n"
     ]
    }
   ],
   "source": [
    "!conda list"
   ]
  },
  {
   "cell_type": "code",
   "execution_count": 3,
   "metadata": {},
   "outputs": [],
   "source": [
    "import rdkit"
   ]
  },
  {
   "cell_type": "code",
   "execution_count": 4,
   "metadata": {},
   "outputs": [],
   "source": [
    "from rdkit import Chem\n",
    "from rdkit.Chem import Draw"
   ]
  },
  {
   "cell_type": "code",
   "execution_count": 5,
   "metadata": {},
   "outputs": [],
   "source": [
    "m = Chem.MolFromSmiles(\"CC=O\")"
   ]
  },
  {
   "cell_type": "code",
   "execution_count": 6,
   "metadata": {},
   "outputs": [
    {
     "data": {
      "text/plain": [
       "<rdkit.Chem.rdchem.Mol at 0x23a66da8d50>"
      ]
     },
     "execution_count": 6,
     "metadata": {},
     "output_type": "execute_result"
    }
   ],
   "source": [
    "m"
   ]
  },
  {
   "cell_type": "code",
   "execution_count": 7,
   "metadata": {},
   "outputs": [
    {
     "name": "stdout",
     "output_type": "stream",
     "text": [
      "\n",
      "     RDKit          \n",
      "\n",
      "  3  2  0  0  0  0  0  0  0  0999 V2000\n",
      "    0.0000    0.0000    0.0000 C   0  0  0  0  0  0  0  0  0  0  0  0\n",
      "    0.0000    0.0000    0.0000 C   0  0  0  0  0  0  0  0  0  0  0  0\n",
      "    0.0000    0.0000    0.0000 O   0  0  0  0  0  0  0  0  0  0  0  0\n",
      "  1  2  1  0\n",
      "  2  3  2  0\n",
      "M  END\n",
      "\n"
     ]
    }
   ],
   "source": [
    "print(Chem.MolToMolBlock(m))"
   ]
  },
  {
   "cell_type": "code",
   "execution_count": null,
   "metadata": {},
   "outputs": [],
   "source": [
    "drugbank_input = Chem.SDMolSupplier('../data/drugbank.sdf')"
   ]
  },
  {
   "cell_type": "code",
   "execution_count": null,
   "metadata": {},
   "outputs": [],
   "source": [
    "drugbank = [m for m in drugbank_input if m]"
   ]
  },
  {
   "cell_type": "code",
   "execution_count": null,
   "metadata": {},
   "outputs": [],
   "source": [
    "len(drugbank)"
   ]
  },
  {
   "cell_type": "code",
   "execution_count": null,
   "metadata": {},
   "outputs": [],
   "source": [
    "Chem.MolToSmiles(drugbank[0])"
   ]
  },
  {
   "cell_type": "code",
   "execution_count": null,
   "metadata": {},
   "outputs": [],
   "source": [
    "[x.GetMass() for x in m.GetAtoms()]"
   ]
  },
  {
   "cell_type": "code",
   "execution_count": 36,
   "metadata": {},
   "outputs": [
    {
     "data": {
      "text/plain": [
       "['DATABASE_ID',\n",
       " 'DATABASE_NAME',\n",
       " 'SMILES',\n",
       " 'INCHI_IDENTIFIER',\n",
       " 'INCHI_KEY',\n",
       " 'FORMULA',\n",
       " 'MOLECULAR_WEIGHT',\n",
       " 'EXACT_MASS',\n",
       " 'JCHEM_ACCEPTOR_COUNT',\n",
       " 'JCHEM_AVERAGE_POLARIZABILITY',\n",
       " 'JCHEM_BIOAVAILABILITY',\n",
       " 'JCHEM_DONOR_COUNT',\n",
       " 'JCHEM_FORMAL_CHARGE',\n",
       " 'JCHEM_GHOSE_FILTER',\n",
       " 'JCHEM_IUPAC',\n",
       " 'ALOGPS_LOGP',\n",
       " 'JCHEM_LOGP',\n",
       " 'ALOGPS_LOGS',\n",
       " 'JCHEM_MDDR_LIKE_RULE',\n",
       " 'JCHEM_NUMBER_OF_RINGS',\n",
       " 'JCHEM_PHYSIOLOGICAL_CHARGE',\n",
       " 'JCHEM_PKA',\n",
       " 'JCHEM_PKA_STRONGEST_ACIDIC',\n",
       " 'JCHEM_PKA_STRONGEST_BASIC',\n",
       " 'JCHEM_POLAR_SURFACE_AREA',\n",
       " 'JCHEM_REFRACTIVITY',\n",
       " 'JCHEM_ROTATABLE_BOND_COUNT',\n",
       " 'JCHEM_RULE_OF_FIVE',\n",
       " 'ALOGPS_SOLUBILITY',\n",
       " 'JCHEM_TRADITIONAL_IUPAC',\n",
       " 'JCHEM_VEBER_RULE',\n",
       " 'DRUGBANK_ID',\n",
       " 'SECONDARY_ACCESSION_NUMBERS',\n",
       " 'DRUG_GROUPS',\n",
       " 'GENERIC_NAME',\n",
       " 'PRODUCTS']"
      ]
     },
     "execution_count": 36,
     "metadata": {},
     "output_type": "execute_result"
    }
   ],
   "source": [
    "[x for x in drugbank[0].GetPropNames()]"
   ]
  },
  {
   "cell_type": "code",
   "execution_count": 40,
   "metadata": {},
   "outputs": [
    {
     "data": {
      "text/plain": [
       "'InChI=1S/C98H138N24O33/c1-5-52(4)82(96(153)122-39-15-23-70(122)92(149)114-60(30-34-79(134)135)85(142)111-59(29-33-78(132)133)86(143)116-64(43-55-24-26-56(123)27-25-55)89(146)118-67(97(154)155)40-51(2)3)119-87(144)61(31-35-80(136)137)112-84(141)58(28-32-77(130)131)113-88(145)63(42-54-18-10-7-11-19-54)117-90(147)66(45-81(138)139)110-76(129)50-107-83(140)65(44-71(100)124)109-75(128)49-106-73(126)47-104-72(125)46-105-74(127)48-108-91(148)68-21-13-38-121(68)95(152)62(20-12-36-103-98(101)102)115-93(150)69-22-14-37-120(69)94(151)57(99)41-53-16-8-6-9-17-53/h6-11,16-19,24-27,51-52,57-70,82,123H,5,12-15,20-23,28-50,99H2,1-4H3,(H2,100,124)(H,104,125)(H,105,127)(H,106,126)(H,107,140)(H,108,148)(H,109,128)(H,110,129)(H,111,142)(H,112,141)(H,113,145)(H,114,149)(H,115,150)(H,116,143)(H,117,147)(H,118,146)(H,119,144)(H,130,131)(H,132,133)(H,134,135)(H,136,137)(H,138,139)(H,154,155)(H4,101,102,103)/t52-,57+,58-,59-,60-,61-,62-,63-,64-,65-,66-,67-,68-,69-,70-,82-/m0/s1'"
      ]
     },
     "execution_count": 40,
     "metadata": {},
     "output_type": "execute_result"
    }
   ],
   "source": [
    "drugbank[0].GetProp('INCHI_IDENTIFIER')"
   ]
  },
  {
   "cell_type": "code",
   "execution_count": 62,
   "metadata": {},
   "outputs": [],
   "source": [
    "rings = sum([Chem.GetSSSR(m) for m in drugbank])"
   ]
  },
  {
   "cell_type": "code",
   "execution_count": 63,
   "metadata": {
    "collapsed": true
   },
   "outputs": [],
   "source": [
    "avg_rings = rings/len(drugbank)"
   ]
  },
  {
   "cell_type": "code",
   "execution_count": 64,
   "metadata": {},
   "outputs": [
    {
     "data": {
      "text/plain": [
       "2.466807313642757"
      ]
     },
     "execution_count": 64,
     "metadata": {},
     "output_type": "execute_result"
    }
   ],
   "source": [
    "avg_rings"
   ]
  },
  {
   "cell_type": "code",
   "execution_count": null,
   "metadata": {
    "collapsed": true
   },
   "outputs": [],
   "source": []
  }
 ],
 "metadata": {
  "kernelspec": {
   "display_name": "Python 3",
   "language": "python",
   "name": "python3"
  },
  "language_info": {
   "codemirror_mode": {
    "name": "ipython",
    "version": 3
   },
   "file_extension": ".py",
   "mimetype": "text/x-python",
   "name": "python",
   "nbconvert_exporter": "python",
   "pygments_lexer": "ipython3",
   "version": "3.6.4"
  }
 },
 "nbformat": 4,
 "nbformat_minor": 2
}
