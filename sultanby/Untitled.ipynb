{
 "cells": [
  {
   "cell_type": "code",
   "execution_count": 25,
   "metadata": {},
   "outputs": [],
   "source": [
    "from __future__ import print_function\n",
    "from rdkit import Chem\n",
    "from rdkit.Chem import Draw"
   ]
  },
  {
   "cell_type": "code",
   "execution_count": 10,
   "metadata": {},
   "outputs": [],
   "source": [
    "m = Chem.MolFromSmiles(\"CC=O\")"
   ]
  },
  {
   "cell_type": "code",
   "execution_count": 11,
   "metadata": {},
   "outputs": [
    {
     "data": {
      "text/plain": [
       "<rdkit.Chem.rdchem.Mol at 0x10d06c710>"
      ]
     },
     "execution_count": 11,
     "metadata": {},
     "output_type": "execute_result"
    }
   ],
   "source": [
    "m"
   ]
  },
  {
   "cell_type": "code",
   "execution_count": 12,
   "metadata": {},
   "outputs": [
    {
     "name": "stdout",
     "output_type": "stream",
     "text": [
      "\n",
      "     RDKit          \n",
      "\n",
      "  3  2  0  0  0  0  0  0  0  0999 V2000\n",
      "    0.0000    0.0000    0.0000 C   0  0  0  0  0  0  0  0  0  0  0  0\n",
      "    0.0000    0.0000    0.0000 C   0  0  0  0  0  0  0  0  0  0  0  0\n",
      "    0.0000    0.0000    0.0000 O   0  0  0  0  0  0  0  0  0  0  0  0\n",
      "  1  2  1  0\n",
      "  2  3  2  0\n",
      "M  END\n",
      "\n"
     ]
    }
   ],
   "source": [
    "print(Chem.MolToMolBlock(m)) "
   ]
  },
  {
   "cell_type": "code",
   "execution_count": 13,
   "metadata": {},
   "outputs": [],
   "source": [
    "drugbank_input = Chem.SDMolSupplier('../data/drugbank.sdf')"
   ]
  },
  {
   "cell_type": "code",
   "execution_count": 47,
   "metadata": {},
   "outputs": [],
   "source": [
    "drugbank = [m for m in drugbank_input if m]"
   ]
  },
  {
   "cell_type": "code",
   "execution_count": 17,
   "metadata": {},
   "outputs": [
    {
     "data": {
      "text/plain": [
       "7180"
      ]
     },
     "execution_count": 17,
     "metadata": {},
     "output_type": "execute_result"
    }
   ],
   "source": [
    "len(drugbank)"
   ]
  },
  {
   "cell_type": "code",
   "execution_count": 19,
   "metadata": {},
   "outputs": [
    {
     "data": {
      "text/plain": [
       "'CCC(C)C(NC(=O)C(CCC(=O)O)NC(=O)C(CCC(=O)O)NC(=O)C(Cc1ccccc1)NC(=O)C(CC(=O)O)NC(=O)CNC(=O)C(CC(N)=O)NC(=O)CNC(=O)CNC(=O)CNC(=O)CNC(=O)C1CCCN1C(=O)C(CCCNC(=N)N)NC(=O)C1CCCN1C(=O)C(N)Cc1ccccc1)C(=O)N1CCCC1C(=O)NC(CCC(=O)O)C(=O)NC(CCC(=O)O)C(=O)NC(Cc1ccc(O)cc1)C(=O)NC(CC(C)C)C(=O)O'"
      ]
     },
     "execution_count": 19,
     "metadata": {},
     "output_type": "execute_result"
    }
   ],
   "source": [
    "Chem.MolToSmiles(drugbank[0])"
   ]
  },
  {
   "cell_type": "code",
   "execution_count": 22,
   "metadata": {},
   "outputs": [
    {
     "name": "stdout",
     "output_type": "stream",
     "text": [
      "\n",
      "     RDKit          2D\n",
      "\n",
      "155160  0  0  1  0  0  0  0  0999 V2000\n",
      "  -19.1798  -19.8286    0.0000 N   0  0  0  0  0  0  0  0  0  0  0  0\n",
      "  -18.5326  -19.3169    0.0000 C   0  0  0  0  0  0  0  0  0  0  0  0\n",
      "  -17.7659  -19.6216    0.0000 N   0  0  0  0  0  0  0  0  0  0  0  0\n",
      "  -18.6521  -18.5006    0.0000 N   0  0  0  0  0  0  0  0  0  0  0  0\n",
      "  -19.4188  -18.1960    0.0000 C   0  0  0  0  0  0  0  0  0  0  0  0\n",
      "  -19.5383  -17.3797    0.0000 C   0  0  0  0  0  0  0  0  0  0  0  0\n",
      "  -20.3050  -17.0751    0.0000 C   0  0  0  0  0  0  0  0  0  0  0  0\n",
      "  -20.4245  -16.2588    0.0000 C   0  0  0  0  0  0  0  0  0  0  0  0\n",
      "  -21.1912  -15.9541    0.0000 N   0  0  0  0  0  0  0  0  0  0  0  0\n",
      "  -21.8384  -16.4658    0.0000 C   0  0  0  0  0  0  0  0  0  0  0  0\n",
      "  -21.7189  -17.2821    0.0000 O   0  0  0  0  0  0  0  0  0  0  0  0\n",
      "  -22.6051  -16.1611    0.0000 C   0  0  0  0  0  0  0  0  0  0  0  0\n",
      "  -23.3022  -16.6023    0.0000 C   0  0  0  0  0  0  0  0  0  0  0  0\n",
      "  -23.9372  -16.0757    0.0000 C   0  0  0  0  0  0  0  0  0  0  0  0\n",
      "  -23.6326  -15.3090    0.0000 C   0  0  0  0  0  0  0  0  0  0  0  0\n",
      "  -22.8093  -15.3618    0.0000 N   0  0  0  0  0  0  0  0  0  0  0  0\n",
      "  -22.2826  -14.7268    0.0000 C   0  0  0  0  0  0  0  0  0  0  0  0\n",
      "  -21.4693  -14.8653    0.0000 O   0  0  0  0  0  0  0  0  0  0  0  0\n",
      "  -22.5692  -13.9531    0.0000 C   0  0  0  0  0  0  0  0  0  0  0  0\n",
      "  -22.0426  -13.3181    0.0000 N   0  0  0  0  0  0  0  0  0  0  0  0\n",
      "  -23.3825  -13.8146    0.0000 C   0  0  0  0  0  0  0  0  0  0  0  0\n",
      "  -23.6691  -13.0409    0.0000 C   0  0  0  0  0  0  0  0  0  0  0  0\n",
      "  -24.4824  -12.9024    0.0000 C   0  0  0  0  0  0  0  0  0  0  0  0\n",
      "  -24.7690  -12.1288    0.0000 C   0  0  0  0  0  0  0  0  0  0  0  0\n",
      "  -24.2424  -11.4937    0.0000 C   0  0  0  0  0  0  0  0  0  0  0  0\n",
      "  -23.4291  -11.6323    0.0000 C   0  0  0  0  0  0  0  0  0  0  0  0\n",
      "  -23.1425  -12.4059    0.0000 C   0  0  0  0  0  0  0  0  0  0  0  0\n",
      "  -19.7773  -15.7471    0.0000 C   0  0  0  0  0  0  0  0  0  0  0  0\n",
      "  -19.8969  -14.9308    0.0000 O   0  0  0  0  0  0  0  0  0  0  0  0\n",
      "  -19.0106  -16.0518    0.0000 N   0  0  0  0  0  0  0  0  0  0  0  0\n",
      "  -18.8065  -16.8511    0.0000 C   0  0  0  0  0  0  0  0  0  0  0  0\n",
      "  -17.9832  -16.9039    0.0000 C   0  0  0  0  0  0  0  0  0  0  0  0\n",
      "  -17.6785  -16.1372    0.0000 C   0  0  0  0  0  0  0  0  0  0  0  0\n",
      "  -18.3135  -15.6106    0.0000 C   0  0  0  0  0  0  0  0  0  0  0  0\n",
      "  -18.2607  -14.7872    0.0000 C   0  0  0  0  0  0  0  0  0  0  0  0\n",
      "  -17.5213  -14.4213    0.0000 O   0  0  0  0  0  0  0  0  0  0  0  0\n",
      "  -18.9473  -14.3299    0.0000 N   0  0  0  0  0  0  0  0  0  0  0  0\n",
      "  -18.8945  -13.5065    0.0000 C   0  0  0  0  0  0  0  0  0  0  0  0\n",
      "  -18.1551  -13.1406    0.0000 C   0  0  0  0  0  0  0  0  0  0  0  0\n",
      "  -18.1023  -12.3173    0.0000 O   0  0  0  0  0  0  0  0  0  0  0  0\n",
      "  -17.4685  -13.5980    0.0000 N   0  0  0  0  0  0  0  0  0  0  0  0\n",
      "  -16.7291  -13.2321    0.0000 C   0  0  0  0  0  0  0  0  0  0  0  0\n",
      "  -16.0425  -13.6895    0.0000 C   0  0  0  0  0  0  0  0  0  0  0  0\n",
      "  -16.0953  -14.5128    0.0000 O   0  0  0  0  0  0  0  0  0  0  0  0\n",
      "  -15.3031  -13.3236    0.0000 N   0  0  0  0  0  0  0  0  0  0  0  0\n",
      "  -14.6165  -13.7810    0.0000 C   0  0  0  0  0  0  0  0  0  0  0  0\n",
      "  -13.8771  -13.4151    0.0000 C   0  0  0  0  0  0  0  0  0  0  0  0\n",
      "  -13.8242  -12.5918    0.0000 O   0  0  0  0  0  0  0  0  0  0  0  0\n",
      "  -13.1905  -13.8725    0.0000 N   0  0  0  0  0  0  0  0  0  0  0  0\n",
      "  -12.4510  -13.5065    0.0000 C   0  0  0  0  0  0  0  0  0  0  0  0\n",
      "  -11.7644  -13.9639    0.0000 C   0  0  0  0  0  0  0  0  0  0  0  0\n",
      "  -11.8173  -14.7872    0.0000 O   0  0  0  0  0  0  0  0  0  0  0  0\n",
      "  -11.0250  -13.5980    0.0000 N   0  0  0  0  0  0  0  0  0  0  0  0\n",
      "  -10.3384  -14.0554    0.0000 C   0  0  0  0  0  0  0  0  0  0  0  0\n",
      "  -10.3912  -14.8787    0.0000 C   0  0  0  0  0  0  0  0  0  0  0  0\n",
      "   -9.7047  -15.3361    0.0000 C   0  0  0  0  0  0  0  0  0  0  0  0\n",
      "   -9.7575  -16.1594    0.0000 N   0  0  0  0  0  0  0  0  0  0  0  0\n",
      "   -8.9652  -14.9702    0.0000 O   0  0  0  0  0  0  0  0  0  0  0  0\n",
      "   -9.5990  -13.6895    0.0000 C   0  0  0  0  0  0  0  0  0  0  0  0\n",
      "   -9.5462  -12.8662    0.0000 O   0  0  0  0  0  0  0  0  0  0  0  0\n",
      "   -8.9124  -14.1469    0.0000 N   0  0  0  0  0  0  0  0  0  0  0  0\n",
      "   -8.1730  -13.7810    0.0000 C   0  0  0  0  0  0  0  0  0  0  0  0\n",
      "   -7.4864  -14.2384    0.0000 C   0  0  0  0  0  0  0  0  0  0  0  0\n",
      "   -7.5392  -15.0617    0.0000 O   0  0  0  0  0  0  0  0  0  0  0  0\n",
      "   -6.7470  -13.8725    0.0000 N   0  0  0  0  0  0  0  0  0  0  0  0\n",
      "   -6.0604  -14.3299    0.0000 C   0  0  0  0  0  0  0  0  0  0  0  0\n",
      "   -6.1132  -15.1532    0.0000 C   0  0  0  0  0  0  0  0  0  0  0  0\n",
      "   -5.4266  -15.6106    0.0000 C   0  0  0  0  0  0  0  0  0  0  0  0\n",
      "   -5.4794  -16.4339    0.0000 O   0  0  0  0  0  0  0  0  0  0  0  0\n",
      "   -4.6872  -15.2446    0.0000 O   0  0  0  0  0  0  0  0  0  0  0  0\n",
      "   -5.3210  -13.9639    0.0000 C   0  0  0  0  0  0  0  0  0  0  0  0\n",
      "   -5.2682  -13.1406    0.0000 O   0  0  0  0  0  0  0  0  0  0  0  0\n",
      "   -4.6344  -14.4213    0.0000 N   0  0  0  0  0  0  0  0  0  0  0  0\n",
      "   -3.8950  -14.0554    0.0000 C   0  0  0  0  0  0  0  0  0  0  0  0\n",
      "   -3.2084  -14.5128    0.0000 C   0  0  0  0  0  0  0  0  0  0  0  0\n",
      "   -3.2612  -15.3361    0.0000 C   0  0  0  0  0  0  0  0  0  0  0  0\n",
      "   -2.5746  -15.7935    0.0000 C   0  0  0  0  0  0  0  0  0  0  0  0\n",
      "   -2.6274  -16.6168    0.0000 C   0  0  0  0  0  0  0  0  0  0  0  0\n",
      "   -3.3668  -16.9827    0.0000 C   0  0  0  0  0  0  0  0  0  0  0  0\n",
      "   -4.0534  -16.5253    0.0000 C   0  0  0  0  0  0  0  0  0  0  0  0\n",
      "   -4.0006  -15.7020    0.0000 C   0  0  0  0  0  0  0  0  0  0  0  0\n",
      "   -3.8422  -13.2321    0.0000 C   0  0  0  0  0  0  0  0  0  0  0  0\n",
      "   -4.5288  -12.7747    0.0000 O   0  0  0  0  0  0  0  0  0  0  0  0\n",
      "   -3.1027  -12.8662    0.0000 N   0  0  0  0  0  0  0  0  0  0  0  0\n",
      "   -2.4162  -13.3236    0.0000 C   0  0  0  0  0  0  0  0  0  0  0  0\n",
      "   -2.4690  -14.1469    0.0000 C   0  0  0  0  0  0  0  0  0  0  0  0\n",
      "   -1.7824  -14.6043    0.0000 C   0  0  0  0  0  0  0  0  0  0  0  0\n",
      "   -1.8352  -15.4276    0.0000 C   0  0  0  0  0  0  0  0  0  0  0  0\n",
      "   -2.2183  -16.1582    0.0000 O   0  0  0  0  0  0  0  0  0  0  0  0\n",
      "   -1.1486  -15.8850    0.0000 O   0  0  0  0  0  0  0  0  0  0  0  0\n",
      "   -1.6767  -12.9577    0.0000 C   0  0  0  0  0  0  0  0  0  0  0  0\n",
      "   -1.6239  -12.1344    0.0000 O   0  0  0  0  0  0  0  0  0  0  0  0\n",
      "   -0.9901  -13.4151    0.0000 N   0  0  0  0  0  0  0  0  0  0  0  0\n",
      "   -0.2507  -13.0492    0.0000 C   0  0  0  0  0  0  0  0  0  0  0  0\n",
      "   -0.1979  -12.2258    0.0000 C   0  0  0  0  0  0  0  0  0  0  0  0\n",
      "    0.5415  -11.8599    0.0000 C   0  0  0  0  0  0  0  0  0  0  0  0\n",
      "    0.5943  -11.0366    0.0000 C   0  0  0  0  0  0  0  0  0  0  0  0\n",
      "   -0.0923  -10.5792    0.0000 O   0  0  0  0  0  0  0  0  0  0  0  0\n",
      "    1.3337  -10.6707    0.0000 O   0  0  0  0  0  0  0  0  0  0  0  0\n",
      "    0.4359  -13.5065    0.0000 C   0  0  0  0  0  0  0  0  0  0  0  0\n",
      "    0.3831  -14.3299    0.0000 O   0  0  0  0  0  0  0  0  0  0  0  0\n",
      "    1.1753  -13.1406    0.0000 N   0  0  0  0  0  0  0  0  0  0  0  0\n",
      "    1.8619  -13.5980    0.0000 C   0  0  0  0  0  0  0  0  0  0  0  0\n",
      "    1.8091  -14.4213    0.0000 C   0  0  0  0  0  0  0  0  0  0  0  0\n",
      "    2.4957  -14.8787    0.0000 C   0  0  0  0  0  0  0  0  0  0  0  0\n",
      "    1.0697  -14.7872    0.0000 C   0  0  0  0  0  0  0  0  0  0  0  0\n",
      "    1.0168  -15.6106    0.0000 C   0  0  0  0  0  0  0  0  0  0  0  0\n",
      "    2.6013  -13.2321    0.0000 C   0  0  0  0  0  0  0  0  0  0  0  0\n",
      "    2.6541  -12.4088    0.0000 O   0  0  0  0  0  0  0  0  0  0  0  0\n",
      "    3.2879  -13.6895    0.0000 N   0  0  0  0  0  0  0  0  0  0  0  0\n",
      "    3.3214  -14.5138    0.0000 C   0  0  0  0  0  0  0  0  0  0  0  0\n",
      "    4.1158  -14.7367    0.0000 C   0  0  0  0  0  0  0  0  0  0  0  0\n",
      "    4.5732  -14.0501    0.0000 C   0  0  0  0  0  0  0  0  0  0  0  0\n",
      "    4.0615  -13.4029    0.0000 C   0  0  0  0  0  0  0  0  0  0  0  0\n",
      "    4.2843  -12.6085    0.0000 C   0  0  0  0  0  0  0  0  0  0  0  0\n",
      "    5.0837  -12.4044    0.0000 O   0  0  0  0  0  0  0  0  0  0  0  0\n",
      "    3.7078  -12.0184    0.0000 N   0  0  0  0  0  0  0  0  0  0  0  0\n",
      "    3.9307  -11.2241    0.0000 C   0  0  0  0  0  0  0  0  0  0  0  0\n",
      "    4.7300  -11.0199    0.0000 C   0  0  0  0  0  0  0  0  0  0  0  0\n",
      "    4.9528  -10.2255    0.0000 C   0  0  0  0  0  0  0  0  0  0  0  0\n",
      "    5.7522  -10.0214    0.0000 C   0  0  0  0  0  0  0  0  0  0  0  0\n",
      "    5.9750   -9.2270    0.0000 O   0  0  0  0  0  0  0  0  0  0  0  0\n",
      "    6.3287  -10.6115    0.0000 O   0  0  0  0  0  0  0  0  0  0  0  0\n",
      "    3.3542  -10.6339    0.0000 C   0  0  0  0  0  0  0  0  0  0  0  0\n",
      "    2.5548  -10.8381    0.0000 O   0  0  0  0  0  0  0  0  0  0  0  0\n",
      "    3.5770   -9.8396    0.0000 N   0  0  0  0  0  0  0  0  0  0  0  0\n",
      "    3.0005   -9.2494    0.0000 C   0  0  0  0  0  0  0  0  0  0  0  0\n",
      "    2.2012   -9.4536    0.0000 C   0  0  0  0  0  0  0  0  0  0  0  0\n",
      "    1.6247   -8.8635    0.0000 C   0  0  0  0  0  0  0  0  0  0  0  0\n",
      "    0.8254   -9.0676    0.0000 C   0  0  0  0  0  0  0  0  0  0  0  0\n",
      "    0.6025   -9.8620    0.0000 O   0  0  0  0  0  0  0  0  0  0  0  0\n",
      "    0.2489   -8.4775    0.0000 O   0  0  0  0  0  0  0  0  0  0  0  0\n",
      "    3.2234   -8.4551    0.0000 C   0  0  0  0  0  0  0  0  0  0  0  0\n",
      "    4.0227   -8.2509    0.0000 O   0  0  0  0  0  0  0  0  0  0  0  0\n",
      "    2.6469   -7.8649    0.0000 N   0  0  0  0  0  0  0  0  0  0  0  0\n",
      "    2.8697   -7.0706    0.0000 C   0  0  0  0  0  0  0  0  0  0  0  0\n",
      "    3.6690   -6.8664    0.0000 C   0  0  0  0  0  0  0  0  0  0  0  0\n",
      "    3.8919   -6.0721    0.0000 C   0  0  0  0  0  0  0  0  0  0  0  0\n",
      "    3.3154   -5.4819    0.0000 C   0  0  0  0  0  0  0  0  0  0  0  0\n",
      "    3.5382   -4.6876    0.0000 C   0  0  0  0  0  0  0  0  0  0  0  0\n",
      "    4.3375   -4.4834    0.0000 C   0  0  0  0  0  0  0  0  0  0  0  0\n",
      "    4.5604   -3.6891    0.0000 O   0  0  0  0  0  0  0  0  0  0  0  0\n",
      "    4.9140   -5.0736    0.0000 C   0  0  0  0  0  0  0  0  0  0  0  0\n",
      "    4.6912   -5.8679    0.0000 C   0  0  0  0  0  0  0  0  0  0  0  0\n",
      "    2.2932   -6.4805    0.0000 C   0  0  0  0  0  0  0  0  0  0  0  0\n",
      "    1.4939   -6.6846    0.0000 O   0  0  0  0  0  0  0  0  0  0  0  0\n",
      "    2.5160   -5.6861    0.0000 N   0  0  0  0  0  0  0  0  0  0  0  0\n",
      "    1.9395   -5.0960    0.0000 C   0  0  0  0  0  0  0  0  0  0  0  0\n",
      "    2.1624   -4.3016    0.0000 C   0  0  0  0  0  0  0  0  0  0  0  0\n",
      "    1.5859   -3.7115    0.0000 C   0  0  0  0  0  0  0  0  0  0  0  0\n",
      "    0.7865   -3.9157    0.0000 C   0  0  0  0  0  0  0  0  0  0  0  0\n",
      "    1.8087   -2.9171    0.0000 C   0  0  0  0  0  0  0  0  0  0  0  0\n",
      "    1.1402   -5.3002    0.0000 C   0  0  0  0  0  0  0  0  0  0  0  0\n",
      "    0.5637   -4.7100    0.0000 O   0  0  0  0  0  0  0  0  0  0  0  0\n",
      "    0.9174   -6.0945    0.0000 O   0  0  0  0  0  0  0  0  0  0  0  0\n",
      "  1  2  2  0\n",
      "  2  3  1  0\n",
      "  2  4  1  0\n",
      "  4  5  1  0\n",
      "  5  6  1  0\n",
      "  6  7  1  0\n",
      "  8  7  1  6\n",
      "  8  9  1  0\n",
      "  9 10  1  0\n",
      " 10 11  2  0\n",
      " 12 10  1  6\n",
      " 12 13  1  0\n",
      " 13 14  1  0\n",
      " 14 15  1  0\n",
      " 15 16  1  0\n",
      " 12 16  1  0\n",
      " 16 17  1  0\n",
      " 17 18  2  0\n",
      " 17 19  1  0\n",
      " 19 20  1  1\n",
      " 19 21  1  0\n",
      " 21 22  1  0\n",
      " 22 23  2  0\n",
      " 23 24  1  0\n",
      " 24 25  2  0\n",
      " 25 26  1  0\n",
      " 26 27  2  0\n",
      " 22 27  1  0\n",
      "  8 28  1  0\n",
      " 28 29  2  0\n",
      " 28 30  1  0\n",
      " 30 31  1  0\n",
      " 31 32  1  0\n",
      " 32 33  1  0\n",
      " 33 34  1  0\n",
      " 30 34  1  0\n",
      " 34 35  1  6\n",
      " 35 36  2  0\n",
      " 35 37  1  0\n",
      " 37 38  1  0\n",
      " 38 39  1  0\n",
      " 39 40  2  0\n",
      " 39 41  1  0\n",
      " 41 42  1  0\n",
      " 42 43  1  0\n",
      " 43 44  2  0\n",
      " 43 45  1  0\n",
      " 45 46  1  0\n",
      " 46 47  1  0\n",
      " 47 48  2  0\n",
      " 47 49  1  0\n",
      " 49 50  1  0\n",
      " 50 51  1  0\n",
      " 51 52  2  0\n",
      " 51 53  1  0\n",
      " 54 53  1  0\n",
      " 54 55  1  6\n",
      " 55 56  1  0\n",
      " 56 57  1  0\n",
      " 56 58  2  0\n",
      " 54 59  1  0\n",
      " 59 60  2  0\n",
      " 59 61  1  0\n",
      " 61 62  1  0\n",
      " 62 63  1  0\n",
      " 63 64  2  0\n",
      " 63 65  1  0\n",
      " 66 65  1  0\n",
      " 66 67  1  6\n",
      " 67 68  1  0\n",
      " 68 69  1  0\n",
      " 68 70  2  0\n",
      " 66 71  1  0\n",
      " 71 72  2  0\n",
      " 71 73  1  0\n",
      " 74 73  1  0\n",
      " 74 75  1  6\n",
      " 75 76  1  0\n",
      " 76 77  2  0\n",
      " 77 78  1  0\n",
      " 78 79  2  0\n",
      " 79 80  1  0\n",
      " 80 81  2  0\n",
      " 76 81  1  0\n",
      " 74 82  1  0\n",
      " 82 83  2  0\n",
      " 82 84  1  0\n",
      " 85 84  1  0\n",
      " 85 86  1  6\n",
      " 86 87  1  0\n",
      " 87 88  1  0\n",
      " 88 89  1  0\n",
      " 88 90  2  0\n",
      " 85 91  1  0\n",
      " 91 92  2  0\n",
      " 91 93  1  0\n",
      " 94 93  1  0\n",
      " 94 95  1  1\n",
      " 95 96  1  0\n",
      " 96 97  1  0\n",
      " 97 98  1  0\n",
      " 97 99  2  0\n",
      " 94100  1  0\n",
      "100101  2  0\n",
      "100102  1  0\n",
      "103102  1  6\n",
      "103104  1  0\n",
      "104105  1  1\n",
      "104106  1  0\n",
      "106107  1  0\n",
      "103108  1  0\n",
      "108109  2  0\n",
      "108110  1  0\n",
      "110111  1  0\n",
      "111112  1  0\n",
      "112113  1  0\n",
      "113114  1  0\n",
      "110114  1  0\n",
      "114115  1  6\n",
      "115116  2  0\n",
      "115117  1  0\n",
      "118117  1  0\n",
      "118119  1  6\n",
      "119120  1  0\n",
      "120121  1  0\n",
      "121122  1  0\n",
      "121123  2  0\n",
      "118124  1  0\n",
      "124125  2  0\n",
      "124126  1  0\n",
      "127126  1  0\n",
      "127128  1  1\n",
      "128129  1  0\n",
      "129130  1  0\n",
      "130131  1  0\n",
      "130132  2  0\n",
      "127133  1  0\n",
      "133134  2  0\n",
      "133135  1  0\n",
      "136135  1  0\n",
      "136137  1  6\n",
      "137138  1  0\n",
      "138139  2  0\n",
      "139140  1  0\n",
      "140141  2  0\n",
      "141142  1  0\n",
      "141143  1  0\n",
      "143144  2  0\n",
      "138144  1  0\n",
      "136145  1  0\n",
      "145146  2  0\n",
      "145147  1  0\n",
      "148147  1  0\n",
      "148149  1  6\n",
      "149150  1  0\n",
      "150151  1  0\n",
      "150152  1  0\n",
      "148153  1  0\n",
      "153154  1  0\n",
      "153155  2  0\n",
      "M  END\n",
      "\n"
     ]
    }
   ],
   "source": [
    "print(Chem.MolToMolBlock(drugbank[0]))"
   ]
  },
  {
   "cell_type": "code",
   "execution_count": 29,
   "metadata": {},
   "outputs": [
    {
     "data": {
      "image/png": "[encoded data removed]",
      "text/plain": [
       "<PIL.Image.Image image mode=RGB size=1000x1000 at 0x1102016D8>"
      ]
     },
     "execution_count": 29,
     "metadata": {},
     "output_type": "execute_result"
    }
   ],
   "source": [
    "Draw.MolToImage(drugbank[0], size=(1000, 1000) )"
   ]
  },
  {
   "cell_type": "code",
   "execution_count": 30,
   "metadata": {},
   "outputs": [
    {
     "data": {
      "text/plain": [
       "['AddConformer',\n",
       " 'ClearComputedProps',\n",
       " 'ClearProp',\n",
       " 'Compute2DCoords',\n",
       " 'ComputeGasteigerCharges',\n",
       " 'Debug',\n",
       " 'GetAromaticAtoms',\n",
       " 'GetAtomWithIdx',\n",
       " 'GetAtoms',\n",
       " 'GetAtomsMatchingQuery',\n",
       " 'GetBondBetweenAtoms',\n",
       " 'GetBondWithIdx',\n",
       " 'GetBonds',\n",
       " 'GetBoolProp',\n",
       " 'GetConformer',\n",
       " 'GetConformers',\n",
       " 'GetDoubleProp',\n",
       " 'GetIntProp',\n",
       " 'GetNumAtoms',\n",
       " 'GetNumBonds',\n",
       " 'GetNumConformers',\n",
       " 'GetNumHeavyAtoms',\n",
       " 'GetProp',\n",
       " 'GetPropNames',\n",
       " 'GetPropsAsDict',\n",
       " 'GetRingInfo',\n",
       " 'GetSubstructMatch',\n",
       " 'GetSubstructMatches',\n",
       " 'GetUnsignedProp',\n",
       " 'HasProp',\n",
       " 'HasSubstructMatch',\n",
       " 'NeedsUpdatePropertyCache',\n",
       " 'RemoveAllConformers',\n",
       " 'RemoveConformer',\n",
       " 'SetBoolProp',\n",
       " 'SetDoubleProp',\n",
       " 'SetIntProp',\n",
       " 'SetProp',\n",
       " 'SetUnsignedProp',\n",
       " 'ToBinary',\n",
       " 'UpdatePropertyCache',\n",
       " '__class__',\n",
       " '__copy__',\n",
       " '__deepcopy__',\n",
       " '__delattr__',\n",
       " '__dict__',\n",
       " '__dir__',\n",
       " '__doc__',\n",
       " '__eq__',\n",
       " '__format__',\n",
       " '__ge__',\n",
       " '__getattribute__',\n",
       " '__getinitargs__',\n",
       " '__gt__',\n",
       " '__hash__',\n",
       " '__init__',\n",
       " '__instance_size__',\n",
       " '__le__',\n",
       " '__lt__',\n",
       " '__module__',\n",
       " '__ne__',\n",
       " '__new__',\n",
       " '__reduce__',\n",
       " '__reduce_ex__',\n",
       " '__repr__',\n",
       " '__safe_for_unpickling__',\n",
       " '__setattr__',\n",
       " '__sizeof__',\n",
       " '__str__',\n",
       " '__subclasshook__',\n",
       " '__weakref__']"
      ]
     },
     "execution_count": 30,
     "metadata": {},
     "output_type": "execute_result"
    }
   ],
   "source": [
    "dir(m)"
   ]
  },
  {
   "cell_type": "code",
   "execution_count": 32,
   "metadata": {},
   "outputs": [
    {
     "data": {
      "text/plain": [
       "[12.011, 12.011, 15.999]"
      ]
     },
     "execution_count": 32,
     "metadata": {},
     "output_type": "execute_result"
    }
   ],
   "source": [
    "[x.GetMass() for x in m.GetAtoms()]"
   ]
  },
  {
   "cell_type": "code",
   "execution_count": 39,
   "metadata": {},
   "outputs": [
    {
     "data": {
      "text/plain": [
       "['DATABASE_ID',\n",
       " 'DATABASE_NAME',\n",
       " 'SMILES',\n",
       " 'INCHI_IDENTIFIER',\n",
       " 'INCHI_KEY',\n",
       " 'FORMULA',\n",
       " 'MOLECULAR_WEIGHT',\n",
       " 'EXACT_MASS',\n",
       " 'JCHEM_ACCEPTOR_COUNT',\n",
       " 'JCHEM_AVERAGE_POLARIZABILITY',\n",
       " 'JCHEM_BIOAVAILABILITY',\n",
       " 'JCHEM_DONOR_COUNT',\n",
       " 'JCHEM_FORMAL_CHARGE',\n",
       " 'JCHEM_GHOSE_FILTER',\n",
       " 'JCHEM_IUPAC',\n",
       " 'ALOGPS_LOGP',\n",
       " 'JCHEM_LOGP',\n",
       " 'ALOGPS_LOGS',\n",
       " 'JCHEM_MDDR_LIKE_RULE',\n",
       " 'JCHEM_NUMBER_OF_RINGS',\n",
       " 'JCHEM_PHYSIOLOGICAL_CHARGE',\n",
       " 'JCHEM_PKA',\n",
       " 'JCHEM_PKA_STRONGEST_ACIDIC',\n",
       " 'JCHEM_PKA_STRONGEST_BASIC',\n",
       " 'JCHEM_POLAR_SURFACE_AREA',\n",
       " 'JCHEM_REFRACTIVITY',\n",
       " 'JCHEM_ROTATABLE_BOND_COUNT',\n",
       " 'JCHEM_RULE_OF_FIVE',\n",
       " 'ALOGPS_SOLUBILITY',\n",
       " 'JCHEM_TRADITIONAL_IUPAC',\n",
       " 'JCHEM_VEBER_RULE',\n",
       " 'DRUGBANK_ID',\n",
       " 'SECONDARY_ACCESSION_NUMBERS',\n",
       " 'DRUG_GROUPS',\n",
       " 'GENERIC_NAME',\n",
       " 'PRODUCTS']"
      ]
     },
     "execution_count": 39,
     "metadata": {},
     "output_type": "execute_result"
    }
   ],
   "source": [
    "[x for x in drugbank[0].GetPropNames()]"
   ]
  },
  {
   "cell_type": "code",
   "execution_count": 41,
   "metadata": {},
   "outputs": [
    {
     "data": {
      "text/plain": [
       "'InChI=1S/C98H138N24O33/c1-5-52(4)82(96(153)122-39-15-23-70(122)92(149)114-60(30-34-79(134)135)85(142)111-59(29-33-78(132)133)86(143)116-64(43-55-24-26-56(123)27-25-55)89(146)118-67(97(154)155)40-51(2)3)119-87(144)61(31-35-80(136)137)112-84(141)58(28-32-77(130)131)113-88(145)63(42-54-18-10-7-11-19-54)117-90(147)66(45-81(138)139)110-76(129)50-107-83(140)65(44-71(100)124)109-75(128)49-106-73(126)47-104-72(125)46-105-74(127)48-108-91(148)68-21-13-38-121(68)95(152)62(20-12-36-103-98(101)102)115-93(150)69-22-14-37-120(69)94(151)57(99)41-53-16-8-6-9-17-53/h6-11,16-19,24-27,51-52,57-70,82,123H,5,12-15,20-23,28-50,99H2,1-4H3,(H2,100,124)(H,104,125)(H,105,127)(H,106,126)(H,107,140)(H,108,148)(H,109,128)(H,110,129)(H,111,142)(H,112,141)(H,113,145)(H,114,149)(H,115,150)(H,116,143)(H,117,147)(H,118,146)(H,119,144)(H,130,131)(H,132,133)(H,134,135)(H,136,137)(H,138,139)(H,154,155)(H4,101,102,103)/t52-,57+,58-,59-,60-,61-,62-,63-,64-,65-,66-,67-,68-,69-,70-,82-/m0/s1'"
      ]
     },
     "execution_count": 41,
     "metadata": {},
     "output_type": "execute_result"
    }
   ],
   "source": [
    "drugbank[0].GetProp('INCHI_IDENTIFIER')"
   ]
  },
  {
   "cell_type": "code",
   "execution_count": 48,
   "metadata": {},
   "outputs": [],
   "source": [
    "rings = sum([Chem.GetSSSR(m) for m in drugbank])"
   ]
  },
  {
   "cell_type": "code",
   "execution_count": 52,
   "metadata": {},
   "outputs": [],
   "source": [
    "avg_rings = rings/len(drugbank)"
   ]
  },
  {
   "cell_type": "code",
   "execution_count": 53,
   "metadata": {},
   "outputs": [
    {
     "data": {
      "text/plain": [
       "2.466807313642757"
      ]
     },
     "execution_count": 53,
     "metadata": {},
     "output_type": "execute_result"
    }
   ],
   "source": [
    "avg_rings"
   ]
  },
  {
   "cell_type": "code",
   "execution_count": null,
   "metadata": {},
   "outputs": [],
   "source": []
  }
 ],
 "metadata": {
  "kernelspec": {
   "display_name": "Python 3",
   "language": "python",
   "name": "python3"
  },
  "language_info": {
   "codemirror_mode": {
    "name": "ipython",
    "version": 3
   },
   "file_extension": ".py",
   "mimetype": "text/x-python",
   "name": "python",
   "nbconvert_exporter": "python",
   "pygments_lexer": "ipython3",
   "version": "3.5.3"
  }
 },
 "nbformat": 4,
 "nbformat_minor": 2
}
